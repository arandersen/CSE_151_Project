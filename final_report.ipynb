{
 "cells": [
  {
   "cell_type": "markdown",
   "metadata": {},
   "source": [
    "# CSE 151A - (Final Report) : Cinematic Success Unveiled: A Data-Driven Analysis of the Film Industry"
   ]
  },
  {
   "cell_type": "markdown",
   "metadata": {},
   "source": [
    "# Names\n",
    "\n",
    "*   Arthur Andersen\n",
    "*   Bryan Tan\n",
    "*   Carlson Ricardo Salim\n",
    "*   Kenneth Hidayat\n",
    "*   Steven Sahar\n",
    "*   Ryan Paquia\n",
    "*   Noah Jaurigue"
   ]
  },
  {
   "cell_type": "markdown",
   "metadata": {},
   "source": [
    "# Introduction"
   ]
  },
  {
   "cell_type": "markdown",
   "metadata": {},
   "source": [
    "In the captivating world of cinema, movies not only serve as a source of entertainment but also as significant cultural and economic entities. The dynamics of movie success are influenced by a myriad of factors ranging from budget allocations to audience reception and critical acclaim. With the advent of data science and machine learning, the film industry now has the tools to unravel these complexities. Our project, leveraging advanced analytical techniques and machine learning models, aims to dissect the intricate web of variables that contribute to a movie's commercial success and critical reception. By analyzing comprehensive datasets, we strive to uncover the hidden patterns and relationships that can inform future filmmaking and marketing strategies, paving the way for a data-driven approach to cinematic art and commerce. Our investigation encompasses the following primary datasets,where it provides a valuable insights into different aspects of the movie world:\n",
    "\n",
    " **Kaggle Movies Dataset by Daniel Grijalvas**: This dataset contains extensive information about movies, including data on budget, revenue, and ratings."
   ]
  },
  {
   "cell_type": "markdown",
   "metadata": {},
   "source": [
    "### Objective"
   ]
  },
  {
   "cell_type": "markdown",
   "metadata": {},
   "source": [
    "Our objective is to employ a rigorous analytical approach to uncover intricate relationships between various factors in the film industry. Specifically, we seek to:\n",
    "\n",
    "- Investigate the correlation between movie budgets and box office performance, offering insights into the financial dynamics of movie production.\n",
    "- Analyze the impact of both critical and commercial reception on a movie's financial outcomes, identifying what makes a movie resonate with audiences and critics alike.\n",
    "- Uncover trends in audience preferences across different eras, contributing to a better understanding of changing tastes and expectations.\n",
    "- Employ machine learning models to predict commercial success and audience reception, aiding stakeholders in making informed decisions."
   ]
  },
  {
   "cell_type": "markdown",
   "metadata": {},
   "source": [
    "### Research Question"
   ]
  },
  {
   "cell_type": "markdown",
   "metadata": {},
   "source": [
    "Through this multidimensional analysis, our research group endeavors to provide a holistic understanding of the factors contributing to a movie's success, encompassing both its commercial and critical acclaim. Our findings aim to offer valuable insights to stakeholders involved in the filmmaking process, marketing, and industry analysis."
   ]
  },
  {
   "cell_type": "markdown",
   "metadata": {},
   "source": [
    "### Why This Project Was Chosen?"
   ]
  },
  {
   "cell_type": "markdown",
   "metadata": {},
   "source": [
    "This project was chosen due to its unique blend of cultural significance and analytical challenge. Movies are a universal form of storytelling that reflects societal values, trends, and aspirations. By applying data science in this context, we delve into the heart of what connects audiences to the film medium, offering tangible insights into an industry that combines creativity with commerce. This interdisciplinary approach not only pushes the boundaries of conventional movie analysis but also opens up new avenues for applying machine learning in the arts and entertainment sector."
   ]
  },
  {
   "cell_type": "markdown",
   "metadata": {},
   "source": [
    "### Why Is It Cool?"
   ]
  },
  {
   "cell_type": "markdown",
   "metadata": {},
   "source": [
    "The fusion of machine learning and movie analytics represents an exciting frontier in both data science and film studies. It's cool because it allows us to quantitatively dissect an inherently creative and subjective field, offering a bridge between art and science. This project embodies the potential of machine learning to enhance our understanding and appreciation of cultural products, revealing the underlying patterns that guide consumer preferences and industry success."
   ]
  },
  {
   "cell_type": "markdown",
   "metadata": {},
   "source": [
    "### Why Is It Important?"
   ]
  },
  {
   "cell_type": "markdown",
   "metadata": {},
   "source": [
    "This project is important because it offers actionable insights that can transform the film industry. By identifying the factors that contribute to a movie's success, filmmakers, producers, and marketers can tailor their strategies to better meet audience expectations and optimize financial outcomes. Furthermore, this research enriches our cultural understanding by highlighting trends and preferences in film, contributing to a deeper appreciation of cinema as an art form."
   ]
  },
  {
   "cell_type": "markdown",
   "metadata": {},
   "source": [
    "# Figures"
   ]
  },
  {
   "cell_type": "markdown",
   "metadata": {},
   "source": [
    "In our study, we explore the nexus of film economics and critical success within the realm of entertainment analytics. Our focus is on deciphering how budget allocations and gross revenue impact movie ratings, with the goal of unveiling patterns and insights that could guide producers, marketers, and stakeholders in navigating the financial and creative aspects of the film industry. By employing both a polynomial regression model and a neural network, we aim to dissect the intricate dynamics at play, providing a comprehensive understanding that goes beyond mere surface-level correlations. This endeavor not only enriches academic discussions in film studies but also equips industry practitioners with data-driven insights for strategic decision-making in movie production and distribution.\n",
    "\n",
    "For a detailed examination of our analytical models, please refer to the following resources:\n",
    "\n",
    "- Neural Network Analysis: [Explore the Neural Network Model](https://colab.research.google.com/drive/1C9Mwf1J2ril1Q4l6n2BjQMb8YaFySG5_?usp=sharing#scrollTo=2zFcNpKzjEhY)\n",
    "- Polynomial Regression Insights: [Dive into the Polynomial Regression Model](https://colab.research.google.com/drive/1qJACT9ZokWtD22lQeOtTRRe_XmRPq0q_?usp=sharing)\n",
    "- Decision Tree Classifier Observations:\n",
    "  - [View Decision Tree Classifier Model 1](https://colab.research.google.com/drive/1PKweOlRDaFI8GZ222odxu2pztfsBV98l?usp=sharing)\n",
    "  - [Explore Decision Tree Classifier Model 2](https://colab.research.google.com/drive/1OptVsB2DknM0rG3sQdZ-BIz7Vseu5fum?usp=sharing)\n",
    "\n",
    "This streamlined approach enhances readability and accessibility, ensuring that your audience can easily navigate to the specific models and analyses that underpin your study."
   ]
  },
  {
   "cell_type": "code",
   "execution_count": null,
   "metadata": {
    "id": "eb_P-vOyV2qz"
   },
   "outputs": [],
   "source": [
    "import pandas as pd\n",
    "import numpy as np\n",
    "import matplotlib.pyplot as plt\n",
    "import seaborn as sns\n",
    "from sklearn import datasets\n",
    "from sklearn.model_selection import cross_val_score\n",
    "from sklearn.linear_model import LinearRegression\n",
    "from sklearn.metrics import mean_squared_error, r2_score\n",
    "from sklearn.model_selection import train_test_split\n",
    "from sklearn.preprocessing import MinMaxScaler, StandardScaler, OneHotEncoder\n",
    "import statsmodels.api as sm\n",
    "from scipy import stats\n",
    "from scipy.stats import boxcox\n",
    "from sklearn.metrics import confusion_matrix, accuracy_score, mean_squared_error, precision_score, recall_score\n",
    "from tensorflow.keras.models import Sequential\n",
    "from tensorflow.keras.layers import Dense\n",
    "from tensorflow.keras.optimizers import SGD\n",
    "from scikeras.wrappers import KerasClassifier\n",
    "from sklearn.model_selection import RepeatedKFold, cross_validate\n",
    "import kerastuner as kt\n",
    "from tensorflow import keras\n",
    "from tensorflow.keras import layers"
   ]
  },
  {
   "cell_type": "code",
   "execution_count": null,
   "metadata": {},
   "outputs": [],
   "source": [
    "pip install tensorflow"
   ]
  },
  {
   "cell_type": "markdown",
   "metadata": {
    "id": "dzHqhwENV2q4"
   },
   "source": [
    "# Data Cleaning (KaggleMovies.csv)"
   ]
  },
  {
   "cell_type": "markdown",
   "metadata": {},
   "source": [
    "df is going to have all of our data about each movies"
   ]
  },
  {
   "cell_type": "code",
   "execution_count": null,
   "metadata": {
    "colab": {
     "base_uri": "https://localhost:8080/",
     "height": 328
    },
    "id": "jkdvH2YNV2q7",
    "outputId": "3144f991-3069-4222-f27e-03ac0079734d"
   },
   "outputs": [],
   "source": [
    "# Read the dataset\n",
    "df = pd.read_csv('Datasets/KaggleMovies.csv')\n",
    "pd.set_option('float_format', '{:f}'.format)\n",
    "pd.set_option('display.precision', 2)\n",
    "df.head()"
   ]
  },
  {
   "cell_type": "code",
   "execution_count": null,
   "metadata": {
    "id": "MmOp3uAsV2q7"
   },
   "outputs": [],
   "source": [
    "# Renaming columns\n",
    "column_mapping = {\n",
    "    'name' : 'Name',\n",
    "    'rating' : 'Rating',\n",
    "    'genre' : 'Genre',\n",
    "    'year' : 'Year',\n",
    "    'released' : 'Released',\n",
    "    'score' : 'Score',\n",
    "    'votes' : 'Votes',\n",
    "    'director' : 'Director',\n",
    "    'writer' : 'Writer',\n",
    "    'star' : 'Star',\n",
    "    'country' : 'Country',\n",
    "    'budget' : 'Budget',\n",
    "    'gross' : 'Gross Revenue',\n",
    "    'company' : 'Company',\n",
    "    'runtime' : 'Runtime'\n",
    "}\n",
    "\n",
    "df = df.rename(columns=column_mapping)"
   ]
  },
  {
   "cell_type": "code",
   "execution_count": null,
   "metadata": {
    "colab": {
     "base_uri": "https://localhost:8080/"
    },
    "id": "3SJUA4qtV2q8",
    "outputId": "9daa334d-b255-41c7-96c3-18ab87ea0ea1"
   },
   "outputs": [],
   "source": [
    "# Check for empty spaces\n",
    "print(f\"Shape: {df.shape}\\n\")\n",
    "isna = df.isna().sum(axis=0)\n",
    "isna"
   ]
  },
  {
   "cell_type": "code",
   "execution_count": null,
   "metadata": {
    "colab": {
     "base_uri": "https://localhost:8080/"
    },
    "id": "8cd74dCFV2q8",
    "outputId": "6b378832-c5c3-4410-9eca-c17d218dc544"
   },
   "outputs": [],
   "source": [
    "# Remove rows with null values\n",
    "df = df.dropna()\n",
    "print(f\"Shape: {df.shape}\\n\")\n",
    "print(df.isna().sum(axis=0))"
   ]
  },
  {
   "cell_type": "code",
   "execution_count": null,
   "metadata": {
    "colab": {
     "base_uri": "https://localhost:8080/",
     "height": 365
    },
    "id": "Bncy_-emV2q9",
    "outputId": "e27c879c-1cd5-4146-c0a0-99166af43fbe"
   },
   "outputs": [],
   "source": [
    "# Convert certain columns to appropiate data types\n",
    "df.loc[:,['Votes', 'Budget', 'Runtime', 'Gross Revenue']] = df[['Votes', 'Budget', 'Runtime', 'Gross Revenue']].astype('int')\n",
    "df.loc[:,'Score'] = df['Score'].apply(lambda x: float(\"{:.2f}\".format(x)))\n",
    "df.head()"
   ]
  },
  {
   "cell_type": "code",
   "execution_count": null,
   "metadata": {
    "colab": {
     "base_uri": "https://localhost:8080/"
    },
    "id": "HYPblPO09Hcr",
    "outputId": "52aaee3c-ccf8-4b0f-99b2-cc63cfa3753b"
   },
   "outputs": [],
   "source": [
    "print(df.dtypes)"
   ]
  },
  {
   "cell_type": "code",
   "execution_count": null,
   "metadata": {
    "colab": {
     "base_uri": "https://localhost:8080/"
    },
    "id": "38LFY_LOgZL_",
    "outputId": "67a20ef0-863d-4ed0-d67b-e75087afcabf"
   },
   "outputs": [],
   "source": [
    "# Check number of unique movie names\n",
    "len(df['Name'].unique())"
   ]
  },
  {
   "cell_type": "code",
   "execution_count": null,
   "metadata": {
    "colab": {
     "base_uri": "https://localhost:8080/",
     "height": 345
    },
    "id": "Fgm1UuIbgukg",
    "outputId": "bde02f6c-8de4-4b18-eeee-f3e1ccec2b42"
   },
   "outputs": [],
   "source": [
    "#Drop duplicate movie names\n",
    "df = df.drop_duplicates(subset=['Name'], keep='first')\n",
    "print(f\"Shape: {df.shape}\\n\")\n",
    "df.head()"
   ]
  },
  {
   "cell_type": "markdown",
   "metadata": {},
   "source": [
    "df now contains movies that are unique and have no empty values on any of its attributes"
   ]
  },
  {
   "cell_type": "markdown",
   "metadata": {
    "id": "b5dFi6Qa1dlK"
   },
   "source": [
    "### Univariate Analysis (Numerical Variables)"
   ]
  },
  {
   "cell_type": "code",
   "execution_count": null,
   "metadata": {
    "colab": {
     "base_uri": "https://localhost:8080/",
     "height": 300
    },
    "id": "gAbQ72UBkOoE",
    "outputId": "4beaec7f-c7c6-41a0-d3e0-dc1c76a33733"
   },
   "outputs": [],
   "source": [
    "df.describe()"
   ]
  },
  {
   "cell_type": "code",
   "execution_count": null,
   "metadata": {
    "colab": {
     "base_uri": "https://localhost:8080/",
     "height": 880
    },
    "id": "KFhW43DtrxOO",
    "outputId": "d36cc866-dad5-4e4e-d641-7884cffc91f6"
   },
   "outputs": [],
   "source": [
    "#Univariate Analysis of Year\n",
    "plt.figure(figsize=(14, 4))\n",
    "\n",
    "#histogram\n",
    "plt.subplot(1, 2, 1)\n",
    "sns.histplot(df['Year'], kde=True, stat='density')\n",
    "plt.title('Distribution of Year')\n",
    "plt.xlabel('Year')\n",
    "plt.ylabel('Density')\n",
    "plt.show()\n",
    "\n",
    "#Q-Q plot\n",
    "plt.subplot(1, 2, 2)\n",
    "stats.probplot(df['Year'], dist=\"norm\", plot=plt)\n",
    "plt.title('Q-Q Plot of Year')\n",
    "plt.xlabel('Theoretical Quantiles')\n",
    "plt.ylabel('Ordered Values')\n",
    "\n",
    "plt.tight_layout()\n",
    "\n",
    "plt.show()"
   ]
  },
  {
   "cell_type": "markdown",
   "metadata": {},
   "source": [
    "Here is our graphs representing the univariate analysis of 'Year'"
   ]
  },
  {
   "cell_type": "code",
   "execution_count": null,
   "metadata": {
    "colab": {
     "base_uri": "https://localhost:8080/",
     "height": 880
    },
    "id": "tgA1M_wlhPdC",
    "outputId": "40718f0e-732f-4e28-cbc5-231f83294286"
   },
   "outputs": [],
   "source": [
    "#Univariate Analysis of Votes\n",
    "plt.figure(figsize=(14, 4))\n",
    "\n",
    "#histogram\n",
    "plt.subplot(1, 2, 1)\n",
    "sns.histplot(df['Votes'], kde=True, stat='density')\n",
    "plt.title('Distribution of Votes')\n",
    "plt.xlabel('Votes')\n",
    "plt.ylabel('Density')\n",
    "plt.show()\n",
    "\n",
    "#Q-Q plot\n",
    "plt.subplot(1, 2, 2)\n",
    "stats.probplot(df['Votes'], dist=\"norm\", plot=plt)\n",
    "plt.title('Q-Q Plot of Votes')\n",
    "plt.xlabel('Theoretical Quantiles')\n",
    "plt.ylabel('Ordered Values')\n",
    "\n",
    "plt.tight_layout()\n",
    "plt.show()"
   ]
  },
  {
   "cell_type": "markdown",
   "metadata": {},
   "source": [
    "Here is our graphs representing the univariate analysis of 'Votes'"
   ]
  },
  {
   "cell_type": "code",
   "execution_count": null,
   "metadata": {
    "colab": {
     "base_uri": "https://localhost:8080/",
     "height": 880
    },
    "id": "vHaH3whytMKo",
    "outputId": "d1e853ff-dcfc-4abe-dc40-56d27b99d316"
   },
   "outputs": [],
   "source": [
    "#Normalize the right skewed data\n",
    "df['Votes'], lambda_votes = boxcox(df['Votes'])\n",
    "\n",
    "plt.figure(figsize=(14, 4))\n",
    "\n",
    "#histogram\n",
    "plt.subplot(1, 2, 1)\n",
    "sns.histplot(df['Votes'], kde=True, stat='density')\n",
    "plt.title('Distribution of Votes')\n",
    "plt.xlabel('Votes')\n",
    "plt.ylabel('Density')\n",
    "plt.show()\n",
    "\n",
    "#Q-Q plot\n",
    "plt.subplot(1, 2, 2)\n",
    "stats.probplot(df['Votes'], dist=\"norm\", plot=plt)\n",
    "plt.title('Q-Q Plot of Votes')\n",
    "plt.xlabel('Theoretical Quantiles')\n",
    "plt.ylabel('Ordered Values')\n",
    "\n",
    "plt.tight_layout()\n",
    "plt.show()"
   ]
  },
  {
   "cell_type": "markdown",
   "metadata": {},
   "source": [
    "Here is our graphs representing the univariate analysis of 'Votes' after normalizing our data"
   ]
  },
  {
   "cell_type": "code",
   "execution_count": null,
   "metadata": {
    "colab": {
     "base_uri": "https://localhost:8080/",
     "height": 880
    },
    "id": "8F1rG_g_u4a3",
    "outputId": "f6110ecd-2f89-4016-ecfc-7bfa746163ba"
   },
   "outputs": [],
   "source": [
    "#Univariate Analysis of Gross Revenue\n",
    "plt.figure(figsize=(14, 4))\n",
    "\n",
    "#histogram\n",
    "plt.subplot(1, 2, 1)\n",
    "sns.histplot(df['Gross Revenue'], kde=True, stat='density')\n",
    "plt.title('Distribution of Gross Revenue')\n",
    "plt.xlabel('Gross Revenue')\n",
    "plt.ylabel('Density')\n",
    "plt.show()\n",
    "\n",
    "#Q-Q plot\n",
    "plt.subplot(1, 2, 2)\n",
    "stats.probplot(df['Gross Revenue'], dist=\"norm\", plot=plt)\n",
    "plt.title('Q-Q Plot of Gross Revenue')\n",
    "plt.xlabel('Theoretical Quantiles')\n",
    "plt.ylabel('Ordered Values')\n",
    "\n",
    "plt.tight_layout()\n",
    "plt.show()"
   ]
  },
  {
   "cell_type": "markdown",
   "metadata": {},
   "source": [
    "Here is our graphs representing the univariate analysis of 'Gross Revenue'"
   ]
  },
  {
   "cell_type": "code",
   "execution_count": null,
   "metadata": {
    "colab": {
     "base_uri": "https://localhost:8080/",
     "height": 880
    },
    "id": "3WfcjKbR0hJB",
    "outputId": "399e5067-060e-4208-eda0-8e1ed5aa3683"
   },
   "outputs": [],
   "source": [
    "#Normalize the right skewed data\n",
    "df['Gross Revenue'], lambda_gross = boxcox(df['Gross Revenue'])\n",
    "plt.figure(figsize=(14, 4))\n",
    "\n",
    "#histogram\n",
    "plt.subplot(1, 2, 1)\n",
    "sns.histplot(df['Gross Revenue'], kde=True, stat='density')\n",
    "plt.title('Distribution of Gross Revenue')\n",
    "plt.xlabel('Gross Revenue')\n",
    "plt.ylabel('Density')\n",
    "plt.show()\n",
    "\n",
    "#Q-Q plot\n",
    "plt.subplot(1, 2, 2)\n",
    "stats.probplot(df['Gross Revenue'], dist=\"norm\", plot=plt)\n",
    "plt.title('Q-Q Plot of Gross Revenue')\n",
    "plt.xlabel('Theoretical Quantiles')\n",
    "plt.ylabel('Ordered Values')\n",
    "\n",
    "plt.tight_layout()\n",
    "plt.show()"
   ]
  },
  {
   "cell_type": "markdown",
   "metadata": {},
   "source": [
    "Here is our graphs representing the univariate analysis of 'Gross Revenue' after normalizing it"
   ]
  },
  {
   "cell_type": "code",
   "execution_count": null,
   "metadata": {
    "colab": {
     "base_uri": "https://localhost:8080/",
     "height": 880
    },
    "id": "91PDv-6K2RZH",
    "outputId": "6be92c90-bee1-497e-d75f-fe867c73eb16"
   },
   "outputs": [],
   "source": [
    "#Univariate Analysis of Budget\n",
    "plt.figure(figsize=(14, 4))\n",
    "\n",
    "#histogram\n",
    "plt.subplot(1, 2, 1)\n",
    "sns.histplot(df['Budget'], kde=True, stat='density')\n",
    "plt.title('Distribution of Budget')\n",
    "plt.xlabel('Budget')\n",
    "plt.ylabel('Density')\n",
    "plt.show()\n",
    "\n",
    "#Q-Q plot\n",
    "plt.subplot(1, 2, 2)\n",
    "stats.probplot(df['Budget'], dist=\"norm\", plot=plt)\n",
    "plt.title('Q-Q Plot of Budget')\n",
    "plt.xlabel('Theoretical Quantiles')\n",
    "plt.ylabel('Ordered Values')\n",
    "\n",
    "plt.tight_layout()\n",
    "plt.show()"
   ]
  },
  {
   "cell_type": "markdown",
   "metadata": {},
   "source": [
    "Here is our graphs representing the univariate analysis of 'Budget'"
   ]
  },
  {
   "cell_type": "code",
   "execution_count": null,
   "metadata": {
    "colab": {
     "base_uri": "https://localhost:8080/",
     "height": 880
    },
    "id": "9gK_Yub-77Xa",
    "outputId": "8e1baa18-3bbd-425a-8849-ff64ee636878"
   },
   "outputs": [],
   "source": [
    "#Univariate Analysis of Runtime\n",
    "plt.figure(figsize=(14, 4))\n",
    "\n",
    "#histogram\n",
    "plt.subplot(1, 2, 1)\n",
    "sns.histplot(df['Runtime'], kde=True, stat='density')\n",
    "plt.title('Distribution of Runtime')\n",
    "plt.xlabel('Runtime')\n",
    "plt.ylabel('Density')\n",
    "plt.show()\n",
    "\n",
    "#Q-Q plot\n",
    "plt.subplot(1, 2, 2)\n",
    "stats.probplot(df['Runtime'], dist=\"norm\", plot=plt)\n",
    "plt.title('Q-Q Plot of Runtime')\n",
    "plt.xlabel('Theoretical Quantiles')\n",
    "plt.ylabel('Ordered Values')\n",
    "\n",
    "plt.tight_layout()\n",
    "plt.show()"
   ]
  },
  {
   "cell_type": "markdown",
   "metadata": {},
   "source": [
    "Here is our graphs representing the univariate analysis of 'Runtime'"
   ]
  },
  {
   "cell_type": "code",
   "execution_count": null,
   "metadata": {
    "colab": {
     "base_uri": "https://localhost:8080/",
     "height": 880
    },
    "id": "hpRTfGkz03h1",
    "outputId": "d29c9570-2774-4c98-8341-fb226e06a02f"
   },
   "outputs": [],
   "source": [
    "df['Budget'] = df['Budget'].apply(lambda x: 250000000 if x > 250000000 else x)\n",
    "\n",
    "plt.figure(figsize=(14, 4))\n",
    "\n",
    "#histogram\n",
    "plt.subplot(1, 2, 1)\n",
    "sns.histplot(df['Budget'], kde=True, stat='density')\n",
    "plt.title('Distribution of Budget')\n",
    "plt.xlabel('Budget')\n",
    "plt.ylabel('Density')\n",
    "plt.show()\n",
    "\n",
    "#Q-Q plot\n",
    "plt.subplot(1, 2, 2)\n",
    "stats.probplot(df['Budget'], dist=\"norm\", plot=plt)\n",
    "plt.title('Q-Q Plot of Budget')\n",
    "plt.xlabel('Theoretical Quantiles')\n",
    "plt.ylabel('Ordered Values')\n",
    "\n",
    "plt.tight_layout()\n",
    "plt.show()\n"
   ]
  },
  {
   "cell_type": "markdown",
   "metadata": {},
   "source": [
    "Here is our graphs representing the univariate analysis of 'Budget' after we cap the values above 250,000,000 to 250,000,000"
   ]
  },
  {
   "cell_type": "markdown",
   "metadata": {
    "id": "647IEk6c10zf"
   },
   "source": [
    "### Univariate Analysis (Categorical Variables)"
   ]
  },
  {
   "cell_type": "code",
   "execution_count": null,
   "metadata": {
    "colab": {
     "base_uri": "https://localhost:8080/"
    },
    "id": "WEZgB2BG1OzA",
    "outputId": "da74795b-3fe6-44c4-e940-d5556c46be3b"
   },
   "outputs": [],
   "source": [
    "print(\"Unique Value Count of Categorical Variables\")\n",
    "print(\"Rating:\", len(df['Rating'].unique()))\n",
    "print(\"Genre:\",len(df['Genre'].unique()))\n",
    "print(\"Director:\",len(df['Director'].unique()))\n",
    "print(\"Writer:\",len(df['Writer'].unique()))\n",
    "print(\"Star:\",len(df['Star'].unique()))\n",
    "print(\"Country:\",len(df['Country'].unique()))\n",
    "print(\"Company:\",len(df['Company'].unique()))"
   ]
  },
  {
   "cell_type": "code",
   "execution_count": null,
   "metadata": {
    "colab": {
     "base_uri": "https://localhost:8080/",
     "height": 489
    },
    "id": "Qw6i78Sq1793",
    "outputId": "ced0f693-f99e-4797-832a-8c9fb1838bdd"
   },
   "outputs": [],
   "source": [
    "score_by_rating = df.groupby(\"Rating\")[\"Score\"].mean().sort_values(ascending=True)\n",
    "\n",
    "plt.barh(score_by_rating.index, score_by_rating.values)\n",
    "plt.xlabel('Mean Score')\n",
    "plt.ylabel('Rating')\n",
    "plt.title('Mean Score by Rating')"
   ]
  },
  {
   "cell_type": "markdown",
   "metadata": {},
   "source": [
    "This horizontal bar chart displays the average scores for different content ratings of movies."
   ]
  },
  {
   "cell_type": "code",
   "execution_count": null,
   "metadata": {
    "colab": {
     "base_uri": "https://localhost:8080/",
     "height": 489
    },
    "id": "iF_Hc92t17qo",
    "outputId": "9a782939-e4c7-492b-cd68-d924b585b743"
   },
   "outputs": [],
   "source": [
    "score_by_genre = df.groupby(\"Genre\")[\"Score\"].mean().sort_values(ascending=True)[len(df['Genre'].unique()) - 10 :]\n",
    "\n",
    "plt.barh(score_by_genre.index, score_by_genre.values)\n",
    "plt.xlabel('Mean Score')\n",
    "plt.ylabel('Genre')\n",
    "plt.title('Mean Score by Genre')"
   ]
  },
  {
   "cell_type": "markdown",
   "metadata": {},
   "source": [
    "This horizontal bar chart displays the average scores for different movie genres."
   ]
  },
  {
   "cell_type": "code",
   "execution_count": null,
   "metadata": {
    "colab": {
     "base_uri": "https://localhost:8080/",
     "height": 489
    },
    "id": "rgtejCPrwUHQ",
    "outputId": "e6652c57-f349-4cf1-a1f7-ad78a88880be"
   },
   "outputs": [],
   "source": [
    "count_by_genre = df.groupby(\"Genre\")[\"Score\"].count().sort_values(ascending=True)[len(df['Genre'].unique()) - 10 :]\n",
    "\n",
    "plt.barh(count_by_genre.index, count_by_genre.values)\n",
    "plt.xlabel('Count')\n",
    "plt.ylabel('Genre')\n",
    "plt.title('Count by Genre')"
   ]
  },
  {
   "cell_type": "markdown",
   "metadata": {},
   "source": [
    "The bar chart illustrates the distribution across various genres of movies."
   ]
  },
  {
   "cell_type": "code",
   "execution_count": null,
   "metadata": {
    "colab": {
     "base_uri": "https://localhost:8080/",
     "height": 489
    },
    "id": "4TdgG6wg5ITM",
    "outputId": "8a3b0427-0dfe-45ed-df29-c9e0a90eacf4"
   },
   "outputs": [],
   "source": [
    "score_by_country = df.groupby(\"Country\")[\"Score\"].mean().sort_values(ascending=True)[len(df['Country'].unique()) - 10 :]\n",
    "\n",
    "plt.barh(score_by_country.index, score_by_country.values)\n",
    "plt.xlabel('Mean Score')\n",
    "plt.ylabel('Country')\n",
    "plt.title('Mean Score by Country')"
   ]
  },
  {
   "cell_type": "markdown",
   "metadata": {},
   "source": [
    "This horizontal bar chart displays the average scores of movies released by various countries."
   ]
  },
  {
   "cell_type": "code",
   "execution_count": null,
   "metadata": {
    "colab": {
     "base_uri": "https://localhost:8080/",
     "height": 489
    },
    "id": "OtkH2CSq5x2j",
    "outputId": "4fba28d8-2280-4997-ba69-90ba1ac29267"
   },
   "outputs": [],
   "source": [
    "count_by_country = df.groupby(\"Country\")[\"Score\"].count().sort_values(ascending=True)[len(df['Country'].unique()) - 10 :]\n",
    "\n",
    "plt.barh(count_by_country.index, count_by_country.values)\n",
    "plt.xlabel('Count')\n",
    "plt.ylabel('Country')\n",
    "plt.title('Count by Country')"
   ]
  },
  {
   "cell_type": "markdown",
   "metadata": {},
   "source": [
    "This horizontal bar chart displays the number of movies released by various countries."
   ]
  },
  {
   "cell_type": "code",
   "execution_count": null,
   "metadata": {
    "colab": {
     "base_uri": "https://localhost:8080/",
     "height": 489
    },
    "id": "jkdcKV2UvcZ4",
    "outputId": "76a7f3d8-042c-4b2b-d7f1-712d918c3922"
   },
   "outputs": [],
   "source": [
    "score_by_company = df.groupby(\"Company\")[\"Score\"].mean().sort_values(ascending=True)[len(df['Company'].unique()) - 10 :]\n",
    "\n",
    "plt.barh(score_by_company.index, score_by_company.values)\n",
    "plt.xlabel('Mean Score')\n",
    "plt.ylabel('Company')\n",
    "plt.title('Mean Score by Company')"
   ]
  },
  {
   "cell_type": "markdown",
   "metadata": {},
   "source": [
    "This horizontal bar chart displays the average score released by various companies ordered from highest to lowest."
   ]
  },
  {
   "cell_type": "code",
   "execution_count": null,
   "metadata": {
    "colab": {
     "base_uri": "https://localhost:8080/",
     "height": 489
    },
    "id": "9dSyplM5vxkX",
    "outputId": "2cd1c96f-1e78-4118-f52e-1cee9c797a9b"
   },
   "outputs": [],
   "source": [
    "score_by_company = df.groupby(\"Company\")[\"Score\"].mean().sort_values(ascending=False)[len(df['Company'].unique()) - 10 :]\n",
    "\n",
    "plt.barh(score_by_company.index, score_by_company.values)\n",
    "plt.xlabel('Mean Score')\n",
    "plt.ylabel('Company')\n",
    "plt.title('Mean Score by Company')"
   ]
  },
  {
   "cell_type": "markdown",
   "metadata": {},
   "source": [
    "This horizontal bar chart displays the average score released by various companies ordered in lowest to highest."
   ]
  },
  {
   "cell_type": "code",
   "execution_count": null,
   "metadata": {
    "colab": {
     "base_uri": "https://localhost:8080/",
     "height": 489
    },
    "id": "Ejo4mSdmv1vS",
    "outputId": "ea064a19-f6bd-44de-ebd8-d9dc1a1fc7d6"
   },
   "outputs": [],
   "source": [
    "score_by_company = df.groupby(\"Company\")[\"Score\"].count().sort_values(ascending=True)[len(df['Company'].unique()) - 10 :]\n",
    "\n",
    "plt.barh(score_by_company.index, score_by_company.values)\n",
    "plt.xlabel('Count')\n",
    "plt.ylabel('Company')\n",
    "plt.title('Count by Company')"
   ]
  },
  {
   "cell_type": "markdown",
   "metadata": {},
   "source": [
    "This horizontal bar chart displays the total count released by various companies."
   ]
  },
  {
   "cell_type": "markdown",
   "metadata": {
    "id": "vcbLv5ZjuygT"
   },
   "source": [
    "### Data Transformation\n"
   ]
  },
  {
   "cell_type": "code",
   "execution_count": null,
   "metadata": {
    "colab": {
     "base_uri": "https://localhost:8080/",
     "height": 551
    },
    "id": "lHrWpxIJ5atz",
    "outputId": "9e88230e-c5ae-44d7-ca94-a7805b467040"
   },
   "outputs": [],
   "source": [
    "# Instantiating MinMaxScaler and StandardScaler\n",
    "scaler_minmax = MinMaxScaler()\n",
    "scaler_std = StandardScaler()\n",
    "\n",
    "# Scaling the columns\n",
    "df[['Budget']] = scaler_minmax.fit_transform(df[['Budget']])\n",
    "df[['Votes', 'Gross Revenue', 'Runtime']] = scaler_std.fit_transform(df[['Votes', 'Gross Revenue', 'Runtime']])\n",
    "\n",
    "# Performing one-hot encoding on 'Rating', 'Genre', and 'Country' columns\n",
    "oneHot = pd.get_dummies(df[['Rating', 'Genre', 'Country']], columns=['Rating', 'Genre', 'Country'])\n",
    "df = pd.concat([df, oneHot], axis=1)\n",
    "df.head()\n"
   ]
  },
  {
   "cell_type": "markdown",
   "metadata": {
    "id": "a7iplva8053x"
   },
   "source": [
    "### Bivariate Analysis"
   ]
  },
  {
   "cell_type": "code",
   "execution_count": null,
   "metadata": {
    "colab": {
     "base_uri": "https://localhost:8080/",
     "height": 472
    },
    "id": "HhWUXeHd0-Al",
    "outputId": "26635518-18c3-4b7d-f897-892da9e2c3ce"
   },
   "outputs": [],
   "source": [
    "sns.lineplot(data=df, x=\"Year\", y=\"Score\")\n",
    "\n",
    "plt.title('Score Throughout the Years')\n",
    "plt.xlabel('Years')\n",
    "plt.ylabel('Score')\n",
    "\n",
    "# Show the plot\n",
    "plt.show()"
   ]
  },
  {
   "cell_type": "markdown",
   "metadata": {},
   "source": [
    "This is our graph representing the Bivariate analysis of 'Score' throughout the years"
   ]
  },
  {
   "cell_type": "code",
   "execution_count": null,
   "metadata": {
    "colab": {
     "base_uri": "https://localhost:8080/",
     "height": 699
    },
    "id": "YqSPWnMr7y-u",
    "outputId": "c7d109a3-afb3-48ab-9549-49ae9dad71a8"
   },
   "outputs": [],
   "source": [
    "correlation_matrix = df[[\"Year\", 'Score', \"Votes\", \"Budget\", \"Gross Revenue\", \"Runtime\"]].corr()\n",
    "\n",
    "plt.figure(figsize=(10, 8))\n",
    "sns.heatmap(correlation_matrix, annot=True, cmap='coolwarm', fmt=\".2f\", linewidths=.5)\n",
    "plt.title('Correlation Matrix of Numerical Variables')\n",
    "plt.show()"
   ]
  },
  {
   "cell_type": "markdown",
   "metadata": {},
   "source": [
    "# Training Model 1: Polynomial Regression"
   ]
  },
  {
   "cell_type": "markdown",
   "metadata": {},
   "source": [
    "This is our correlation matrix of attributes that have numerical values"
   ]
  },
  {
   "cell_type": "code",
   "execution_count": null,
   "metadata": {
    "colab": {
     "base_uri": "https://localhost:8080/",
     "height": 472
    },
    "id": "0GU3wQ3G0cbT",
    "outputId": "2fca679f-e1ec-42ff-9e20-bdcfd860308c"
   },
   "outputs": [],
   "source": [
    "from sklearn.preprocessing import PolynomialFeatures\n",
    "from sklearn import linear_model\n",
    "\n",
    "df_BGR = df[['Budget', 'Gross Revenue']]\n",
    "X1_train, X1_test, y1_train, y1_test = train_test_split(df_BGR.Budget, df_BGR.drop(['Budget'], axis=1), test_size=0.2, random_state=21)\n",
    "\n",
    "train = pd.concat([X1_train, y1_train], axis=1)\n",
    "train = train.sort_values(by=['Budget'])\n",
    "budget = train[['Budget']]\n",
    "grossRevenue = train[['Gross Revenue']]\n",
    "\n",
    "# 2 Degrees\n",
    "poly2 = PolynomialFeatures(degree=2, include_bias=False)\n",
    "polyX = poly2.fit_transform(budget)\n",
    "\n",
    "linear = linear_model.LinearRegression()\n",
    "linear.fit(polyX, grossRevenue)\n",
    "yhat = linear.predict(polyX)\n",
    "\n",
    "sns.scatterplot(data=df, x=\"Budget\", y=\"Gross Revenue\")\n",
    "plt.plot(budget, yhat, color=\"green\")\n",
    "plt.title(\"Polynomial Regression: Budget vs. Gross Revenue (2 Degrees)\")\n",
    "plt.xlabel('Budget')\n",
    "plt.ylabel('Gross Revenue')\n",
    "plt.show()\n",
    "\n",
    "# 3 Degrees\n",
    "poly3 = PolynomialFeatures(degree=3, include_bias=False)\n",
    "polyX = poly3.fit_transform(budget)\n",
    "\n",
    "linear = linear_model.LinearRegression()\n",
    "linear.fit(polyX, grossRevenue)\n",
    "yhat = linear.predict(polyX)\n",
    "\n",
    "sns.scatterplot(data=df, x=\"Budget\", y=\"Gross Revenue\")\n",
    "plt.plot(budget, yhat, color=\"orange\")\n",
    "plt.title(\"Polynomial Regression: Budget vs. Gross Revenue (3 Degrees)\")\n",
    "plt.xlabel('Budget')\n",
    "plt.ylabel('Gross Revenue')\n",
    "plt.show()\n",
    "\n",
    "# 3 Degrees\n",
    "poly4 = PolynomialFeatures(degree=4, include_bias=False)\n",
    "polyX = poly4.fit_transform(budget)\n",
    "\n",
    "linear = linear_model.LinearRegression()\n",
    "linear.fit(polyX, grossRevenue)\n",
    "yhat = linear.predict(polyX)\n",
    "\n",
    "sns.scatterplot(data=df, x=\"Budget\", y=\"Gross Revenue\")\n",
    "plt.plot(budget, yhat, color=\"red\")\n",
    "plt.title(\"Polynomial Regression: Budget vs. Gross Revenue (4 Degrees)\")\n",
    "plt.xlabel('Budget')\n",
    "plt.ylabel('Gross Revenue')\n",
    "plt.show()\n"
   ]
  },
  {
   "cell_type": "markdown",
   "metadata": {},
   "source": [
    "This is our graph representing the Bivariate analysis of 'Budget' vs 'Gross Reveue'"
   ]
  },
  {
   "cell_type": "code",
   "execution_count": null,
   "metadata": {
    "colab": {
     "base_uri": "https://localhost:8080/",
     "height": 472
    },
    "id": "tyD7ueX27Ud6",
    "outputId": "b03c2527-492b-4254-88ae-f2423f326fc3"
   },
   "outputs": [],
   "source": [
    "df_GRV = df[['Gross Revenue', 'Votes']]\n",
    "X_train, X_test, y_train, y_test = train_test_split(df_GRV.drop(['Votes'], axis=1), df_GRV.Votes, test_size=0.2, random_state=21)\n",
    "\n",
    "model = LinearRegression()\n",
    "# Fit model to the data\n",
    "model.fit(X_train, y_train)\n",
    "# Predict Y values using the fitted model\n",
    "Y_pred = model.predict(X_train)\n",
    "\n",
    "# Plot the regression line\n",
    "plt.plot(X_train, Y_pred, color='red', label='Scikit Linear Regression')\n",
    "sns.scatterplot(data=df, x=\"Gross Revenue\", y=\"Votes\")\n",
    "plt.title('Gross Revenue vs Votes')\n",
    "plt.xlabel('Gross Revenue')\n",
    "plt.ylabel('Votes')\n",
    "\n",
    "plt.show()"
   ]
  },
  {
   "cell_type": "markdown",
   "metadata": {},
   "source": [
    "This is our graph representing the Bivariate analysis of 'Gross Revenue' vs 'Votes'"
   ]
  },
  {
   "cell_type": "code",
   "execution_count": null,
   "metadata": {
    "colab": {
     "base_uri": "https://localhost:8080/",
     "height": 472
    },
    "id": "x63y1eaW9YzG",
    "outputId": "674b1009-cc63-452e-8dea-beaaae4b0481"
   },
   "outputs": [],
   "source": [
    "from sklearn import linear_model\n",
    "\n",
    "df_VS = df[['Votes', 'Score']]\n",
    "X_train, X_test, y_train, y_test = train_test_split(df_VS.drop(['Score'], axis=1), df_VS.Score, test_size=0.2, random_state=21)\n",
    "\n",
    "model = LinearRegression()\n",
    "# Fit model to the data\n",
    "model.fit(X_train, y_train)\n",
    "# Predict Y values using the fitted model\n",
    "Y_pred = model.predict(X_train)\n",
    "\n",
    "# Plot the regression line\n",
    "plt.plot(X_train, Y_pred, color='red', label='Scikit Linear Regression')\n",
    "sns.scatterplot(data=df, x=\"Votes\", y=\"Score\")\n",
    "plt.title('Votes vs Score')\n",
    "plt.xlabel('Votes')\n",
    "plt.ylabel('Score')\n",
    "\n",
    "plt.show()\n"
   ]
  },
  {
   "cell_type": "markdown",
   "metadata": {},
   "source": [
    "This is our graph representing the Bivariate analysis of 'Vote' vs 'Score'"
   ]
  },
  {
   "cell_type": "markdown",
   "metadata": {},
   "source": [
    "## Evaluate our First Model Compare Training vs Test Error"
   ]
  },
  {
   "cell_type": "code",
   "execution_count": null,
   "metadata": {},
   "outputs": [],
   "source": [
    "# Function to evaluate and plot polynomial regression\n",
    "def evaluate_poly_regression(degree, X_train, y_train, X_test, y_test, color):\n",
    "    poly = PolynomialFeatures(degree=degree, include_bias=False)\n",
    "    polyX_train = poly.fit_transform(X_train)\n",
    "    polyX_test = poly.transform(X_test)\n",
    "    \n",
    "    linear = LinearRegression()\n",
    "    linear.fit(polyX_train, y_train)\n",
    "    \n",
    "    # Predict on training and testing data\n",
    "    yhat_train = linear.predict(polyX_train)\n",
    "    yhat_test = linear.predict(polyX_test)\n",
    "    \n",
    "    # Calculate training and testing errors\n",
    "    mse_train = mean_squared_error(y_train, yhat_train)\n",
    "    mse_test = mean_squared_error(y_test, yhat_test)\n",
    "    \n",
    "    # Plotting for training data\n",
    "    # Convert DataFrame/Series to numpy array and then flatten\n",
    "    X_train_np = X_train.to_numpy().flatten() if hasattr(X_train, 'to_numpy') else X_train.flatten()\n",
    "    y_train_np = y_train.to_numpy().flatten() if hasattr(y_train, 'to_numpy') else y_train.flatten()\n",
    "    sns.scatterplot(x=X_train_np, y=y_train_np, label='Training Data')\n",
    "    \n",
    "    # Sort the values for better plotting\n",
    "    sorted_train_indices = np.argsort(X_train_np)\n",
    "    plt.plot(X_train_np[sorted_train_indices], yhat_train[sorted_train_indices], color=color, label=f'Train Fit (Degree {degree})')\n",
    "    \n",
    "    # Plotting for test data\n",
    "    X_test_np = X_test.to_numpy().flatten() if hasattr(X_test, 'to_numpy') else X_test.flatten()\n",
    "    y_test_np = y_test.to_numpy().flatten() if hasattr(y_test, 'to_numpy') else y_test.flatten()\n",
    "    sns.scatterplot(x=X_test_np, y=y_test_np, label='Test Data', color='lightgrey')\n",
    "    \n",
    "    # Sort the values for better plotting\n",
    "    sorted_test_indices = np.argsort(X_test_np)\n",
    "    plt.plot(X_test_np[sorted_test_indices], yhat_test[sorted_test_indices], color=color, linestyle='--', label=f'Test Fit (Degree {degree})')\n",
    "    plt.title(f\"Polynomial Regression: Budget vs. Gross Revenue ({degree} Degrees)\")\n",
    "    plt.xlabel('Budget')\n",
    "    plt.ylabel('Gross Revenue')\n",
    "    plt.legend()\n",
    "    plt.show()\n",
    "    \n",
    "    # Print errors\n",
    "    print(f\"Degree {degree} polynomial regression training MSE: {mse_train}\")\n",
    "    print(f\"Degree {degree} polynomial regression testing MSE: {mse_test}\")\n",
    "\n",
    "\n",
    "# Evaluate and plot for 2 degrees\n",
    "evaluate_poly_regression(2, budget, grossRevenue, X1_test.values.reshape(-1, 1), y1_test, \"green\")\n",
    "\n",
    "# Evaluate and plot for 3 degrees\n",
    "evaluate_poly_regression(3, budget, grossRevenue, X1_test.values.reshape(-1, 1), y1_test, \"orange\")\n",
    "\n",
    "# Evaluate and plot for 4 degrees\n",
    "evaluate_poly_regression(4, budget, grossRevenue, X1_test.values.reshape(-1, 1), y1_test, \"red\")"
   ]
  },
  {
   "cell_type": "markdown",
   "metadata": {},
   "source": [
    "All three degrees 2, 3, and 4 are showing a good fit as seen by the testing MSE being lower than or very close to the training MSE. There is no evidence of overfitting, where we would expect the testing MSE to be significantly higher than the training MSE due to the model capturing noise in the training data."
   ]
  },
  {
   "cell_type": "markdown",
   "metadata": {},
   "source": [
    "## Model Fit In The Fitting Graph"
   ]
  },
  {
   "cell_type": "markdown",
   "metadata": {},
   "source": [
    "Based on our MSE values, as the polynomial degree increases from 2 to 4, both training and testing MSEs decrease. This indicates that our model is capturing more of the data's underlying pattern with increased complexity, improving its performance. Our model with polynomial degree 4 have the lowest MSEs suggests an optimal balance between bias and variance, making it the best fit among the ones that we tested. There's no sign of overfitting as both training and testing error decreases together. In conclusion, our polynomial regression model with degree 4 provides the best balance of complexity and performance based on our data."
   ]
  },
  {
   "cell_type": "markdown",
   "metadata": {},
   "source": [
    "## Next 2 models"
   ]
  },
  {
   "cell_type": "markdown",
   "metadata": {},
   "source": [
    "In light of the insights derived from the performance of our current neural network model, we are considering the exploration of two additional machine learning models to potentially enhance our predictive capabilities and address the identified limitations:\n",
    "\n",
    "- **Neural Network**: Neural networks are indeed well-suited to handle the complexity inherent in modeling the relationship between a movie's budget and its gross revenue, thanks to their ability to model nonlinear relationships and interactions between features without the need for manual feature engineering. Unlike polynomial regression, which requires choosing the degree of polynomials a priori and risks overfitting with higher degrees, neural networks can learn complex patterns through their hidden layers and neurons. They do this by adjusting weights and biases through backpropagation based on the error rate, allowing them to capture both high-level and subtle nuances in data. Moreover, neural networks can automatically discover the interaction between variables, making them a powerful tool for capturing the multifaceted dynamics of movie revenues. The flexibility and adaptability of neural networks, combined with techniques to prevent overfitting such as dropout and regularization, make them an attractive option for improving upon traditional regression models in predicting outcomes with complex, non-linear relationships.\n",
    "\n",
    "- **Decision Tree Classifier**: Despite the simplicity of decision trees, they are powerful for classification tasks and provide clear visualization of the decision-making process. A key advantage of using a Decision Tree Classifier is its interpretability; it allows for easy understanding of how decisions are made, which is invaluable for analyzing which features most significantly affect a movie's success. Furthermore, decision trees can handle non-linear data effectively and are less susceptible to outliers than regression models, making them a suitable choice for further exploration.\n",
    "\n",
    "These models were chosen with the intention of addressing specific challenges observed in our initial approach. Polynomial regression will allow us to test the hypothesis that a more nuanced modeling of relationships between variables could yield better predictive performance. On the other hand, the Decision Tree Classifier offers a different approach to classification, with the potential for higher accuracy."
   ]
  },
  {
   "cell_type": "markdown",
   "metadata": {},
   "source": [
    "## What is the conclusion of your 1st model?"
   ]
  },
  {
   "cell_type": "markdown",
   "metadata": {},
   "source": [
    "The improvement in MSE as the degree of the polynomial increases suggests that the relationship between budget and gross revenue is complex and potentially non-linear, with higher-degree polynomials capturing this complexity more effectively. The consistent decrease in both training and testing errors indicates that the model is not yet suffering from overfitting at the fourth degree.\n",
    "\n",
    "However, it's important to note that while the improvements in MSE are consistent, they are also marginal, especially when moving from degree 3 to degree 4. This diminishing return suggests that there is a limit to how much more complexity (in terms of polynomial degree) can beneficially be added to the model without overfitting. The observation of diminishing returns as we increase the polynomial degree suggests a critical insight into the nature of modeling complex relationships, such as that between a movie's budget and its gross revenue. It emphasizes the inherent trade-offs in model development, especially between capturing the underlying data patterns (reducing bias) and maintaining a model's ability to generalize well to unseen data (avoiding overfitting).\n",
    "\n",
    "The fact that the model is not yet overfitting at the fourth degree is encouraging, indicating there's still some, albeit limited, scope for complexity increase without sacrificing model performance on new data. However, the marginal gains observed caution us against pursuing higher degrees of polynomial without careful consideration. It suggests that we are approaching, if not already at, the point of optimal complexity where the model is sufficiently complex to capture the relevant patterns in the data but not so complex that it becomes overly specialized to the training set.\n",
    "\n",
    "This situation underscores the importance of exploring alternative strategies for model improvement that do not solely rely on increasing model complexity through higher-degree polynomials. Techniques such as incorporating domain knowledge to engineer more relevant features, employing regularization methods to penalize unnecessary complexity, and exploring other forms of model validation like cross-validation to ensure that improvements are robust and generalizable, become paramount.\n",
    "\n",
    "Moreover, this context also highlights the potential utility of exploring other modeling approaches that might inherently balance complexity and generalizability better. Machine learning models, such as random forests, gradient boosting machines, or neural networks, offer sophisticated mechanisms to model non-linear relationships and interactions without manually specifying the form of the model. These models come with their mechanisms to control overfitting, such as depth limitations in trees or dropout in neural networks, potentially providing a more effective way to capture the complexities of the relationship between movie budgets and gross revenue while maintaining good performance on unseen data."
   ]
  },
  {
   "cell_type": "markdown",
   "metadata": {},
   "source": [
    "## What can be done to possibly to improve it?"
   ]
  },
  {
   "cell_type": "markdown",
   "metadata": {},
   "source": [
    "- **Regularization**: To prevent overfitting, especially when using higher-degree polynomials, consider applying regularization techniques such as Ridge or Lasso regression. These methods can help control the complexity of the model by penalizing large coefficients.\n",
    "\n",
    "- **Feature Engineering**: Besides polynomial features, explore other forms of feature engineering. For instance, interaction terms between budget and other variables might provide additional insights. Also, normalizing or scaling the features might help, especially when moving towards models that use regularization.\n",
    "\n",
    "- **Alternative Models**: Consider exploring non-linear models beyond polynomials, such as decision trees, random forests, or gradient boosting machines, which might capture the data's complexity in different ways.\n",
    "\n",
    "- **Hyperparameter Tuning**: Use grid search or random search to find the optimal combination of hyperparameters, such as the degree of the polynomial and regularization strength. This systematic approach can help in identifying the best model configuration.\n",
    "\n",
    "- **Non-Linear Transformations**: Before applying polynomial features, consider non-linear transformations on the input features, such as logarithmic, square root, or exponential transformations. These transformations can help in linearizing relationships between features and the target variable.\n"
   ]
  },
  {
   "cell_type": "markdown",
   "metadata": {},
   "source": [
    "# Train Model 2: Neural Network Model"
   ]
  },
  {
   "cell_type": "markdown",
   "metadata": {},
   "source": [
    "### Data Preprocessing"
   ]
  },
  {
   "cell_type": "code",
   "execution_count": null,
   "metadata": {},
   "outputs": [],
   "source": [
    "import pandas as pd\n",
    "from sklearn.preprocessing import MinMaxScaler, OneHotEncoder\n",
    "from sklearn.model_selection import train_test_split\n",
    "\n",
    "# First, let's define the function to classify scores\n",
    "def classify_score(score):\n",
    "    if score <= 3:\n",
    "        return 'very bad'\n",
    "    elif score <= 5:\n",
    "        return 'bad'\n",
    "    elif score <= 8:\n",
    "        return 'mid'\n",
    "    else:\n",
    "        return 'good'\n",
    "\n",
    "# Create a new column 'group_rating' based on the score\n",
    "df['group_rating'] = df['Score'].apply(classify_score)\n",
    "\n",
    "# Selecting the required columns for features and target variable\n",
    "X_movies = df[['Budget', 'Gross Revenue']]  # Features: budget and gross revenue\n",
    "y_movies = df['group_rating']  # Target variable is now 'group_rating'\n",
    "\n",
    "# Apply one-hot encoding to the target variable (rating)\n",
    "encoder_movies = OneHotEncoder()\n",
    "y_movies_encoded = encoder_movies.fit_transform(y_movies.values.reshape(-1, 1)).toarray()\n",
    "\n",
    "# Apply min-max normalization to the 'budget' and 'gross' features\n",
    "scaler_movies = MinMaxScaler()\n",
    "X_movies_scaled = scaler_movies.fit_transform(X_movies)\n",
    "\n",
    "df"
   ]
  },
  {
   "cell_type": "markdown",
   "metadata": {},
   "source": [
    "### Training and Testing the Neural Network"
   ]
  },
  {
   "cell_type": "code",
   "execution_count": null,
   "metadata": {},
   "outputs": [],
   "source": [
    "from keras.optimizers import Adam\n",
    "from keras.callbacks import EarlyStopping\n",
    "# Split the data into training and testing sets with a 90:10 ratio\n",
    "X_train, X_test, y_train, y_test = train_test_split(X_movies_scaled, y_movies_encoded, test_size=0.1, random_state=42)\n",
    "\n",
    "MFXACTIVATION ='relu'\n",
    "\n",
    "model = Sequential([\n",
    "    Dense(64, input_dim=X_train.shape[1], activation= MFXACTIVATION),  # Increased complexity and changed to ReLU\n",
    "    Dense(32, activation=MFXACTIVATION),  # ReLU activation\n",
    "    Dense(16, activation=MFXACTIVATION),  # ReLU activation\n",
    "    Dense(8, activation=MFXACTIVATION),  # ReLU activation\n",
    "    Dense(y_train.shape[1], activation='sigmoid')  # Output layer remains the same\n",
    "])\n",
    "\n",
    "optimizer = SGD(learning_rate=0.001)  # Adjusted learning rate\n",
    "model.compile(optimizer=optimizer, loss='categorical_crossentropy', metrics=['accuracy'])\n",
    "early_stopping = EarlyStopping(monitor='val_loss', patience=10, restore_best_weights=True)\n",
    "history = model.fit(X_train, y_train, epochs=100, validation_split=0.1, callbacks=[early_stopping], verbose=1)\n",
    "\n",
    "# Evaluate the model on the test set\n",
    "y_pred = model.predict(X_test)\n",
    "y_pred_classes = np.argmax(y_pred, axis=1)\n",
    "y_test_classes = np.argmax(y_test, axis=1)\n",
    "\n",
    "# Calculate metrics\n",
    "cm = confusion_matrix(y_test_classes, y_pred_classes)\n",
    "acc = accuracy_score(y_test_classes, y_pred_classes)\n",
    "mse = mean_squared_error(y_test, y_pred)\n",
    "precision = precision_score(y_test_classes, y_pred_classes, average='weighted', zero_division=0)\n",
    "recall = recall_score(y_test_classes, y_pred_classes, average='weighted', zero_division=0)\n",
    "\n",
    "# Output the metrics\n",
    "print(\"Confusion Matrix:\", cm)\n",
    "print(\"Accuracy:\", acc)\n",
    "print(\"MSE:\", mse)\n",
    "print(\"Precision:\", precision)\n",
    "print(\"Recall:\", recall)"
   ]
  },
  {
   "cell_type": "markdown",
   "metadata": {},
   "source": [
    "### k-fold Cross Validation"
   ]
  },
  {
   "cell_type": "code",
   "execution_count": null,
   "metadata": {},
   "outputs": [],
   "source": [
    "# Function to build the model, adapted for the Kaggle movie dataset\n",
    "def build_movie_model():\n",
    "    MFXACTIVATION ='relu'\n",
    "    model = Sequential([\n",
    "    Dense(64, input_dim=X_train.shape[1], activation= MFXACTIVATION),  # Increased complexity and changed to ReLU\n",
    "    Dense(32, activation=MFXACTIVATION),  # ReLU activation\n",
    "    Dense(16, activation=MFXACTIVATION),  # ReLU activation\n",
    "    Dense(8, activation=MFXACTIVATION),  # ReLU activation\n",
    "    Dense(y_train.shape[1], activation='sigmoid')  # Output layer remains the same\n",
    "    ])\n",
    "    model.compile(optimizer=SGD(learning_rate=0.001), loss='categorical_crossentropy', metrics=['accuracy', 'mse'])\n",
    "    return model\n",
    "\n",
    "# Wrap the Keras model with KerasClassifier\n",
    "estimator_movies = KerasClassifier(model=build_movie_model, epochs=100, batch_size=10, verbose=1)  # Adjust verbosity as needed\n",
    "\n",
    "# Define the cross-validation strategy\n",
    "kfold_movies = RepeatedKFold(n_splits=10, n_repeats=1, random_state=42)\n",
    "\n",
    "# Perform cross-validation for accuracy and MSE\n",
    "results_movies = cross_validate(estimator_movies, X_movies_scaled, y_movies_encoded, cv=kfold_movies, scoring=['accuracy', 'neg_mean_squared_error'], n_jobs=1)\n",
    "\n",
    "# Output results\n",
    "print(\"Cross-validation results:\")\n",
    "print(results_movies)"
   ]
  },
  {
   "cell_type": "code",
   "execution_count": null,
   "metadata": {},
   "outputs": [],
   "source": [
    "# Assuming 'results_movies' contains the cross-validation results from the previous step\n",
    "cv_accuracy_movies = results_movies['test_accuracy']\n",
    "cv_mse_movies = -1 * results_movies['test_neg_mean_squared_error']  # Multiply by -1 to make MSE positive\n",
    "\n",
    "# Print accuracy and MSE values for each fold\n",
    "for i in range(len(cv_accuracy_movies)):\n",
    "    print(f\"Fold {i+1}: Accuracy = {cv_accuracy_movies[i]}, MSE = {cv_mse_movies[i]}\")\n",
    "\n",
    "# Print the overall average accuracy and MSE for the Kaggle movie dataset\n",
    "print(f\"Overall Average Accuracy: {np.mean(cv_accuracy_movies)}\")\n",
    "print(f\"Overall Average MSE: {np.mean(cv_mse_movies)}\")\n"
   ]
  },
  {
   "cell_type": "markdown",
   "metadata": {},
   "source": [
    "### Hyperparameter Tuning"
   ]
  },
  {
   "cell_type": "code",
   "execution_count": 150,
   "metadata": {},
   "outputs": [
    {
     "name": "stdout",
     "output_type": "stream",
     "text": [
      "Reloading Tuner from tuner_results/kaggle_movie_tuning/tuner0.json\n",
      "\n",
      "The optimal number of units in the first hidden layer is 312\n",
      "with an optimal learning rate of 0.00020221406050328463.\n",
      "\n",
      "Epoch 1/100\n",
      "151/151 [==============================] - 3s 9ms/step - loss: 1.3652 - accuracy: 0.6912 - val_loss: 1.3374 - val_accuracy: 0.9120\n",
      "Epoch 2/100\n",
      "151/151 [==============================] - 1s 5ms/step - loss: 1.3184 - accuracy: 0.8950 - val_loss: 1.2971 - val_accuracy: 0.9120\n",
      "Epoch 3/100\n",
      "151/151 [==============================] - 1s 7ms/step - loss: 1.2817 - accuracy: 0.8950 - val_loss: 1.2612 - val_accuracy: 0.9120\n",
      "Epoch 4/100\n",
      "151/151 [==============================] - 1s 6ms/step - loss: 1.2478 - accuracy: 0.8950 - val_loss: 1.2270 - val_accuracy: 0.9120\n",
      "Epoch 5/100\n",
      "151/151 [==============================] - 1s 5ms/step - loss: 1.2153 - accuracy: 0.8950 - val_loss: 1.1940 - val_accuracy: 0.9120\n",
      "Epoch 6/100\n",
      "151/151 [==============================] - 1s 5ms/step - loss: 1.1837 - accuracy: 0.8950 - val_loss: 1.1618 - val_accuracy: 0.9120\n",
      "Epoch 7/100\n",
      "151/151 [==============================] - 1s 4ms/step - loss: 1.1528 - accuracy: 0.8950 - val_loss: 1.1304 - val_accuracy: 0.9120\n",
      "Epoch 8/100\n",
      "151/151 [==============================] - 1s 4ms/step - loss: 1.1227 - accuracy: 0.8950 - val_loss: 1.0997 - val_accuracy: 0.9120\n",
      "Epoch 9/100\n",
      "151/151 [==============================] - 1s 3ms/step - loss: 1.0932 - accuracy: 0.8950 - val_loss: 1.0694 - val_accuracy: 0.9120\n",
      "Epoch 10/100\n",
      "151/151 [==============================] - 1s 3ms/step - loss: 1.0642 - accuracy: 0.8950 - val_loss: 1.0397 - val_accuracy: 0.9120\n",
      "Epoch 11/100\n",
      "151/151 [==============================] - 1s 4ms/step - loss: 1.0357 - accuracy: 0.8950 - val_loss: 1.0105 - val_accuracy: 0.9120\n"
     ]
    }
   ],
   "source": [
    "# Split the data\n",
    "X_train_hp, X_test_hp, y_train_hp, y_test_hp = train_test_split(X_movies_scaled, y_movies_encoded, test_size=0.1, random_state=42)\n",
    "def build_hp_model(hp):\n",
    "    model = Sequential()\n",
    "    model.add(Dense(units=hp.Int('units', min_value=12, max_value=512, step=100),\n",
    "                    activation='relu',\n",
    "                    input_dim=X_train_hp.shape[1]))\n",
    "    model.add(Dense(units=hp.Int('units_layer2', min_value=12, max_value=512, step=100), activation='relu'))\n",
    "    model.add(Dense(units=hp.Int('units_layer3', min_value=12, max_value=512, step=100), activation='relu')) # changed to relu to match previous models\n",
    "    model.add(Dense(units=hp.Int('units_layer4', min_value=12, max_value=512, step=100), activation='relu'))\n",
    "\n",
    "    model.add(Dense(y_train_hp.shape[1], activation='sigmoid'))  # Adapted for multi-class classification\n",
    "\n",
    "    # Tune the learning rate for the optimizer\n",
    "    learning_rate = hp.Float('learning_rate', min_value=1e-4, max_value=1e-2, sampling='log')\n",
    "\n",
    "    model.compile(optimizer=SGD(learning_rate=learning_rate),\n",
    "                  loss='categorical_crossentropy',\n",
    "                  metrics=['accuracy'])\n",
    "\n",
    "    return model\n",
    "# Define the tuner\n",
    "# tuner = kt.Hyperband(\n",
    "#     build_hp_model,\n",
    "#     objective='val_accuracy',\n",
    "#     max_epochs=10,\n",
    "#     hyperband_iterations=15,\n",
    "#     directory='tuner_results',\n",
    "#     project_name='kaggle_movie_tuning'\n",
    "# )\n",
    "\n",
    "# Define the tuner\n",
    "tuner = kt.GridSearch(\n",
    "    hypermodel=build_hp_model,\n",
    "    objective='val_accuracy',\n",
    "    max_trials=10,\n",
    "    executions_per_trial=3,\n",
    "    seed=15,\n",
    "    tune_new_entries=True,\n",
    "    allow_new_entries=True,\n",
    "    directory='tuner_results',\n",
    "    project_name='kaggle_movie_tuning'\n",
    ")\n",
    "\n",
    "# Run the hyperparameter search\n",
    "tuner.search(X_train_hp, y_train_hp, epochs=50, validation_split=0.1)\n",
    "\n",
    "# Get the optimal hyperparameters\n",
    "best_hps = tuner.get_best_hyperparameters()[0]\n",
    "\n",
    "print(f\"\"\"\n",
    "The optimal number of units in the first hidden layer is {best_hps.get('units')}\n",
    "with an optimal learning rate of {best_hps.get('learning_rate')}.\n",
    "\"\"\")\n",
    "\n",
    "# we used early stopping in earlier versions of our sequential model, so we decide to use it\n",
    "early_stopping = EarlyStopping(\n",
    "    monitor='val_accuracy', # or 'val_loss' if you prefer to monitor loss\n",
    "    patience=10,            # Number of epochs with no improvement after which training will be stopped\n",
    "    restore_best_weights=True # Restores model weights from the epoch with the best value of the monitored quantity\n",
    ")\n",
    "\n",
    "# Build the model with the optimal hyperparameters and evaluate it\n",
    "best_model = tuner.hypermodel.build(best_hps)\n",
    "history = best_model.fit(X_train_hp, y_train_hp, epochs=100, validation_data=(X_test_hp, y_test_hp), callbacks=[early_stopping])"
   ]
  },
  {
   "cell_type": "markdown",
   "metadata": {},
   "source": [
    "## Evaluate our model compare training vs test error"
   ]
  },
  {
   "cell_type": "code",
   "execution_count": 151,
   "metadata": {},
   "outputs": [
    {
     "data": {
      "image/png": "[encoded data removed]",
      "text/plain": [
       "<Figure size 640x480 with 1 Axes>"
      ]
     },
     "metadata": {},
     "output_type": "display_data"
    },
    {
     "data": {
      "image/png": "[encoded data removed]",
      "text/plain": [
       "<Figure size 640x480 with 1 Axes>"
      ]
     },
     "metadata": {},
     "output_type": "display_data"
    },
    {
     "name": "stdout",
     "output_type": "stream",
     "text": [
      "17/17 [==============================] - 0s 4ms/step\n",
      "Confusion Matrix:\n",
      " [[  0   0  38]\n",
      " [  0   0   9]\n",
      " [  0   0 487]]\n",
      "Accuracy: 0.9119850187265918\n",
      "MSE: 0.09315178101697365\n",
      "Precision: 0.831716674381742\n",
      "Recall: 0.9119850187265918\n"
     ]
    }
   ],
   "source": [
    "# Plot training & validation accuracy values\n",
    "plt.plot(history.history['accuracy'])\n",
    "plt.plot(history.history['val_accuracy'])\n",
    "plt.title('Model accuracy')\n",
    "plt.ylabel('Accuracy')\n",
    "plt.xlabel('Epoch')\n",
    "plt.legend(['Train', 'Validation'], loc='upper left')\n",
    "plt.show()\n",
    "\n",
    "# Plot training & validation loss values\n",
    "plt.plot(history.history['loss'])\n",
    "plt.plot(history.history['val_loss'])\n",
    "plt.title('Model loss')\n",
    "plt.ylabel('Loss')\n",
    "plt.xlabel('Epoch')\n",
    "plt.legend(['Train', 'Validation'], loc='upper left')\n",
    "plt.show()\n",
    "\n",
    "# Evaluate the model on the test set\n",
    "y_pred = model.predict(X_test)\n",
    "y_pred_classes = np.argmax(y_pred, axis=1)\n",
    "y_test_classes = np.argmax(y_test, axis=1)\n",
    "# Calculate metrics\n",
    "cm = confusion_matrix(y_test_classes, y_pred_classes)\n",
    "acc = accuracy_score(y_test_classes, y_pred_classes)\n",
    "mse = mean_squared_error(y_test, y_pred)\n",
    "precision = precision_score(y_test_classes, y_pred_classes, average='weighted', zero_division=0)\n",
    "recall = recall_score(y_test_classes, y_pred_classes, average='weighted', zero_division=0)\n",
    "\n",
    "# Output the metrics\n",
    "print(\"Confusion Matrix:\\n\", cm)\n",
    "print(\"Accuracy:\", acc)\n",
    "print(\"MSE:\", mse)\n",
    "print(\"Precision:\", precision)\n",
    "print(\"Recall:\", recall)"
   ]
  },
  {
   "cell_type": "markdown",
   "metadata": {},
   "source": [
    "**Model Accuracy graph**: The accuracy for both training and validation shoots up sharply and reaches a high level after the first epoch. After the initial jump, the accuracy for both remains approximately constant. It's noteworthy that the validation accuracy is slightly higher than the training accuracy, which is unusual but not necessarily a problem if the variance is small. This could sometimes happen due to the specific samples in the validation set or regularization effects.\n",
    "\n",
    "**Model Loss graph**: The loss for both training and validation decreases sharply after the first epoch and continues to decrease gradually over subsequent epochs. The training and validation losses are very close to each other and converge towards a similar value, which indicates that the model is generalizing well without overfitting or underfitting. There's no sign of divergence, which is good.\n",
    "\n",
    "**Confusion Matrix**: The confusion matrix indicates that our model did not correctly predict any of the samples for the first two classes, but predicted all samples that belonged to the third class. The model correctly identified 487 samples of the third class, which indicates that it has a strong bias towards this class.\n",
    "\n",
    "**MSE**: The MSE is around 0.074, which might seem low, but MSE is not typically the best metric for classification problems, especially when dealing with categorical data.\n",
    "\n",
    "**Accuracy**: The accuracy which is about 91.2% which is a bit misleading in this context, as it seems the model has learned to predict the majority class very well but fails to recognize the other classes.\n",
    "\n",
    "**Precision**: The precision score is about 83.2%. This suggests that when the model predicts a class, it's correct about 83.2% of the time. However, this metric is weighted and might be influenced by the class imbalance.\n",
    "\n",
    "**Recall**: The recall is equal to the accuracy. This means that the model is very good at detecting the positives of the third class. However, for the first two classes, the recall is 0% because the model failed to identify any true positives for these classes.\n",
    "\n",
    "In conclusion, the model is likely suffering from a class imbalance issue, where it predicts the majority class well but fails to predict the minority classes. This is evidenced by the lack of true positives for the two classes in the confusion matrix."
   ]
  },
  {
   "cell_type": "markdown",
   "metadata": {},
   "source": [
    "## Model Fit In The Fitting Graph, How does it compare to your first model? "
   ]
  },
  {
   "cell_type": "markdown",
   "metadata": {},
   "source": [
    "The model has a high accuracy, precision and recall on both the training and validation data, which would suggest a good fit. This suggests that our second model performs well in predicting the \"group ratings\" based on the \"Gross Revenue\" and \"Budget\" of the movie and we can determine that \"Gross Revenue\" and \"Budget\" are good features in order to predict our target variable \"group rating\". \n",
    "\n",
    "The fitting graphs with MSE values for the polynomial regression indicate that the model's performance varies with the degree of the polynomial. As the degree increases, the model fits the training data better but could potentially overfit. While our second model shows high classification accuracy, the fitting graphs from our first model indicate the regression model's capability to predict a continuous outcome based on its input. They serve different purposes and thus, their performances are not directly comparable.\n",
    "\n",
    "In conclusion, for the specific task of classifying movies into 'group ratings', your second model seems to have found a good balance and performs well according to the classification metrics. For the task of predicting 'Gross Revenue' from 'Budget', the regression analysis of our first model indicates a variable fit depending on the polynomial degree, and its performance should be assessed by how well it generalizes to new, unseen data."
   ]
  },
  {
   "cell_type": "markdown",
   "metadata": {},
   "source": [
    "## Did you perform hyper parameter tuning? K-fold Cross validation? Feature expansion? What were the results? "
   ]
  },
  {
   "cell_type": "markdown",
   "metadata": {},
   "source": [
    "We performed, Hyper parameter tuning and K-fold Corss validation, but we didn't did any feature expansion as what we did was grouping scores. What we did with Grouping scores mean that We transformed the continuous 'Score' variable into a categorical 'group_rating' variable. This process is a form of feature engineering, where we're creating a new feature based on existing data.\n",
    "\n",
    "1. **K Fold Cross-Validation**\n",
    "- Cross-Validation: Applied Repeated K-Fold cross-validation to assess the model's performance across different subsets of the data, ensuring the model's effectiveness and generalization capability. This approach helps in evaluating the model's stability and reliability across different data splits.\n",
    "- Performance Metrics: The model's accuracy and mean squared error (MSE) were evaluated, providing insights into its classification performance and how close the predicted ratings are to the actual ratings, respectively.\n",
    "- **Results**: The K-fold cross-validation results indicate that the neural network model exhibits consistent performance across different subsets of the data, with accuracies ranging from approximately 86.9% to 91.4% across ten folds and an overall average accuracy of 89.7%. The mean squared error (MSE) values, averaging at 0.0516, suggest the model's predictions are reasonably close to the actual values. This demonstrates the model's robustness and generalizability, confirming its ability to perform well across diverse data segments without significant overfitting or underfitting to the training data.\n",
    "\n",
    "2. **Hyperparameter Tuning**\n",
    "- Hyperparameter Search: Employed a hyperparameter tuning process (using Keras Tuner) to find the optimal model architecture and learning rate, which are crucial for achieving the best possible model performance.\n",
    "- GridSearch: A GridSearch approach was selected, systematically exploring a range of predefined hyperparameter values to find the best combination, focusing on maximizing validation accuracy.\n",
    "- Optimization Results: The process identified the optimal number of units in each layer and the learning rate for the SGD optimizer, which were then used to build and evaluate the best model configuration.\n",
    "- **Results**: The hyperparameter tuning results reveal the identification of an optimal model configuration with 312 units in the first hidden layer and a learning rate of approximately 0.000202. This configuration resulted in a significant improvement in the model's performance during the initial training phases, showcasing high validation accuracies that indicate the model's capacity to make accurate predictions. The process of hyperparameter tuning has effectively pinpointed the most conducive parameters for maximizing the model’s accuracy, underlining the critical role of tuning in enhancing the predictive power and efficiency of machine learning models.\n",
    "\n",
    "\n",
    "\n",
    "\n",
    "\n",
    "\n",
    "\n"
   ]
  },
  {
   "cell_type": "markdown",
   "metadata": {},
   "source": [
    "## Next model"
   ]
  },
  {
   "cell_type": "markdown",
   "metadata": {},
   "source": [
    "In light of the insights derived from the performance of our current neural network model, we are considering the exploration of two additional machine learning models to potentially enhance our predictive capabilities and address the identified limitations:\n",
    "\n",
    "**Decision Tree Classifier**: Despite the simplicity of decision trees, they are powerful for classification tasks and provide clear visualization of the decision-making process. A key advantage of using a Decision Tree Classifier is its interpretability; it allows for easy understanding of how decisions are made, which is invaluable for analyzing which features most significantly affect a movie's success. Furthermore, decision trees can handle non-linear data effectively and are less susceptible to outliers than regression models, making them a suitable choice for further exploration.\n",
    "\n",
    "These models were chosen with the intention of addressing specific challenges observed in our initial approach. Polynomial regression will allow us to test the hypothesis that a more nuanced modeling of relationships between variables could yield better predictive performance. On the other hand, the Decision Tree Classifier offers a different approach to classification, with the potential for high "
   ]
  },
  {
   "cell_type": "markdown",
   "metadata": {},
   "source": [
    "## What is the conclusion of your 2nd model?"
   ]
  },
  {
   "cell_type": "markdown",
   "metadata": {},
   "source": [
    "The second model demonstrates good performance in terms of accuracy, precision, and recall on both the training and validation datasets. These metrics are indicative of a model that is correctly identifying the majority of instances across the classes it was trained to predict. The consistent high performance on unseen validation data suggests that the model has generalized well beyond the training dataset.\n",
    "\n",
    "However, it is important to consider the confusion matrix, which reveals that while the model excels at predicting a certain class, it may not be performing equally well across all classes. This could be a sign of class imbalance or that the model's predictive features such as 'Gross Revenue' and 'Budget' are particularly informative for one class but less so for others.\n",
    "\n",
    "In conclusion, the second model is a robust classifier for the 'group ratings' based on the 'Gross Revenue' and 'Budget' features. It presents a high degree of accuracy, precision, and recall, which are strong indicators of its reliability."
   ]
  },
  {
   "cell_type": "markdown",
   "metadata": {},
   "source": [
    "## What can be done to possibly to improve it?"
   ]
  },
  {
   "cell_type": "markdown",
   "metadata": {},
   "source": [
    "To refine our approach and enhance the model's predictive accuracy and reliability, we propose several strategies:\n",
    "\n",
    "- **Data Augmentation**: Expanding our dataset with more variables or by integrating additional datasets could provide a richer context for analysis, helping the model to uncover more nuanced relationships between features and outcomes.\n",
    "\n",
    "- **Advanced Feature Engineering**: Delving deeper into feature selection and transformation to emphasize more predictive variables. This could involve more sophisticated techniques to extract or combine features in ways that better capture the complexities of movie success.\n",
    "\n",
    "- **Model Complexity Adjustment**: Experimenting with the neural network's architecture, such as layer depth and neuron count, to strike an optimal balance between model complexity and overfitting. This includes evaluating different activation functions, optimizers, and regularization methods.\n",
    "\n",
    "- **Ensemble Methods**: Considering ensemble techniques, such as bagging or boosting, to improve model stability and accuracy. These methods can aggregate predictions from multiple models to reduce variance and bias.\n",
    "\n",
    "- **Exploration of Alternative Models**: As previously mentioned, we plan to explore Polynomial Regression and Decision Tree Classifier models. These alternatives could offer new perspectives and methodologies for addressing the dataset's challenges, potentially overcoming limitations observed in the neural network model.\n"
   ]
  },
  {
   "cell_type": "markdown",
   "metadata": {},
   "source": [
    "# Train Model 3: Decision Tree Classifier"
   ]
  },
  {
   "cell_type": "markdown",
   "metadata": {},
   "source": [
    "### Base Model"
   ]
  },
  {
   "cell_type": "code",
   "execution_count": null,
   "metadata": {},
   "outputs": [],
   "source": [
    "from sklearn.tree import DecisionTreeClassifier\n",
    "\n",
    "X_train, X_test, y_train, y_test = train_test_split(X_movies_scaled, y_movies_encoded, test_size=0.2, random_state=42)\n",
    "\n",
    "clf = DecisionTreeClassifier()\n",
    "clf.fit(X_train, y_train)"
   ]
  },
  {
   "cell_type": "markdown",
   "metadata": {},
   "source": [
    "### Evaluate your model compare training vs test error"
   ]
  },
  {
   "cell_type": "code",
   "execution_count": null,
   "metadata": {},
   "outputs": [],
   "source": [
    "y_train_pred = clf.predict(X_train)\n",
    "\n",
    "print(\"Training Set Evaluation:\")\n",
    "print(classification_report(y_train, y_train_pred, target_names=encoder_movies.categories_[0]))\n",
    "print('Training Accuracy:', accuracy_score(y_train, y_train_pred))\n",
    "\n",
    "y_test_pred = clf.predict(X_test)\n",
    "\n",
    "print(\"\\nTesting Set Evaluation:\")\n",
    "print(classification_report(y_test, y_test_pred, target_names=encoder_movies.categories_[0]))\n",
    "print('Testing Accuracy:', accuracy_score(y_test, y_test_pred))"
   ]
  },
  {
   "cell_type": "code",
   "execution_count": null,
   "metadata": {},
   "outputs": [],
   "source": [
    "max_depth_range = range(1, 20)\n",
    "train_accuracies = []\n",
    "test_accuracies = []\n",
    "\n",
    "for max_depth in max_depth_range:\n",
    "    clf = DecisionTreeClassifier(max_depth=max_depth)\n",
    "    clf.fit(X_train, y_train)\n",
    "    \n",
    "    train_pred = clf.predict(X_train)\n",
    "    train_accuracy = accuracy_score(y_train, train_pred)\n",
    "    train_accuracies.append(train_accuracy)\n",
    "    \n",
    "    test_pred = clf.predict(X_test)\n",
    "    test_accuracy = accuracy_score(y_test, test_pred)\n",
    "    test_accuracies.append(test_accuracy)\n",
    "\n",
    "plt.figure(figsize=(10, 5))\n",
    "plt.plot(max_depth_range, train_accuracies, label='Training Accuracy', marker='o')\n",
    "plt.plot(max_depth_range, test_accuracies, label='Testing Accuracy', marker='s')\n",
    "plt.xlabel('Max Depth of Decision Tree')\n",
    "plt.ylabel('Accuracy')\n",
    "plt.title('Training vs Testing Accuracy as Model Complexity Increases')\n",
    "plt.legend()\n",
    "plt.grid(True)\n",
    "plt.show()"
   ]
  },
  {
   "cell_type": "code",
   "execution_count": null,
   "metadata": {},
   "outputs": [],
   "source": [
    "max_depth_range = range(1, 20)\n",
    "train_losses = []\n",
    "test_losses = []\n",
    "\n",
    "for max_depth in max_depth_range:\n",
    "    clf = DecisionTreeClassifier(max_depth=max_depth)\n",
    "    clf.fit(X_train, y_train)\n",
    "    \n",
    "    train_pred = clf.predict(X_train)\n",
    "    train_accuracy = accuracy_score(y_train, train_pred)\n",
    "    train_loss = 1 - train_accuracy\n",
    "    train_losses.append(train_loss)\n",
    "    \n",
    "    test_pred = clf.predict(X_test)\n",
    "    test_accuracy = accuracy_score(y_test, test_pred)\n",
    "    test_loss = 1 - test_accuracy\n",
    "    test_losses.append(test_loss)\n",
    "\n",
    "plt.figure(figsize=(10, 5))\n",
    "plt.plot(max_depth_range, train_losses, label='Training Loss', marker='o')\n",
    "plt.plot(max_depth_range, test_losses, label='Testing Loss', marker='s')\n",
    "plt.xlabel('Max Depth of Decision Tree')\n",
    "plt.ylabel('Loss')\n",
    "plt.title('Training vs Testing Loss as Model Complexity Increases')\n",
    "plt.legend()\n",
    "plt.grid(True)\n",
    "plt.show()\n"
   ]
  },
  {
   "cell_type": "code",
   "execution_count": null,
   "metadata": {},
   "outputs": [],
   "source": [
    "min_samples_split = range(2, 10)\n",
    "train_accuracies = []\n",
    "test_accuracies = []\n",
    "\n",
    "for min_sample_split in min_samples_split:\n",
    "    clf = DecisionTreeClassifier(min_samples_split=min_sample_split)\n",
    "    clf.fit(X_train, y_train)\n",
    "    \n",
    "    train_pred = clf.predict(X_train)\n",
    "    train_accuracy = accuracy_score(y_train, train_pred)\n",
    "    train_accuracies.append(train_accuracy)\n",
    "\n",
    "    test_pred = clf.predict(X_test)\n",
    "    test_accuracy = accuracy_score(y_test, test_pred)\n",
    "    test_accuracies.append(test_accuracy)\n",
    "\n",
    "plt.figure(figsize=(10, 5))\n",
    "plt.plot(min_samples_split, train_accuracies, label='Training Accuracy', marker='o')\n",
    "plt.plot(min_samples_split, test_accuracies, label='Testing Accuracy', marker='s')\n",
    "plt.xlabel('Min Samples Split')\n",
    "plt.ylabel('Accuracy')\n",
    "plt.title('Training vs Testing Accuracy for Different Min Samples Split')\n",
    "plt.legend()\n",
    "plt.grid(True)\n",
    "plt.show()"
   ]
  },
  {
   "cell_type": "code",
   "execution_count": null,
   "metadata": {},
   "outputs": [],
   "source": [
    "min_samples_leaf_range = range(1, 10)\n",
    "train_accuracies = []\n",
    "test_accuracies = []\n",
    "\n",
    "for min_samples_leaf in min_samples_leaf_range:\n",
    "    clf = DecisionTreeClassifier(min_samples_leaf=min_samples_leaf)\n",
    "    clf.fit(X_train, y_train)\n",
    "    \n",
    "    train_pred = clf.predict(X_train)\n",
    "    train_accuracy = accuracy_score(y_train, train_pred)\n",
    "    train_accuracies.append(train_accuracy)\n",
    "    \n",
    "    test_pred = clf.predict(X_test)\n",
    "    test_accuracy = accuracy_score(y_test, test_pred)\n",
    "    test_accuracies.append(test_accuracy)\n",
    "\n",
    "plt.figure(figsize=(10, 5))\n",
    "plt.plot(min_samples_leaf_range, train_accuracies, label='Training Accuracy', marker='o')\n",
    "plt.plot(min_samples_leaf_range, test_accuracies, label='Testing Accuracy', marker='s')\n",
    "plt.xlabel('Min Samples Leaf')\n",
    "plt.ylabel('Accuracy')\n",
    "plt.title('Training vs Testing Accuracy for Different Min Samples Leaf')\n",
    "plt.legend()\n",
    "plt.grid(True)\n",
    "plt.show()"
   ]
  },
  {
   "cell_type": "code",
   "execution_count": null,
   "metadata": {},
   "outputs": [],
   "source": []
  },
  {
   "cell_type": "code",
   "execution_count": null,
   "metadata": {},
   "outputs": [],
   "source": []
  },
  {
   "cell_type": "code",
   "execution_count": null,
   "metadata": {},
   "outputs": [],
   "source": []
  },
  {
   "cell_type": "code",
   "execution_count": null,
   "metadata": {},
   "outputs": [],
   "source": []
  },
  {
   "cell_type": "code",
   "execution_count": null,
   "metadata": {},
   "outputs": [],
   "source": []
  },
  {
   "cell_type": "code",
   "execution_count": null,
   "metadata": {},
   "outputs": [],
   "source": []
  },
  {
   "cell_type": "code",
   "execution_count": null,
   "metadata": {},
   "outputs": [],
   "source": []
  },
  {
   "cell_type": "code",
   "execution_count": null,
   "metadata": {},
   "outputs": [],
   "source": []
  },
  {
   "cell_type": "markdown",
   "metadata": {},
   "source": [
    "# Results"
   ]
  },
  {
   "cell_type": "markdown",
   "metadata": {},
   "source": [
    "### Data Preprocessing"
   ]
  },
  {
   "cell_type": "markdown",
   "metadata": {},
   "source": [
    "The data preprocessing was used to refine the input for the neural network. We made a function called classify_score to segment movie scores into categorical bands, 'very bad' for scores up to 3, 'bad' for those up to 5, 'mid' for scores up to 8, and 'good' for any higher. This categorization was actualized by generating a new column, 'group_rating', applying the classification function to the existing 'score' data. The analysis then proceeded to isolate 'Budget' and 'Gross Revenue' as the feature set, positing these financial metrics as predictors, while 'group_rating' was established as the target variable, reflecting the categorized movie ratings.\n",
    "\n",
    "To accommodate the categorical nature of the target variable within a neural network's computational framework, one-hot encoding was employed, transforming 'group_rating' into a binary matrix essential for model interpretation. Concurrently, feature scaling was conducted through min-max normalization on the 'Budget' and 'Gross Revenue' variables, thereby enhancing the algorithm's convergence efficiency. Through these steps, the dataset was optimally preprocessed to support the subsequent neural network's learning and predictive accuracy."
   ]
  },
  {
   "cell_type": "markdown",
   "metadata": {},
   "source": [
    "### Data Exploration"
   ]
  },
  {
   "cell_type": "markdown",
   "metadata": {},
   "source": [
    "### Model 1: Polynomial Regression"
   ]
  },
  {
   "cell_type": "markdown",
   "metadata": {},
   "source": [
    "Our polynomial regression analysis involved assessing the relationship between movie budgets and gross revenue across polynomial degrees 2, 3, and 4. The results are encapsulated in the following figures:\n",
    "\n",
    "1. **Polynomial Degree 2**: The scatter plot with a second-degree polynomial fit reveals the basic quadratic relationship between the budget and gross revenue.\n",
    "2. **Polynomial Degree 3**: Increasing the polynomial degree to 3 showed a more flexible fit to the data, indicating a more complex relationship.\n",
    "3. **Polynomial Degree 4**: The fourth-degree polynomial regression provided the most nuanced fit among the tested models, suggesting a more detailed underlying pattern.\n",
    "\n",
    "#### Training vs. Test Error Evaluation\n",
    "\n",
    "- **Degree 2**: The evaluation of the second-degree polynomial model showed a mean squared error (MSE) of 0.51227 for training data and 0.48057 for testing data.\n",
    "- **Degree 3**: For the third-degree polynomial model, the training MSE was 0.49835 and the testing MSE was 0.46815, suggesting a better fit than the second degree.\n",
    "- **Degree 4**: The most complex model, with a fourth-degree polynomial, achieved a training MSE of 0.49328 and a testing MSE of 0.46525.\n",
    "\n",
    "#### Model Fit in the Fitting Graph\n",
    "\n",
    "The fitting graph analysis clearly showed that as the polynomial degree increases from 2 to 4, both training and testing MSEs decreased. This trend implies that our models are effectively capturing more of the complexity inherent in the data with each incremental degree. The fourth-degree polynomial regression, having the lowest MSEs, was deemed the best fit among the tested models. Importantly, there was no evidence of overfitting, as indicated by the parallel decrease of both training and testing errors. The fourth-degree polynomial model emerged as the optimal balance between complexity and performance based on the dataset.\n",
    "\n",
    "These findings suggest that higher-degree polynomial regression can effectively model the non-linear relationship between movie budgets and gross revenue. However, the careful selection of polynomial degree is crucial to avoid overfitting while still capturing the underlying data pattern with sufficient complexity. The results from our polynomial regression models inform our understanding of the financial dynamics in the movie industry, providing valuable insights into how budgetary decisions can influence a movie's commercial success."
   ]
  },
  {
   "cell_type": "markdown",
   "metadata": {},
   "source": [
    "### Model 2: Neural Network"
   ]
  },
  {
   "cell_type": "markdown",
   "metadata": {},
   "source": [
    "#### Data Preprocessing\n",
    "Our neural network model's preprocessing involved creating a new target variable 'group_rating' derived from the 'Score' feature, which classifies movies into 'very bad,' 'bad,' 'mid,' and 'good' categories. We selected 'Budget' and 'Gross Revenue' as feature inputs, applied one-hot encoding to the target variable, and performed MinMax scaling on the inputs to normalize the data.\n",
    "\n",
    "#### Training and Testing Performance\n",
    "The neural network was trained and tested, revealing the following results:\n",
    "\n",
    "- Confusion Matrix indicated a strong bias towards one class, with the model correctly predicting all samples of the third class but none for the first two.\n",
    "- Accuracy was high at 91.2%, which should be interpreted cautiously due to the apparent class imbalance.\n",
    "- Mean Squared Error (MSE) stood at 0.0931, less indicative due to the classification nature of the problem.\n",
    "- Precision was recorded at 83.2%, suggesting the model was mostly correct when it made predictions, albeit likely skewed by class imbalance.\n",
    "- Recall matched the accuracy, again reflecting the bias towards the third class.\n",
    "\n",
    "#### K-Fold Cross-Validation\n",
    "K-Fold cross-validation demonstrated the model's consistent performance, with an overall average accuracy of approximately 89.7% and an average MSE of 0.0516, indicating robustness across different data segments. The variance in accuracy and MSE suggested some susceptibility to overfitting on particular subsets of the data.\n",
    "\n",
    "#### Hyperparameter Tuning\n",
    "Hyperparameter tuning identified an optimal configuration for the neural network model, indicating that 312 units for the first hidden layer and a learning rate of about 0.0002 are best suited for this analysis.\n",
    "\n",
    "#### Model Accuracy and Loss Over Epochs\n",
    "Training and validation accuracy graphs showed an initial surge followed by a plateau, with the validation accuracy peculiarly higher than training accuracy. Loss graphs for both sets decreased consistently over epochs, indicative of good generalization and no evidence of overfitting or underfitting.\n",
    "\n",
    "#### Analysis\n",
    "The model demonstrated high classification accuracy for the 'group ratings' based on 'Gross Revenue' and 'Budget'. However, the analysis indicates a potential class imbalance, as shown by the model's inability to predict the minority classes accurately.\n",
    "\n",
    "In conclusion, while the neural network model exhibits strong predictive accuracy, it is prone to bias toward the majority class, a challenge that future iterations of the model must address to improve class-specific predictive performance."
   ]
  },
  {
   "cell_type": "markdown",
   "metadata": {},
   "source": [
    "### Model 3: Decision Tree Classifier"
   ]
  },
  {
   "cell_type": "markdown",
   "metadata": {},
   "source": []
  },
  {
   "cell_type": "markdown",
   "metadata": {},
   "source": [
    "# Discussion"
   ]
  },
  {
   "cell_type": "markdown",
   "metadata": {},
   "source": []
  },
  {
   "cell_type": "markdown",
   "metadata": {},
   "source": [
    "# Conclusion"
   ]
  },
  {
   "cell_type": "markdown",
   "metadata": {},
   "source": []
  },
  {
   "cell_type": "markdown",
   "metadata": {},
   "source": [
    "# Collaboration Section"
   ]
  },
  {
   "cell_type": "markdown",
   "metadata": {},
   "source": [
    "Arthur Andersen: (Team Leader)\n",
    "-  Create the Model 2: Neural Network \n",
    "-  Work on the readme section\n",
    "-  Did the write up for the introduction and the layout format\n",
    "\n",
    "Bryan Tan:\n",
    "- \n",
    "- \n",
    "\n",
    "Carlson Ricardo Salim:\n",
    "-  Create the Model 2: Neural Network \n",
    "-  Work on the readme section\n",
    "-  Did the write up for the introduction and the layout format\n",
    "\n",
    "Kenneth Hidayat:\n",
    "- \n",
    "- \n",
    "\n",
    "Steven Sahar:\n",
    "- \n",
    "- \n",
    "\n",
    "Ryan Paquia:\n",
    "- \n",
    "- \n",
    "\n",
    "Noah Jaurigue:\n",
    "- \n",
    "- \n"
   ]
  },
  {
   "cell_type": "markdown",
   "metadata": {},
   "source": []
  }
 ],
 "metadata": {
  "colab": {
   "provenance": []
  },
  "kernelspec": {
   "display_name": "Python 3 (ipykernel)",
   "language": "python",
   "name": "python3"
  },
  "language_info": {
   "codemirror_mode": {
    "name": "ipython",
    "version": 3
   },
   "file_extension": ".py",
   "mimetype": "text/x-python",
   "name": "python",
   "nbconvert_exporter": "python",
   "pygments_lexer": "ipython3",
   "version": "3.8.18"
  },
  "vscode": {
   "interpreter": {
    "hash": "aee8b7b246df8f9039afb4144a1f6fd8d2ca17a180786b69acc140d282b71a49"
   }
  }
 },
 "nbformat": 4,
 "nbformat_minor": 4
}
