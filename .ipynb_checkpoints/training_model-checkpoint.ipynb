{
 "cells": [
  {
   "cell_type": "code",
   "execution_count": 1,
   "metadata": {
    "id": "eb_P-vOyV2qz"
   },
   "outputs": [
    {
     "name": "stderr",
     "output_type": "stream",
     "text": [
      "2024-03-11 19:57:37.243631: I tensorflow/core/platform/cpu_feature_guard.cc:182] This TensorFlow binary is optimized to use available CPU instructions in performance-critical operations.\n",
      "To enable the following instructions: AVX2 FMA, in other operations, rebuild TensorFlow with the appropriate compiler flags.\n",
      "/var/folders/3k/lvpqmh5177qgn5zhmr71bjnm0000gn/T/ipykernel_7528/4073055180.py:20: DeprecationWarning: `import kerastuner` is deprecated, please use `import keras_tuner`.\n",
      "  import kerastuner as kt\n"
     ]
    }
   ],
   "source": [
    "import pandas as pd\n",
    "import numpy as np\n",
    "import matplotlib.pyplot as plt\n",
    "import seaborn as sns\n",
    "from sklearn import datasets\n",
    "from sklearn.model_selection import cross_val_score\n",
    "from sklearn.linear_model import LinearRegression\n",
    "from sklearn.metrics import mean_squared_error, r2_score\n",
    "from sklearn.model_selection import train_test_split\n",
    "from sklearn.preprocessing import MinMaxScaler, StandardScaler, OneHotEncoder\n",
    "import statsmodels.api as sm\n",
    "from scipy import stats\n",
    "from scipy.stats import boxcox\n",
    "from sklearn.metrics import confusion_matrix, accuracy_score, mean_squared_error, precision_score, recall_score\n",
    "from tensorflow.keras.models import Sequential\n",
    "from tensorflow.keras.layers import Dense\n",
    "from tensorflow.keras.optimizers import SGD\n",
    "from scikeras.wrappers import KerasClassifier\n",
    "from sklearn.model_selection import RepeatedKFold, cross_validate\n",
    "import kerastuner as kt\n",
    "from tensorflow import keras\n",
    "from tensorflow.keras import layers"
   ]
  },
  {
   "cell_type": "code",
   "execution_count": 2,
   "metadata": {},
   "outputs": [
    {
     "name": "stdout",
     "output_type": "stream",
     "text": [
      "Requirement already satisfied: tensorflow in /Library/Frameworks/Python.framework/Versions/3.9/lib/python3.9/site-packages (2.15.0)\n",
      "Requirement already satisfied: absl-py>=1.0.0 in /Library/Frameworks/Python.framework/Versions/3.9/lib/python3.9/site-packages (from tensorflow) (2.1.0)\n",
      "Requirement already satisfied: astunparse>=1.6.0 in /Library/Frameworks/Python.framework/Versions/3.9/lib/python3.9/site-packages (from tensorflow) (1.6.3)\n",
      "Requirement already satisfied: flatbuffers>=23.5.26 in /Library/Frameworks/Python.framework/Versions/3.9/lib/python3.9/site-packages (from tensorflow) (23.5.26)\n",
      "Requirement already satisfied: gast!=0.5.0,!=0.5.1,!=0.5.2,>=0.2.1 in /Library/Frameworks/Python.framework/Versions/3.9/lib/python3.9/site-packages (from tensorflow) (0.5.4)\n",
      "Requirement already satisfied: google-pasta>=0.1.1 in /Library/Frameworks/Python.framework/Versions/3.9/lib/python3.9/site-packages (from tensorflow) (0.2.0)\n",
      "Requirement already satisfied: h5py>=2.9.0 in /Library/Frameworks/Python.framework/Versions/3.9/lib/python3.9/site-packages (from tensorflow) (3.10.0)\n",
      "Requirement already satisfied: libclang>=13.0.0 in /Library/Frameworks/Python.framework/Versions/3.9/lib/python3.9/site-packages (from tensorflow) (16.0.6)\n",
      "Requirement already satisfied: ml-dtypes~=0.2.0 in /Library/Frameworks/Python.framework/Versions/3.9/lib/python3.9/site-packages (from tensorflow) (0.2.0)\n",
      "Requirement already satisfied: numpy<2.0.0,>=1.23.5 in /Library/Frameworks/Python.framework/Versions/3.9/lib/python3.9/site-packages (from tensorflow) (1.26.4)\n",
      "Requirement already satisfied: opt-einsum>=2.3.2 in /Library/Frameworks/Python.framework/Versions/3.9/lib/python3.9/site-packages (from tensorflow) (3.3.0)\n",
      "Requirement already satisfied: packaging in /Library/Frameworks/Python.framework/Versions/3.9/lib/python3.9/site-packages (from tensorflow) (23.2)\n",
      "Requirement already satisfied: protobuf!=4.21.0,!=4.21.1,!=4.21.2,!=4.21.3,!=4.21.4,!=4.21.5,<5.0.0dev,>=3.20.3 in /Library/Frameworks/Python.framework/Versions/3.9/lib/python3.9/site-packages (from tensorflow) (4.25.3)\n",
      "Requirement already satisfied: setuptools in /Library/Frameworks/Python.framework/Versions/3.9/lib/python3.9/site-packages (from tensorflow) (49.2.1)\n",
      "Requirement already satisfied: six>=1.12.0 in /Library/Frameworks/Python.framework/Versions/3.9/lib/python3.9/site-packages (from tensorflow) (1.16.0)\n",
      "Requirement already satisfied: termcolor>=1.1.0 in /Library/Frameworks/Python.framework/Versions/3.9/lib/python3.9/site-packages (from tensorflow) (2.4.0)\n",
      "Requirement already satisfied: typing-extensions>=3.6.6 in /Library/Frameworks/Python.framework/Versions/3.9/lib/python3.9/site-packages (from tensorflow) (4.9.0)\n",
      "Requirement already satisfied: wrapt<1.15,>=1.11.0 in /Library/Frameworks/Python.framework/Versions/3.9/lib/python3.9/site-packages (from tensorflow) (1.14.1)\n",
      "Requirement already satisfied: tensorflow-io-gcs-filesystem>=0.23.1 in /Library/Frameworks/Python.framework/Versions/3.9/lib/python3.9/site-packages (from tensorflow) (0.36.0)\n",
      "Requirement already satisfied: grpcio<2.0,>=1.24.3 in /Library/Frameworks/Python.framework/Versions/3.9/lib/python3.9/site-packages (from tensorflow) (1.62.0)\n",
      "Requirement already satisfied: tensorboard<2.16,>=2.15 in /Library/Frameworks/Python.framework/Versions/3.9/lib/python3.9/site-packages (from tensorflow) (2.15.2)\n",
      "Requirement already satisfied: tensorflow-estimator<2.16,>=2.15.0 in /Library/Frameworks/Python.framework/Versions/3.9/lib/python3.9/site-packages (from tensorflow) (2.15.0)\n",
      "Requirement already satisfied: keras<2.16,>=2.15.0 in /Library/Frameworks/Python.framework/Versions/3.9/lib/python3.9/site-packages (from tensorflow) (2.15.0)\n",
      "Requirement already satisfied: wheel<1.0,>=0.23.0 in /Library/Frameworks/Python.framework/Versions/3.9/lib/python3.9/site-packages (from astunparse>=1.6.0->tensorflow) (0.42.0)\n",
      "Requirement already satisfied: google-auth<3,>=1.6.3 in /Library/Frameworks/Python.framework/Versions/3.9/lib/python3.9/site-packages (from tensorboard<2.16,>=2.15->tensorflow) (2.28.1)\n",
      "Requirement already satisfied: google-auth-oauthlib<2,>=0.5 in /Library/Frameworks/Python.framework/Versions/3.9/lib/python3.9/site-packages (from tensorboard<2.16,>=2.15->tensorflow) (1.2.0)\n",
      "Requirement already satisfied: markdown>=2.6.8 in /Library/Frameworks/Python.framework/Versions/3.9/lib/python3.9/site-packages (from tensorboard<2.16,>=2.15->tensorflow) (3.5.2)\n",
      "Requirement already satisfied: requests<3,>=2.21.0 in /Library/Frameworks/Python.framework/Versions/3.9/lib/python3.9/site-packages (from tensorboard<2.16,>=2.15->tensorflow) (2.31.0)\n",
      "Requirement already satisfied: tensorboard-data-server<0.8.0,>=0.7.0 in /Library/Frameworks/Python.framework/Versions/3.9/lib/python3.9/site-packages (from tensorboard<2.16,>=2.15->tensorflow) (0.7.2)\n",
      "Requirement already satisfied: werkzeug>=1.0.1 in /Library/Frameworks/Python.framework/Versions/3.9/lib/python3.9/site-packages (from tensorboard<2.16,>=2.15->tensorflow) (3.0.1)\n",
      "Requirement already satisfied: cachetools<6.0,>=2.0.0 in /Library/Frameworks/Python.framework/Versions/3.9/lib/python3.9/site-packages (from google-auth<3,>=1.6.3->tensorboard<2.16,>=2.15->tensorflow) (5.3.2)\n",
      "Requirement already satisfied: pyasn1-modules>=0.2.1 in /Library/Frameworks/Python.framework/Versions/3.9/lib/python3.9/site-packages (from google-auth<3,>=1.6.3->tensorboard<2.16,>=2.15->tensorflow) (0.3.0)\n",
      "Requirement already satisfied: rsa<5,>=3.1.4 in /Library/Frameworks/Python.framework/Versions/3.9/lib/python3.9/site-packages (from google-auth<3,>=1.6.3->tensorboard<2.16,>=2.15->tensorflow) (4.9)\n",
      "Requirement already satisfied: requests-oauthlib>=0.7.0 in /Library/Frameworks/Python.framework/Versions/3.9/lib/python3.9/site-packages (from google-auth-oauthlib<2,>=0.5->tensorboard<2.16,>=2.15->tensorflow) (1.3.1)\n",
      "Requirement already satisfied: importlib-metadata>=4.4 in /Library/Frameworks/Python.framework/Versions/3.9/lib/python3.9/site-packages (from markdown>=2.6.8->tensorboard<2.16,>=2.15->tensorflow) (7.0.1)\n",
      "Requirement already satisfied: charset-normalizer<4,>=2 in /Library/Frameworks/Python.framework/Versions/3.9/lib/python3.9/site-packages (from requests<3,>=2.21.0->tensorboard<2.16,>=2.15->tensorflow) (3.3.2)\n",
      "Requirement already satisfied: idna<4,>=2.5 in /Library/Frameworks/Python.framework/Versions/3.9/lib/python3.9/site-packages (from requests<3,>=2.21.0->tensorboard<2.16,>=2.15->tensorflow) (3.6)\n",
      "Requirement already satisfied: urllib3<3,>=1.21.1 in /Library/Frameworks/Python.framework/Versions/3.9/lib/python3.9/site-packages (from requests<3,>=2.21.0->tensorboard<2.16,>=2.15->tensorflow) (2.2.1)\n",
      "Requirement already satisfied: certifi>=2017.4.17 in /Library/Frameworks/Python.framework/Versions/3.9/lib/python3.9/site-packages (from requests<3,>=2.21.0->tensorboard<2.16,>=2.15->tensorflow) (2024.2.2)\n",
      "Requirement already satisfied: MarkupSafe>=2.1.1 in /Library/Frameworks/Python.framework/Versions/3.9/lib/python3.9/site-packages (from werkzeug>=1.0.1->tensorboard<2.16,>=2.15->tensorflow) (2.1.5)\n",
      "Requirement already satisfied: zipp>=0.5 in /Library/Frameworks/Python.framework/Versions/3.9/lib/python3.9/site-packages (from importlib-metadata>=4.4->markdown>=2.6.8->tensorboard<2.16,>=2.15->tensorflow) (3.17.0)\n",
      "Requirement already satisfied: pyasn1<0.6.0,>=0.4.6 in /Library/Frameworks/Python.framework/Versions/3.9/lib/python3.9/site-packages (from pyasn1-modules>=0.2.1->google-auth<3,>=1.6.3->tensorboard<2.16,>=2.15->tensorflow) (0.5.1)\n",
      "Requirement already satisfied: oauthlib>=3.0.0 in /Library/Frameworks/Python.framework/Versions/3.9/lib/python3.9/site-packages (from requests-oauthlib>=0.7.0->google-auth-oauthlib<2,>=0.5->tensorboard<2.16,>=2.15->tensorflow) (3.2.2)\n",
      "Note: you may need to restart the kernel to use updated packages.\n"
     ]
    }
   ],
   "source": [
    "pip install tensorflow"
   ]
  },
  {
   "cell_type": "markdown",
   "metadata": {
    "id": "dzHqhwENV2q4"
   },
   "source": [
    "# Data Cleaning (KaggleMovies.csv)"
   ]
  },
  {
   "cell_type": "markdown",
   "metadata": {},
   "source": [
    "df is going to have all of our data about each movies"
   ]
  },
  {
   "cell_type": "code",
   "execution_count": 4,
   "metadata": {
    "colab": {
     "base_uri": "https://localhost:8080/",
     "height": 328
    },
    "id": "jkdvH2YNV2q7",
    "outputId": "3144f991-3069-4222-f27e-03ac0079734d"
   },
   "outputs": [
    {
     "ename": "FileNotFoundError",
     "evalue": "[Errno 2] No such file or directory: 'CSE_151_Project/Datasets/KaggleMovies.csv'",
     "output_type": "error",
     "traceback": [
      "\u001b[0;31m---------------------------------------------------------------------------\u001b[0m",
      "\u001b[0;31mFileNotFoundError\u001b[0m                         Traceback (most recent call last)",
      "Cell \u001b[0;32mIn[4], line 2\u001b[0m\n\u001b[1;32m      1\u001b[0m \u001b[38;5;66;03m# Read the dataset\u001b[39;00m\n\u001b[0;32m----> 2\u001b[0m df \u001b[38;5;241m=\u001b[39m \u001b[43mpd\u001b[49m\u001b[38;5;241;43m.\u001b[39;49m\u001b[43mread_csv\u001b[49m\u001b[43m(\u001b[49m\u001b[38;5;124;43m'\u001b[39;49m\u001b[38;5;124;43mCSE_151_Project/Datasets/KaggleMovies.csv\u001b[39;49m\u001b[38;5;124;43m'\u001b[39;49m\u001b[43m)\u001b[49m\n\u001b[1;32m      3\u001b[0m pd\u001b[38;5;241m.\u001b[39mset_option(\u001b[38;5;124m'\u001b[39m\u001b[38;5;124mfloat_format\u001b[39m\u001b[38;5;124m'\u001b[39m, \u001b[38;5;124m'\u001b[39m\u001b[38;5;132;01m{:f}\u001b[39;00m\u001b[38;5;124m'\u001b[39m\u001b[38;5;241m.\u001b[39mformat)\n\u001b[1;32m      4\u001b[0m pd\u001b[38;5;241m.\u001b[39mset_option(\u001b[38;5;124m'\u001b[39m\u001b[38;5;124mdisplay.precision\u001b[39m\u001b[38;5;124m'\u001b[39m, \u001b[38;5;241m2\u001b[39m)\n",
      "File \u001b[0;32m/Library/Frameworks/Python.framework/Versions/3.9/lib/python3.9/site-packages/pandas/io/parsers/readers.py:1026\u001b[0m, in \u001b[0;36mread_csv\u001b[0;34m(filepath_or_buffer, sep, delimiter, header, names, index_col, usecols, dtype, engine, converters, true_values, false_values, skipinitialspace, skiprows, skipfooter, nrows, na_values, keep_default_na, na_filter, verbose, skip_blank_lines, parse_dates, infer_datetime_format, keep_date_col, date_parser, date_format, dayfirst, cache_dates, iterator, chunksize, compression, thousands, decimal, lineterminator, quotechar, quoting, doublequote, escapechar, comment, encoding, encoding_errors, dialect, on_bad_lines, delim_whitespace, low_memory, memory_map, float_precision, storage_options, dtype_backend)\u001b[0m\n\u001b[1;32m   1013\u001b[0m kwds_defaults \u001b[39m=\u001b[39m _refine_defaults_read(\n\u001b[1;32m   1014\u001b[0m     dialect,\n\u001b[1;32m   1015\u001b[0m     delimiter,\n\u001b[0;32m   (...)\u001b[0m\n\u001b[1;32m   1022\u001b[0m     dtype_backend\u001b[39m=\u001b[39mdtype_backend,\n\u001b[1;32m   1023\u001b[0m )\n\u001b[1;32m   1024\u001b[0m kwds\u001b[39m.\u001b[39mupdate(kwds_defaults)\n\u001b[0;32m-> 1026\u001b[0m \u001b[39mreturn\u001b[39;00m _read(filepath_or_buffer, kwds)\n",
      "File \u001b[0;32m/Library/Frameworks/Python.framework/Versions/3.9/lib/python3.9/site-packages/pandas/io/parsers/readers.py:620\u001b[0m, in \u001b[0;36m_read\u001b[0;34m(filepath_or_buffer, kwds)\u001b[0m\n\u001b[1;32m    617\u001b[0m _validate_names(kwds\u001b[39m.\u001b[39mget(\u001b[39m\"\u001b[39m\u001b[39mnames\u001b[39m\u001b[39m\"\u001b[39m, \u001b[39mNone\u001b[39;00m))\n\u001b[1;32m    619\u001b[0m \u001b[39m# Create the parser.\u001b[39;00m\n\u001b[0;32m--> 620\u001b[0m parser \u001b[39m=\u001b[39m TextFileReader(filepath_or_buffer, \u001b[39m*\u001b[39;49m\u001b[39m*\u001b[39;49mkwds)\n\u001b[1;32m    622\u001b[0m \u001b[39mif\u001b[39;00m chunksize \u001b[39mor\u001b[39;00m iterator:\n\u001b[1;32m    623\u001b[0m     \u001b[39mreturn\u001b[39;00m parser\n",
      "File \u001b[0;32m/Library/Frameworks/Python.framework/Versions/3.9/lib/python3.9/site-packages/pandas/io/parsers/readers.py:1620\u001b[0m, in \u001b[0;36mTextFileReader.__init__\u001b[0;34m(self, f, engine, **kwds)\u001b[0m\n\u001b[1;32m   1617\u001b[0m     \u001b[39mself\u001b[39m\u001b[39m.\u001b[39moptions[\u001b[39m\"\u001b[39m\u001b[39mhas_index_names\u001b[39m\u001b[39m\"\u001b[39m] \u001b[39m=\u001b[39m kwds[\u001b[39m\"\u001b[39m\u001b[39mhas_index_names\u001b[39m\u001b[39m\"\u001b[39m]\n\u001b[1;32m   1619\u001b[0m \u001b[39mself\u001b[39m\u001b[39m.\u001b[39mhandles: IOHandles \u001b[39m|\u001b[39m \u001b[39mNone\u001b[39;00m \u001b[39m=\u001b[39m \u001b[39mNone\u001b[39;00m\n\u001b[0;32m-> 1620\u001b[0m \u001b[39mself\u001b[39m\u001b[39m.\u001b[39m_engine \u001b[39m=\u001b[39m \u001b[39mself\u001b[39;49m\u001b[39m.\u001b[39;49m_make_engine(f, \u001b[39mself\u001b[39;49m\u001b[39m.\u001b[39;49mengine)\n",
      "File \u001b[0;32m/Library/Frameworks/Python.framework/Versions/3.9/lib/python3.9/site-packages/pandas/io/parsers/readers.py:1880\u001b[0m, in \u001b[0;36mTextFileReader._make_engine\u001b[0;34m(self, f, engine)\u001b[0m\n\u001b[1;32m   1878\u001b[0m     \u001b[39mif\u001b[39;00m \u001b[39m\"\u001b[39m\u001b[39mb\u001b[39m\u001b[39m\"\u001b[39m \u001b[39mnot\u001b[39;00m \u001b[39min\u001b[39;00m mode:\n\u001b[1;32m   1879\u001b[0m         mode \u001b[39m+\u001b[39m\u001b[39m=\u001b[39m \u001b[39m\"\u001b[39m\u001b[39mb\u001b[39m\u001b[39m\"\u001b[39m\n\u001b[0;32m-> 1880\u001b[0m \u001b[39mself\u001b[39m\u001b[39m.\u001b[39mhandles \u001b[39m=\u001b[39m get_handle(\n\u001b[1;32m   1881\u001b[0m     f,\n\u001b[1;32m   1882\u001b[0m     mode,\n\u001b[1;32m   1883\u001b[0m     encoding\u001b[39m=\u001b[39;49m\u001b[39mself\u001b[39;49m\u001b[39m.\u001b[39;49moptions\u001b[39m.\u001b[39;49mget(\u001b[39m\"\u001b[39;49m\u001b[39mencoding\u001b[39;49m\u001b[39m\"\u001b[39;49m, \u001b[39mNone\u001b[39;49;00m),\n\u001b[1;32m   1884\u001b[0m     compression\u001b[39m=\u001b[39;49m\u001b[39mself\u001b[39;49m\u001b[39m.\u001b[39;49moptions\u001b[39m.\u001b[39;49mget(\u001b[39m\"\u001b[39;49m\u001b[39mcompression\u001b[39;49m\u001b[39m\"\u001b[39;49m, \u001b[39mNone\u001b[39;49;00m),\n\u001b[1;32m   1885\u001b[0m     memory_map\u001b[39m=\u001b[39;49m\u001b[39mself\u001b[39;49m\u001b[39m.\u001b[39;49moptions\u001b[39m.\u001b[39;49mget(\u001b[39m\"\u001b[39;49m\u001b[39mmemory_map\u001b[39;49m\u001b[39m\"\u001b[39;49m, \u001b[39mFalse\u001b[39;49;00m),\n\u001b[1;32m   1886\u001b[0m     is_text\u001b[39m=\u001b[39;49mis_text,\n\u001b[1;32m   1887\u001b[0m     errors\u001b[39m=\u001b[39;49m\u001b[39mself\u001b[39;49m\u001b[39m.\u001b[39;49moptions\u001b[39m.\u001b[39;49mget(\u001b[39m\"\u001b[39;49m\u001b[39mencoding_errors\u001b[39;49m\u001b[39m\"\u001b[39;49m, \u001b[39m\"\u001b[39;49m\u001b[39mstrict\u001b[39;49m\u001b[39m\"\u001b[39;49m),\n\u001b[1;32m   1888\u001b[0m     storage_options\u001b[39m=\u001b[39;49m\u001b[39mself\u001b[39;49m\u001b[39m.\u001b[39;49moptions\u001b[39m.\u001b[39;49mget(\u001b[39m\"\u001b[39;49m\u001b[39mstorage_options\u001b[39;49m\u001b[39m\"\u001b[39;49m, \u001b[39mNone\u001b[39;49;00m),\n\u001b[1;32m   1889\u001b[0m )\n\u001b[1;32m   1890\u001b[0m \u001b[39massert\u001b[39;00m \u001b[39mself\u001b[39m\u001b[39m.\u001b[39mhandles \u001b[39mis\u001b[39;00m \u001b[39mnot\u001b[39;00m \u001b[39mNone\u001b[39;00m\n\u001b[1;32m   1891\u001b[0m f \u001b[39m=\u001b[39m \u001b[39mself\u001b[39m\u001b[39m.\u001b[39mhandles\u001b[39m.\u001b[39mhandle\n",
      "File \u001b[0;32m/Library/Frameworks/Python.framework/Versions/3.9/lib/python3.9/site-packages/pandas/io/common.py:873\u001b[0m, in \u001b[0;36mget_handle\u001b[0;34m(path_or_buf, mode, encoding, compression, memory_map, is_text, errors, storage_options)\u001b[0m\n\u001b[1;32m    868\u001b[0m \u001b[39melif\u001b[39;00m \u001b[39misinstance\u001b[39m(handle, \u001b[39mstr\u001b[39m):\n\u001b[1;32m    869\u001b[0m     \u001b[39m# Check whether the filename is to be opened in binary mode.\u001b[39;00m\n\u001b[1;32m    870\u001b[0m     \u001b[39m# Binary mode does not support 'encoding' and 'newline'.\u001b[39;00m\n\u001b[1;32m    871\u001b[0m     \u001b[39mif\u001b[39;00m ioargs\u001b[39m.\u001b[39mencoding \u001b[39mand\u001b[39;00m \u001b[39m\"\u001b[39m\u001b[39mb\u001b[39m\u001b[39m\"\u001b[39m \u001b[39mnot\u001b[39;00m \u001b[39min\u001b[39;00m ioargs\u001b[39m.\u001b[39mmode:\n\u001b[1;32m    872\u001b[0m         \u001b[39m# Encoding\u001b[39;00m\n\u001b[0;32m--> 873\u001b[0m         handle \u001b[39m=\u001b[39m \u001b[39mopen\u001b[39;49m(\n\u001b[1;32m    874\u001b[0m             handle,\n\u001b[1;32m    875\u001b[0m             ioargs\u001b[39m.\u001b[39;49mmode,\n\u001b[1;32m    876\u001b[0m             encoding\u001b[39m=\u001b[39;49mioargs\u001b[39m.\u001b[39;49mencoding,\n\u001b[1;32m    877\u001b[0m             errors\u001b[39m=\u001b[39;49merrors,\n\u001b[1;32m    878\u001b[0m             newline\u001b[39m=\u001b[39;49m\u001b[39m\"\u001b[39;49m\u001b[39m\"\u001b[39;49m,\n\u001b[1;32m    879\u001b[0m         )\n\u001b[1;32m    880\u001b[0m     \u001b[39melse\u001b[39;00m:\n\u001b[1;32m    881\u001b[0m         \u001b[39m# Binary mode\u001b[39;00m\n\u001b[1;32m    882\u001b[0m         handle \u001b[39m=\u001b[39m \u001b[39mopen\u001b[39m(handle, ioargs\u001b[39m.\u001b[39mmode)\n",
      "\u001b[0;31mFileNotFoundError\u001b[0m: [Errno 2] No such file or directory: 'CSE_151_Project/Datasets/KaggleMovies.csv'"
     ]
    }
   ],
   "source": [
    "# Read the dataset\n",
    "df = pd.read_csv('CSE_151_Project/Datasets/KaggleMovies.csv')\n",
    "pd.set_option('float_format', '{:f}'.format)\n",
    "pd.set_option('display.precision', 2)\n",
    "df.head()"
   ]
  },
  {
   "cell_type": "code",
   "execution_count": null,
   "metadata": {
    "id": "MmOp3uAsV2q7"
   },
   "outputs": [],
   "source": [
    "# Renaming columns\n",
    "column_mapping = {\n",
    "    'name' : 'Name',\n",
    "    'rating' : 'Rating',\n",
    "    'genre' : 'Genre',\n",
    "    'year' : 'Year',\n",
    "    'released' : 'Released',\n",
    "    'score' : 'Score',\n",
    "    'votes' : 'Votes',\n",
    "    'director' : 'Director',\n",
    "    'writer' : 'Writer',\n",
    "    'star' : 'Star',\n",
    "    'country' : 'Country',\n",
    "    'budget' : 'Budget',\n",
    "    'gross' : 'Gross Revenue',\n",
    "    'company' : 'Company',\n",
    "    'runtime' : 'Runtime'\n",
    "}\n",
    "\n",
    "df = df.rename(columns=column_mapping)"
   ]
  },
  {
   "cell_type": "code",
   "execution_count": null,
   "metadata": {
    "colab": {
     "base_uri": "https://localhost:8080/"
    },
    "id": "3SJUA4qtV2q8",
    "outputId": "9daa334d-b255-41c7-96c3-18ab87ea0ea1"
   },
   "outputs": [],
   "source": [
    "# Check for empty spaces\n",
    "print(f\"Shape: {df.shape}\\n\")\n",
    "isna = df.isna().sum(axis=0)\n",
    "isna"
   ]
  },
  {
   "cell_type": "code",
   "execution_count": null,
   "metadata": {
    "colab": {
     "base_uri": "https://localhost:8080/"
    },
    "id": "8cd74dCFV2q8",
    "outputId": "6b378832-c5c3-4410-9eca-c17d218dc544"
   },
   "outputs": [],
   "source": [
    "# Remove rows with null values\n",
    "df = df.dropna()\n",
    "print(f\"Shape: {df.shape}\\n\")\n",
    "print(df.isna().sum(axis=0))"
   ]
  },
  {
   "cell_type": "code",
   "execution_count": null,
   "metadata": {
    "colab": {
     "base_uri": "https://localhost:8080/",
     "height": 365
    },
    "id": "Bncy_-emV2q9",
    "outputId": "e27c879c-1cd5-4146-c0a0-99166af43fbe"
   },
   "outputs": [],
   "source": [
    "# Convert certain columns to appropiate data types\n",
    "df.loc[:,['Votes', 'Budget', 'Runtime', 'Gross Revenue']] = df[['Votes', 'Budget', 'Runtime', 'Gross Revenue']].astype('int')\n",
    "df.loc[:,'Score'] = df['Score'].apply(lambda x: float(\"{:.2f}\".format(x)))\n",
    "df.head()"
   ]
  },
  {
   "cell_type": "code",
   "execution_count": null,
   "metadata": {
    "colab": {
     "base_uri": "https://localhost:8080/"
    },
    "id": "HYPblPO09Hcr",
    "outputId": "52aaee3c-ccf8-4b0f-99b2-cc63cfa3753b"
   },
   "outputs": [],
   "source": [
    "print(df.dtypes)"
   ]
  },
  {
   "cell_type": "code",
   "execution_count": null,
   "metadata": {
    "colab": {
     "base_uri": "https://localhost:8080/"
    },
    "id": "38LFY_LOgZL_",
    "outputId": "67a20ef0-863d-4ed0-d67b-e75087afcabf"
   },
   "outputs": [],
   "source": [
    "# Check number of unique movie names\n",
    "len(df['Name'].unique())"
   ]
  },
  {
   "cell_type": "code",
   "execution_count": null,
   "metadata": {
    "colab": {
     "base_uri": "https://localhost:8080/",
     "height": 345
    },
    "id": "Fgm1UuIbgukg",
    "outputId": "bde02f6c-8de4-4b18-eeee-f3e1ccec2b42"
   },
   "outputs": [],
   "source": [
    "#Drop duplicate movie names\n",
    "df = df.drop_duplicates(subset=['Name'], keep='first')\n",
    "print(f\"Shape: {df.shape}\\n\")\n",
    "df.head()"
   ]
  },
  {
   "cell_type": "markdown",
   "metadata": {},
   "source": [
    "df now contains movies that are unique and have no empty values on any of its attributes"
   ]
  },
  {
   "cell_type": "markdown",
   "metadata": {
    "id": "b5dFi6Qa1dlK"
   },
   "source": [
    "### Univariate Analysis (Numerical Variables)"
   ]
  },
  {
   "cell_type": "code",
   "execution_count": null,
   "metadata": {
    "colab": {
     "base_uri": "https://localhost:8080/",
     "height": 300
    },
    "id": "gAbQ72UBkOoE",
    "outputId": "4beaec7f-c7c6-41a0-d3e0-dc1c76a33733"
   },
   "outputs": [],
   "source": [
    "df.describe()"
   ]
  },
  {
   "cell_type": "code",
   "execution_count": null,
   "metadata": {
    "colab": {
     "base_uri": "https://localhost:8080/",
     "height": 880
    },
    "id": "KFhW43DtrxOO",
    "outputId": "d36cc866-dad5-4e4e-d641-7884cffc91f6"
   },
   "outputs": [],
   "source": [
    "#Univariate Analysis of Year\n",
    "plt.figure(figsize=(14, 4))\n",
    "\n",
    "#histogram\n",
    "plt.subplot(1, 2, 1)\n",
    "sns.histplot(df['Year'], kde=True, stat='density')\n",
    "plt.title('Distribution of Year')\n",
    "plt.xlabel('Year')\n",
    "plt.ylabel('Density')\n",
    "plt.show()\n",
    "\n",
    "#Q-Q plot\n",
    "plt.subplot(1, 2, 2)\n",
    "stats.probplot(df['Year'], dist=\"norm\", plot=plt)\n",
    "plt.title('Q-Q Plot of Year')\n",
    "plt.xlabel('Theoretical Quantiles')\n",
    "plt.ylabel('Ordered Values')\n",
    "\n",
    "plt.tight_layout()\n",
    "\n",
    "plt.show()"
   ]
  },
  {
   "cell_type": "markdown",
   "metadata": {},
   "source": [
    "Here is our graphs representing the univariate analysis of 'Year'"
   ]
  },
  {
   "cell_type": "code",
   "execution_count": null,
   "metadata": {
    "colab": {
     "base_uri": "https://localhost:8080/",
     "height": 880
    },
    "id": "tgA1M_wlhPdC",
    "outputId": "40718f0e-732f-4e28-cbc5-231f83294286"
   },
   "outputs": [],
   "source": [
    "#Univariate Analysis of Votes\n",
    "plt.figure(figsize=(14, 4))\n",
    "\n",
    "#histogram\n",
    "plt.subplot(1, 2, 1)\n",
    "sns.histplot(df['Votes'], kde=True, stat='density')\n",
    "plt.title('Distribution of Votes')\n",
    "plt.xlabel('Votes')\n",
    "plt.ylabel('Density')\n",
    "plt.show()\n",
    "\n",
    "#Q-Q plot\n",
    "plt.subplot(1, 2, 2)\n",
    "stats.probplot(df['Votes'], dist=\"norm\", plot=plt)\n",
    "plt.title('Q-Q Plot of Votes')\n",
    "plt.xlabel('Theoretical Quantiles')\n",
    "plt.ylabel('Ordered Values')\n",
    "\n",
    "plt.tight_layout()\n",
    "plt.show()"
   ]
  },
  {
   "cell_type": "markdown",
   "metadata": {},
   "source": [
    "Here is our graphs representing the univariate analysis of 'Votes'"
   ]
  },
  {
   "cell_type": "code",
   "execution_count": null,
   "metadata": {
    "colab": {
     "base_uri": "https://localhost:8080/",
     "height": 880
    },
    "id": "vHaH3whytMKo",
    "outputId": "d1e853ff-dcfc-4abe-dc40-56d27b99d316"
   },
   "outputs": [],
   "source": [
    "#Normalize the right skewed data\n",
    "df['Votes'], lambda_votes = boxcox(df['Votes'])\n",
    "\n",
    "plt.figure(figsize=(14, 4))\n",
    "\n",
    "#histogram\n",
    "plt.subplot(1, 2, 1)\n",
    "sns.histplot(df['Votes'], kde=True, stat='density')\n",
    "plt.title('Distribution of Votes')\n",
    "plt.xlabel('Votes')\n",
    "plt.ylabel('Density')\n",
    "plt.show()\n",
    "\n",
    "#Q-Q plot\n",
    "plt.subplot(1, 2, 2)\n",
    "stats.probplot(df['Votes'], dist=\"norm\", plot=plt)\n",
    "plt.title('Q-Q Plot of Votes')\n",
    "plt.xlabel('Theoretical Quantiles')\n",
    "plt.ylabel('Ordered Values')\n",
    "\n",
    "plt.tight_layout()\n",
    "plt.show()"
   ]
  },
  {
   "cell_type": "markdown",
   "metadata": {},
   "source": [
    "Here is our graphs representing the univariate analysis of 'Votes' after normalizing our data"
   ]
  },
  {
   "cell_type": "code",
   "execution_count": null,
   "metadata": {
    "colab": {
     "base_uri": "https://localhost:8080/",
     "height": 880
    },
    "id": "8F1rG_g_u4a3",
    "outputId": "f6110ecd-2f89-4016-ecfc-7bfa746163ba"
   },
   "outputs": [],
   "source": [
    "#Univariate Analysis of Gross Revenue\n",
    "plt.figure(figsize=(14, 4))\n",
    "\n",
    "#histogram\n",
    "plt.subplot(1, 2, 1)\n",
    "sns.histplot(df['Gross Revenue'], kde=True, stat='density')\n",
    "plt.title('Distribution of Gross Revenue')\n",
    "plt.xlabel('Gross Revenue')\n",
    "plt.ylabel('Density')\n",
    "plt.show()\n",
    "\n",
    "#Q-Q plot\n",
    "plt.subplot(1, 2, 2)\n",
    "stats.probplot(df['Gross Revenue'], dist=\"norm\", plot=plt)\n",
    "plt.title('Q-Q Plot of Gross Revenue')\n",
    "plt.xlabel('Theoretical Quantiles')\n",
    "plt.ylabel('Ordered Values')\n",
    "\n",
    "plt.tight_layout()\n",
    "plt.show()"
   ]
  },
  {
   "cell_type": "markdown",
   "metadata": {},
   "source": [
    "Here is our graphs representing the univariate analysis of 'Gross Revenue'"
   ]
  },
  {
   "cell_type": "code",
   "execution_count": null,
   "metadata": {
    "colab": {
     "base_uri": "https://localhost:8080/",
     "height": 880
    },
    "id": "3WfcjKbR0hJB",
    "outputId": "399e5067-060e-4208-eda0-8e1ed5aa3683"
   },
   "outputs": [],
   "source": [
    "#Normalize the right skewed data\n",
    "df['Gross Revenue'], lambda_gross = boxcox(df['Gross Revenue'])\n",
    "plt.figure(figsize=(14, 4))\n",
    "\n",
    "#histogram\n",
    "plt.subplot(1, 2, 1)\n",
    "sns.histplot(df['Gross Revenue'], kde=True, stat='density')\n",
    "plt.title('Distribution of Gross Revenue')\n",
    "plt.xlabel('Gross Revenue')\n",
    "plt.ylabel('Density')\n",
    "plt.show()\n",
    "\n",
    "#Q-Q plot\n",
    "plt.subplot(1, 2, 2)\n",
    "stats.probplot(df['Gross Revenue'], dist=\"norm\", plot=plt)\n",
    "plt.title('Q-Q Plot of Gross Revenue')\n",
    "plt.xlabel('Theoretical Quantiles')\n",
    "plt.ylabel('Ordered Values')\n",
    "\n",
    "plt.tight_layout()\n",
    "plt.show()"
   ]
  },
  {
   "cell_type": "markdown",
   "metadata": {},
   "source": [
    "Here is our graphs representing the univariate analysis of 'Gross Revenue' after normalizing it"
   ]
  },
  {
   "cell_type": "code",
   "execution_count": null,
   "metadata": {
    "colab": {
     "base_uri": "https://localhost:8080/",
     "height": 880
    },
    "id": "91PDv-6K2RZH",
    "outputId": "6be92c90-bee1-497e-d75f-fe867c73eb16"
   },
   "outputs": [],
   "source": [
    "#Univariate Analysis of Budget\n",
    "plt.figure(figsize=(14, 4))\n",
    "\n",
    "#histogram\n",
    "plt.subplot(1, 2, 1)\n",
    "sns.histplot(df['Budget'], kde=True, stat='density')\n",
    "plt.title('Distribution of Budget')\n",
    "plt.xlabel('Budget')\n",
    "plt.ylabel('Density')\n",
    "plt.show()\n",
    "\n",
    "#Q-Q plot\n",
    "plt.subplot(1, 2, 2)\n",
    "stats.probplot(df['Budget'], dist=\"norm\", plot=plt)\n",
    "plt.title('Q-Q Plot of Budget')\n",
    "plt.xlabel('Theoretical Quantiles')\n",
    "plt.ylabel('Ordered Values')\n",
    "\n",
    "plt.tight_layout()\n",
    "plt.show()"
   ]
  },
  {
   "cell_type": "markdown",
   "metadata": {},
   "source": [
    "Here is our graphs representing the univariate analysis of 'Budget'"
   ]
  },
  {
   "cell_type": "code",
   "execution_count": null,
   "metadata": {
    "colab": {
     "base_uri": "https://localhost:8080/",
     "height": 880
    },
    "id": "9gK_Yub-77Xa",
    "outputId": "8e1baa18-3bbd-425a-8849-ff64ee636878"
   },
   "outputs": [],
   "source": [
    "#Univariate Analysis of Runtime\n",
    "plt.figure(figsize=(14, 4))\n",
    "\n",
    "#histogram\n",
    "plt.subplot(1, 2, 1)\n",
    "sns.histplot(df['Runtime'], kde=True, stat='density')\n",
    "plt.title('Distribution of Runtime')\n",
    "plt.xlabel('Runtime')\n",
    "plt.ylabel('Density')\n",
    "plt.show()\n",
    "\n",
    "#Q-Q plot\n",
    "plt.subplot(1, 2, 2)\n",
    "stats.probplot(df['Runtime'], dist=\"norm\", plot=plt)\n",
    "plt.title('Q-Q Plot of Runtime')\n",
    "plt.xlabel('Theoretical Quantiles')\n",
    "plt.ylabel('Ordered Values')\n",
    "\n",
    "plt.tight_layout()\n",
    "plt.show()"
   ]
  },
  {
   "cell_type": "markdown",
   "metadata": {},
   "source": [
    "Here is our graphs representing the univariate analysis of 'Runtime'"
   ]
  },
  {
   "cell_type": "code",
   "execution_count": null,
   "metadata": {
    "colab": {
     "base_uri": "https://localhost:8080/",
     "height": 880
    },
    "id": "hpRTfGkz03h1",
    "outputId": "d29c9570-2774-4c98-8341-fb226e06a02f"
   },
   "outputs": [],
   "source": [
    "df['Budget'] = df['Budget'].apply(lambda x: 250000000 if x > 250000000 else x)\n",
    "\n",
    "plt.figure(figsize=(14, 4))\n",
    "\n",
    "#histogram\n",
    "plt.subplot(1, 2, 1)\n",
    "sns.histplot(df['Budget'], kde=True, stat='density')\n",
    "plt.title('Distribution of Budget')\n",
    "plt.xlabel('Budget')\n",
    "plt.ylabel('Density')\n",
    "plt.show()\n",
    "\n",
    "#Q-Q plot\n",
    "plt.subplot(1, 2, 2)\n",
    "stats.probplot(df['Budget'], dist=\"norm\", plot=plt)\n",
    "plt.title('Q-Q Plot of Budget')\n",
    "plt.xlabel('Theoretical Quantiles')\n",
    "plt.ylabel('Ordered Values')\n",
    "\n",
    "plt.tight_layout()\n",
    "plt.show()\n"
   ]
  },
  {
   "cell_type": "markdown",
   "metadata": {},
   "source": [
    "Here is our graphs representing the univariate analysis of 'Budget' after we cap the values above 250,000,000 to 250,000,000"
   ]
  },
  {
   "cell_type": "markdown",
   "metadata": {
    "id": "647IEk6c10zf"
   },
   "source": [
    "### Univariate Analysis (Categorical Variables)"
   ]
  },
  {
   "cell_type": "code",
   "execution_count": null,
   "metadata": {
    "colab": {
     "base_uri": "https://localhost:8080/"
    },
    "id": "WEZgB2BG1OzA",
    "outputId": "da74795b-3fe6-44c4-e940-d5556c46be3b"
   },
   "outputs": [],
   "source": [
    "print(\"Unique Value Count of Categorical Variables\")\n",
    "print(\"Rating:\", len(df['Rating'].unique()))\n",
    "print(\"Genre:\",len(df['Genre'].unique()))\n",
    "print(\"Director:\",len(df['Director'].unique()))\n",
    "print(\"Writer:\",len(df['Writer'].unique()))\n",
    "print(\"Star:\",len(df['Star'].unique()))\n",
    "print(\"Country:\",len(df['Country'].unique()))\n",
    "print(\"Company:\",len(df['Company'].unique()))"
   ]
  },
  {
   "cell_type": "code",
   "execution_count": null,
   "metadata": {
    "colab": {
     "base_uri": "https://localhost:8080/",
     "height": 489
    },
    "id": "Qw6i78Sq1793",
    "outputId": "ced0f693-f99e-4797-832a-8c9fb1838bdd"
   },
   "outputs": [],
   "source": [
    "score_by_rating = df.groupby(\"Rating\")[\"Score\"].mean().sort_values(ascending=True)\n",
    "\n",
    "plt.barh(score_by_rating.index, score_by_rating.values)\n",
    "plt.xlabel('Mean Score')\n",
    "plt.ylabel('Rating')\n",
    "plt.title('Mean Score by Rating')"
   ]
  },
  {
   "cell_type": "markdown",
   "metadata": {},
   "source": [
    "This horizontal bar chart displays the average scores for different content ratings of movies."
   ]
  },
  {
   "cell_type": "code",
   "execution_count": null,
   "metadata": {
    "colab": {
     "base_uri": "https://localhost:8080/",
     "height": 489
    },
    "id": "iF_Hc92t17qo",
    "outputId": "9a782939-e4c7-492b-cd68-d924b585b743"
   },
   "outputs": [],
   "source": [
    "score_by_genre = df.groupby(\"Genre\")[\"Score\"].mean().sort_values(ascending=True)[len(df['Genre'].unique()) - 10 :]\n",
    "\n",
    "plt.barh(score_by_genre.index, score_by_genre.values)\n",
    "plt.xlabel('Mean Score')\n",
    "plt.ylabel('Genre')\n",
    "plt.title('Mean Score by Genre')"
   ]
  },
  {
   "cell_type": "markdown",
   "metadata": {},
   "source": [
    "This horizontal bar chart displays the average scores for different movie genres."
   ]
  },
  {
   "cell_type": "code",
   "execution_count": null,
   "metadata": {
    "colab": {
     "base_uri": "https://localhost:8080/",
     "height": 489
    },
    "id": "rgtejCPrwUHQ",
    "outputId": "e6652c57-f349-4cf1-a1f7-ad78a88880be"
   },
   "outputs": [],
   "source": [
    "count_by_genre = df.groupby(\"Genre\")[\"Score\"].count().sort_values(ascending=True)[len(df['Genre'].unique()) - 10 :]\n",
    "\n",
    "plt.barh(count_by_genre.index, count_by_genre.values)\n",
    "plt.xlabel('Count')\n",
    "plt.ylabel('Genre')\n",
    "plt.title('Count by Genre')"
   ]
  },
  {
   "cell_type": "markdown",
   "metadata": {},
   "source": [
    "The bar chart illustrates the distribution across various genres of movies."
   ]
  },
  {
   "cell_type": "code",
   "execution_count": null,
   "metadata": {
    "colab": {
     "base_uri": "https://localhost:8080/",
     "height": 489
    },
    "id": "4TdgG6wg5ITM",
    "outputId": "8a3b0427-0dfe-45ed-df29-c9e0a90eacf4"
   },
   "outputs": [],
   "source": [
    "score_by_country = df.groupby(\"Country\")[\"Score\"].mean().sort_values(ascending=True)[len(df['Country'].unique()) - 10 :]\n",
    "\n",
    "plt.barh(score_by_country.index, score_by_country.values)\n",
    "plt.xlabel('Mean Score')\n",
    "plt.ylabel('Country')\n",
    "plt.title('Mean Score by Country')"
   ]
  },
  {
   "cell_type": "markdown",
   "metadata": {},
   "source": [
    "This horizontal bar chart displays the average scores of movies released by various countries."
   ]
  },
  {
   "cell_type": "code",
   "execution_count": null,
   "metadata": {
    "colab": {
     "base_uri": "https://localhost:8080/",
     "height": 489
    },
    "id": "OtkH2CSq5x2j",
    "outputId": "4fba28d8-2280-4997-ba69-90ba1ac29267"
   },
   "outputs": [],
   "source": [
    "count_by_country = df.groupby(\"Country\")[\"Score\"].count().sort_values(ascending=True)[len(df['Country'].unique()) - 10 :]\n",
    "\n",
    "plt.barh(count_by_country.index, count_by_country.values)\n",
    "plt.xlabel('Count')\n",
    "plt.ylabel('Country')\n",
    "plt.title('Count by Country')"
   ]
  },
  {
   "cell_type": "markdown",
   "metadata": {},
   "source": [
    "This horizontal bar chart displays the number of movies released by various countries."
   ]
  },
  {
   "cell_type": "code",
   "execution_count": null,
   "metadata": {
    "colab": {
     "base_uri": "https://localhost:8080/",
     "height": 489
    },
    "id": "jkdcKV2UvcZ4",
    "outputId": "76a7f3d8-042c-4b2b-d7f1-712d918c3922"
   },
   "outputs": [],
   "source": [
    "score_by_company = df.groupby(\"Company\")[\"Score\"].mean().sort_values(ascending=True)[len(df['Company'].unique()) - 10 :]\n",
    "\n",
    "plt.barh(score_by_company.index, score_by_company.values)\n",
    "plt.xlabel('Mean Score')\n",
    "plt.ylabel('Company')\n",
    "plt.title('Mean Score by Company')"
   ]
  },
  {
   "cell_type": "markdown",
   "metadata": {},
   "source": [
    "This horizontal bar chart displays the average score released by various companies ordered from highest to lowest."
   ]
  },
  {
   "cell_type": "code",
   "execution_count": null,
   "metadata": {
    "colab": {
     "base_uri": "https://localhost:8080/",
     "height": 489
    },
    "id": "9dSyplM5vxkX",
    "outputId": "2cd1c96f-1e78-4118-f52e-1cee9c797a9b"
   },
   "outputs": [],
   "source": [
    "score_by_company = df.groupby(\"Company\")[\"Score\"].mean().sort_values(ascending=False)[len(df['Company'].unique()) - 10 :]\n",
    "\n",
    "plt.barh(score_by_company.index, score_by_company.values)\n",
    "plt.xlabel('Mean Score')\n",
    "plt.ylabel('Company')\n",
    "plt.title('Mean Score by Company')"
   ]
  },
  {
   "cell_type": "markdown",
   "metadata": {},
   "source": [
    "This horizontal bar chart displays the average score released by various companies ordered in lowest to highest."
   ]
  },
  {
   "cell_type": "code",
   "execution_count": null,
   "metadata": {
    "colab": {
     "base_uri": "https://localhost:8080/",
     "height": 489
    },
    "id": "Ejo4mSdmv1vS",
    "outputId": "ea064a19-f6bd-44de-ebd8-d9dc1a1fc7d6"
   },
   "outputs": [],
   "source": [
    "score_by_company = df.groupby(\"Company\")[\"Score\"].count().sort_values(ascending=True)[len(df['Company'].unique()) - 10 :]\n",
    "\n",
    "plt.barh(score_by_company.index, score_by_company.values)\n",
    "plt.xlabel('Count')\n",
    "plt.ylabel('Company')\n",
    "plt.title('Count by Company')"
   ]
  },
  {
   "cell_type": "markdown",
   "metadata": {},
   "source": [
    "This horizontal bar chart displays the total count released by various companies."
   ]
  },
  {
   "cell_type": "markdown",
   "metadata": {
    "id": "vcbLv5ZjuygT"
   },
   "source": [
    "### Data Transformation\n"
   ]
  },
  {
   "cell_type": "code",
   "execution_count": null,
   "metadata": {
    "colab": {
     "base_uri": "https://localhost:8080/",
     "height": 551
    },
    "id": "lHrWpxIJ5atz",
    "outputId": "9e88230e-c5ae-44d7-ca94-a7805b467040"
   },
   "outputs": [],
   "source": [
    "# Instantiating MinMaxScaler and StandardScaler\n",
    "scaler_minmax = MinMaxScaler()\n",
    "scaler_std = StandardScaler()\n",
    "\n",
    "# Scaling the columns\n",
    "df[['Budget']] = scaler_minmax.fit_transform(df[['Budget']])\n",
    "df[['Votes', 'Gross Revenue', 'Runtime']] = scaler_std.fit_transform(df[['Votes', 'Gross Revenue', 'Runtime']])\n",
    "\n",
    "# Performing one-hot encoding on 'Rating', 'Genre', and 'Country' columns\n",
    "oneHot = pd.get_dummies(df[['Rating', 'Genre', 'Country']], columns=['Rating', 'Genre', 'Country'])\n",
    "df = pd.concat([df, oneHot], axis=1)\n",
    "df.head()\n"
   ]
  },
  {
   "cell_type": "markdown",
   "metadata": {
    "id": "a7iplva8053x"
   },
   "source": [
    "### Bivariate Analysis"
   ]
  },
  {
   "cell_type": "code",
   "execution_count": null,
   "metadata": {
    "colab": {
     "base_uri": "https://localhost:8080/",
     "height": 472
    },
    "id": "HhWUXeHd0-Al",
    "outputId": "26635518-18c3-4b7d-f897-892da9e2c3ce"
   },
   "outputs": [],
   "source": [
    "sns.lineplot(data=df, x=\"Year\", y=\"Score\")\n",
    "\n",
    "plt.title('Score Throughout the Years')\n",
    "plt.xlabel('Years')\n",
    "plt.ylabel('Score')\n",
    "\n",
    "# Show the plot\n",
    "plt.show()"
   ]
  },
  {
   "cell_type": "markdown",
   "metadata": {},
   "source": [
    "This is our graph representing the Bivariate analysis of 'Score' throughout the years"
   ]
  },
  {
   "cell_type": "code",
   "execution_count": null,
   "metadata": {
    "colab": {
     "base_uri": "https://localhost:8080/",
     "height": 699
    },
    "id": "YqSPWnMr7y-u",
    "outputId": "c7d109a3-afb3-48ab-9549-49ae9dad71a8"
   },
   "outputs": [],
   "source": [
    "correlation_matrix = df[[\"Year\", 'Score', \"Votes\", \"Budget\", \"Gross Revenue\", \"Runtime\"]].corr()\n",
    "\n",
    "plt.figure(figsize=(10, 8))\n",
    "sns.heatmap(correlation_matrix, annot=True, cmap='coolwarm', fmt=\".2f\", linewidths=.5)\n",
    "plt.title('Correlation Matrix of Numerical Variables')\n",
    "plt.show()"
   ]
  },
  {
   "cell_type": "markdown",
   "metadata": {},
   "source": [
    "# Training Model 1: Polynomial Regression"
   ]
  },
  {
   "cell_type": "markdown",
   "metadata": {},
   "source": [
    "This is our correlation matrix of attributes that have numerical values"
   ]
  },
  {
   "cell_type": "code",
   "execution_count": null,
   "metadata": {
    "colab": {
     "base_uri": "https://localhost:8080/",
     "height": 472
    },
    "id": "0GU3wQ3G0cbT",
    "outputId": "2fca679f-e1ec-42ff-9e20-bdcfd860308c"
   },
   "outputs": [],
   "source": [
    "from sklearn.preprocessing import PolynomialFeatures\n",
    "from sklearn import linear_model\n",
    "\n",
    "df_BGR = df[['Budget', 'Gross Revenue']]\n",
    "X1_train, X1_test, y1_train, y1_test = train_test_split(df_BGR.Budget, df_BGR.drop(['Budget'], axis=1), test_size=0.2, random_state=21)\n",
    "\n",
    "train = pd.concat([X1_train, y1_train], axis=1)\n",
    "train = train.sort_values(by=['Budget'])\n",
    "budget = train[['Budget']]\n",
    "grossRevenue = train[['Gross Revenue']]\n",
    "\n",
    "# 2 Degrees\n",
    "poly2 = PolynomialFeatures(degree=2, include_bias=False)\n",
    "polyX = poly2.fit_transform(budget)\n",
    "\n",
    "linear = linear_model.LinearRegression()\n",
    "linear.fit(polyX, grossRevenue)\n",
    "yhat = linear.predict(polyX)\n",
    "\n",
    "sns.scatterplot(data=df, x=\"Budget\", y=\"Gross Revenue\")\n",
    "plt.plot(budget, yhat, color=\"green\")\n",
    "plt.title(\"Polynomial Regression: Budget vs. Gross Revenue (2 Degrees)\")\n",
    "plt.xlabel('Budget')\n",
    "plt.ylabel('Gross Revenue')\n",
    "plt.show()\n",
    "\n",
    "# 3 Degrees\n",
    "poly3 = PolynomialFeatures(degree=3, include_bias=False)\n",
    "polyX = poly3.fit_transform(budget)\n",
    "\n",
    "linear = linear_model.LinearRegression()\n",
    "linear.fit(polyX, grossRevenue)\n",
    "yhat = linear.predict(polyX)\n",
    "\n",
    "sns.scatterplot(data=df, x=\"Budget\", y=\"Gross Revenue\")\n",
    "plt.plot(budget, yhat, color=\"orange\")\n",
    "plt.title(\"Polynomial Regression: Budget vs. Gross Revenue (3 Degrees)\")\n",
    "plt.xlabel('Budget')\n",
    "plt.ylabel('Gross Revenue')\n",
    "plt.show()\n",
    "\n",
    "# 3 Degrees\n",
    "poly4 = PolynomialFeatures(degree=4, include_bias=False)\n",
    "polyX = poly4.fit_transform(budget)\n",
    "\n",
    "linear = linear_model.LinearRegression()\n",
    "linear.fit(polyX, grossRevenue)\n",
    "yhat = linear.predict(polyX)\n",
    "\n",
    "sns.scatterplot(data=df, x=\"Budget\", y=\"Gross Revenue\")\n",
    "plt.plot(budget, yhat, color=\"red\")\n",
    "plt.title(\"Polynomial Regression: Budget vs. Gross Revenue (4 Degrees)\")\n",
    "plt.xlabel('Budget')\n",
    "plt.ylabel('Gross Revenue')\n",
    "plt.show()\n"
   ]
  },
  {
   "cell_type": "markdown",
   "metadata": {},
   "source": [
    "This is our graph representing the Bivariate analysis of 'Budget' vs 'Gross Reveue'"
   ]
  },
  {
   "cell_type": "code",
   "execution_count": null,
   "metadata": {
    "colab": {
     "base_uri": "https://localhost:8080/",
     "height": 472
    },
    "id": "tyD7ueX27Ud6",
    "outputId": "b03c2527-492b-4254-88ae-f2423f326fc3"
   },
   "outputs": [],
   "source": [
    "df_GRV = df[['Gross Revenue', 'Votes']]\n",
    "X_train, X_test, y_train, y_test = train_test_split(df_GRV.drop(['Votes'], axis=1), df_GRV.Votes, test_size=0.2, random_state=21)\n",
    "\n",
    "model = LinearRegression()\n",
    "# Fit model to the data\n",
    "model.fit(X_train, y_train)\n",
    "# Predict Y values using the fitted model\n",
    "Y_pred = model.predict(X_train)\n",
    "\n",
    "# Plot the regression line\n",
    "plt.plot(X_train, Y_pred, color='red', label='Scikit Linear Regression')\n",
    "sns.scatterplot(data=df, x=\"Gross Revenue\", y=\"Votes\")\n",
    "plt.title('Gross Revenue vs Votes')\n",
    "plt.xlabel('Gross Revenue')\n",
    "plt.ylabel('Votes')\n",
    "\n",
    "plt.show()"
   ]
  },
  {
   "cell_type": "markdown",
   "metadata": {},
   "source": [
    "This is our graph representing the Bivariate analysis of 'Gross Revenue' vs 'Votes'"
   ]
  },
  {
   "cell_type": "code",
   "execution_count": null,
   "metadata": {
    "colab": {
     "base_uri": "https://localhost:8080/",
     "height": 472
    },
    "id": "x63y1eaW9YzG",
    "outputId": "674b1009-cc63-452e-8dea-beaaae4b0481"
   },
   "outputs": [],
   "source": [
    "from sklearn import linear_model\n",
    "\n",
    "df_VS = df[['Votes', 'Score']]\n",
    "X_train, X_test, y_train, y_test = train_test_split(df_VS.drop(['Score'], axis=1), df_VS.Score, test_size=0.2, random_state=21)\n",
    "\n",
    "model = LinearRegression()\n",
    "# Fit model to the data\n",
    "model.fit(X_train, y_train)\n",
    "# Predict Y values using the fitted model\n",
    "Y_pred = model.predict(X_train)\n",
    "\n",
    "# Plot the regression line\n",
    "plt.plot(X_train, Y_pred, color='red', label='Scikit Linear Regression')\n",
    "sns.scatterplot(data=df, x=\"Votes\", y=\"Score\")\n",
    "plt.title('Votes vs Score')\n",
    "plt.xlabel('Votes')\n",
    "plt.ylabel('Score')\n",
    "\n",
    "plt.show()\n"
   ]
  },
  {
   "cell_type": "markdown",
   "metadata": {},
   "source": [
    "This is our graph representing the Bivariate analysis of 'Vote' vs 'Score'"
   ]
  },
  {
   "cell_type": "markdown",
   "metadata": {},
   "source": [
    "## Evaluate our First Model Compare Training vs Test Error"
   ]
  },
  {
   "cell_type": "code",
   "execution_count": null,
   "metadata": {},
   "outputs": [],
   "source": [
    "# Function to evaluate and plot polynomial regression\n",
    "def evaluate_poly_regression(degree, X_train, y_train, X_test, y_test, color):\n",
    "    poly = PolynomialFeatures(degree=degree, include_bias=False)\n",
    "    polyX_train = poly.fit_transform(X_train)\n",
    "    polyX_test = poly.transform(X_test)\n",
    "    \n",
    "    linear = LinearRegression()\n",
    "    linear.fit(polyX_train, y_train)\n",
    "    \n",
    "    # Predict on training and testing data\n",
    "    yhat_train = linear.predict(polyX_train)\n",
    "    yhat_test = linear.predict(polyX_test)\n",
    "    \n",
    "    # Calculate training and testing errors\n",
    "    mse_train = mean_squared_error(y_train, yhat_train)\n",
    "    mse_test = mean_squared_error(y_test, yhat_test)\n",
    "    \n",
    "    # Plotting for training data\n",
    "    # Convert DataFrame/Series to numpy array and then flatten\n",
    "    X_train_np = X_train.to_numpy().flatten() if hasattr(X_train, 'to_numpy') else X_train.flatten()\n",
    "    y_train_np = y_train.to_numpy().flatten() if hasattr(y_train, 'to_numpy') else y_train.flatten()\n",
    "    sns.scatterplot(x=X_train_np, y=y_train_np, label='Training Data')\n",
    "    \n",
    "    # Sort the values for better plotting\n",
    "    sorted_train_indices = np.argsort(X_train_np)\n",
    "    plt.plot(X_train_np[sorted_train_indices], yhat_train[sorted_train_indices], color=color, label=f'Train Fit (Degree {degree})')\n",
    "    \n",
    "    # Plotting for test data\n",
    "    X_test_np = X_test.to_numpy().flatten() if hasattr(X_test, 'to_numpy') else X_test.flatten()\n",
    "    y_test_np = y_test.to_numpy().flatten() if hasattr(y_test, 'to_numpy') else y_test.flatten()\n",
    "    sns.scatterplot(x=X_test_np, y=y_test_np, label='Test Data', color='lightgrey')\n",
    "    \n",
    "    # Sort the values for better plotting\n",
    "    sorted_test_indices = np.argsort(X_test_np)\n",
    "    plt.plot(X_test_np[sorted_test_indices], yhat_test[sorted_test_indices], color=color, linestyle='--', label=f'Test Fit (Degree {degree})')\n",
    "    plt.title(f\"Polynomial Regression: Budget vs. Gross Revenue ({degree} Degrees)\")\n",
    "    plt.xlabel('Budget')\n",
    "    plt.ylabel('Gross Revenue')\n",
    "    plt.legend()\n",
    "    plt.show()\n",
    "    \n",
    "    # Print errors\n",
    "    print(f\"Degree {degree} polynomial regression training MSE: {mse_train}\")\n",
    "    print(f\"Degree {degree} polynomial regression testing MSE: {mse_test}\")\n",
    "\n",
    "\n",
    "# Evaluate and plot for 2 degrees\n",
    "evaluate_poly_regression(2, budget, grossRevenue, X1_test.values.reshape(-1, 1), y1_test, \"green\")\n",
    "\n",
    "# Evaluate and plot for 3 degrees\n",
    "evaluate_poly_regression(3, budget, grossRevenue, X1_test.values.reshape(-1, 1), y1_test, \"orange\")\n",
    "\n",
    "# Evaluate and plot for 4 degrees\n",
    "evaluate_poly_regression(4, budget, grossRevenue, X1_test.values.reshape(-1, 1), y1_test, \"red\")"
   ]
  },
  {
   "cell_type": "markdown",
   "metadata": {},
   "source": [
    "All three degrees 2, 3, and 4 are showing a good fit as seen by the testing MSE being lower than or very close to the training MSE. There is no evidence of overfitting, where we would expect the testing MSE to be significantly higher than the training MSE due to the model capturing noise in the training data."
   ]
  },
  {
   "cell_type": "markdown",
   "metadata": {},
   "source": [
    "## Model Fit In The Fitting Graph"
   ]
  },
  {
   "cell_type": "markdown",
   "metadata": {},
   "source": [
    "Based on our MSE values, as the polynomial degree increases from 2 to 4, both training and testing MSEs decrease. This indicates that our model is capturing more of the data's underlying pattern with increased complexity, improving its performance. Our model with polynomial degree 4 have the lowest MSEs suggests an optimal balance between bias and variance, making it the best fit among the ones that we tested. There's no sign of overfitting as both training and testing error decreases together. In conclusion, our polynomial regression model with degree 4 provides the best balance of complexity and performance based on our data."
   ]
  },
  {
   "cell_type": "markdown",
   "metadata": {},
   "source": [
    "## Next 2 models"
   ]
  },
  {
   "cell_type": "markdown",
   "metadata": {},
   "source": [
    "In light of the insights derived from the performance of our current neural network model, we are considering the exploration of two additional machine learning models to potentially enhance our predictive capabilities and address the identified limitations:\n",
    "\n",
    "- **Neural Network**: Neural networks are indeed well-suited to handle the complexity inherent in modeling the relationship between a movie's budget and its gross revenue, thanks to their ability to model nonlinear relationships and interactions between features without the need for manual feature engineering. Unlike polynomial regression, which requires choosing the degree of polynomials a priori and risks overfitting with higher degrees, neural networks can learn complex patterns through their hidden layers and neurons. They do this by adjusting weights and biases through backpropagation based on the error rate, allowing them to capture both high-level and subtle nuances in data. Moreover, neural networks can automatically discover the interaction between variables, making them a powerful tool for capturing the multifaceted dynamics of movie revenues. The flexibility and adaptability of neural networks, combined with techniques to prevent overfitting such as dropout and regularization, make them an attractive option for improving upon traditional regression models in predicting outcomes with complex, non-linear relationships.\n",
    "\n",
    "- **Decision Tree Classifier**: Despite the simplicity of decision trees, they are powerful for classification tasks and provide clear visualization of the decision-making process. A key advantage of using a Decision Tree Classifier is its interpretability; it allows for easy understanding of how decisions are made, which is invaluable for analyzing which features most significantly affect a movie's success. Furthermore, decision trees can handle non-linear data effectively and are less susceptible to outliers than regression models, making them a suitable choice for further exploration.\n",
    "\n",
    "These models were chosen with the intention of addressing specific challenges observed in our initial approach. Polynomial regression will allow us to test the hypothesis that a more nuanced modeling of relationships between variables could yield better predictive performance. On the other hand, the Decision Tree Classifier offers a different approach to classification, with the potential for higher accuracy."
   ]
  },
  {
   "cell_type": "markdown",
   "metadata": {},
   "source": [
    "## What is the conclusion of your 1st model?"
   ]
  },
  {
   "cell_type": "markdown",
   "metadata": {},
   "source": [
    "The improvement in MSE as the degree of the polynomial increases suggests that the relationship between budget and gross revenue is complex and potentially non-linear, with higher-degree polynomials capturing this complexity more effectively. The consistent decrease in both training and testing errors indicates that the model is not yet suffering from overfitting at the fourth degree.\n",
    "\n",
    "However, it's important to note that while the improvements in MSE are consistent, they are also marginal, especially when moving from degree 3 to degree 4. This diminishing return suggests that there is a limit to how much more complexity (in terms of polynomial degree) can beneficially be added to the model without overfitting. The observation of diminishing returns as we increase the polynomial degree suggests a critical insight into the nature of modeling complex relationships, such as that between a movie's budget and its gross revenue. It emphasizes the inherent trade-offs in model development, especially between capturing the underlying data patterns (reducing bias) and maintaining a model's ability to generalize well to unseen data (avoiding overfitting).\n",
    "\n",
    "The fact that the model is not yet overfitting at the fourth degree is encouraging, indicating there's still some, albeit limited, scope for complexity increase without sacrificing model performance on new data. However, the marginal gains observed caution us against pursuing higher degrees of polynomial without careful consideration. It suggests that we are approaching, if not already at, the point of optimal complexity where the model is sufficiently complex to capture the relevant patterns in the data but not so complex that it becomes overly specialized to the training set.\n",
    "\n",
    "This situation underscores the importance of exploring alternative strategies for model improvement that do not solely rely on increasing model complexity through higher-degree polynomials. Techniques such as incorporating domain knowledge to engineer more relevant features, employing regularization methods to penalize unnecessary complexity, and exploring other forms of model validation like cross-validation to ensure that improvements are robust and generalizable, become paramount.\n",
    "\n",
    "Moreover, this context also highlights the potential utility of exploring other modeling approaches that might inherently balance complexity and generalizability better. Machine learning models, such as random forests, gradient boosting machines, or neural networks, offer sophisticated mechanisms to model non-linear relationships and interactions without manually specifying the form of the model. These models come with their mechanisms to control overfitting, such as depth limitations in trees or dropout in neural networks, potentially providing a more effective way to capture the complexities of the relationship between movie budgets and gross revenue while maintaining good performance on unseen data."
   ]
  },
  {
   "cell_type": "markdown",
   "metadata": {},
   "source": [
    "## What can be done to possibly to improve it?"
   ]
  },
  {
   "cell_type": "markdown",
   "metadata": {},
   "source": [
    "- **Regularization**: To prevent overfitting, especially when using higher-degree polynomials, consider applying regularization techniques such as Ridge or Lasso regression. These methods can help control the complexity of the model by penalizing large coefficients.\n",
    "\n",
    "- **Feature Engineering**: Besides polynomial features, explore other forms of feature engineering. For instance, interaction terms between budget and other variables might provide additional insights. Also, normalizing or scaling the features might help, especially when moving towards models that use regularization.\n",
    "\n",
    "- **Alternative Models**: Consider exploring non-linear models beyond polynomials, such as decision trees, random forests, or gradient boosting machines, which might capture the data's complexity in different ways.\n",
    "\n",
    "- **Hyperparameter Tuning**: Use grid search or random search to find the optimal combination of hyperparameters, such as the degree of the polynomial and regularization strength. This systematic approach can help in identifying the best model configuration.\n",
    "\n",
    "- **Non-Linear Transformations**: Before applying polynomial features, consider non-linear transformations on the input features, such as logarithmic, square root, or exponential transformations. These transformations can help in linearizing relationships between features and the target variable.\n"
   ]
  },
  {
   "cell_type": "markdown",
   "metadata": {},
   "source": [
    "# Train Model 2: Neural Network Model"
   ]
  },
  {
   "cell_type": "markdown",
   "metadata": {},
   "source": [
    "### Data Preprocessing"
   ]
  },
  {
   "cell_type": "code",
   "execution_count": null,
   "metadata": {},
   "outputs": [],
   "source": [
    "import pandas as pd\n",
    "from sklearn.preprocessing import MinMaxScaler, OneHotEncoder\n",
    "from sklearn.model_selection import train_test_split\n",
    "\n",
    "# First, let's define the function to classify scores\n",
    "def classify_score(score):\n",
    "    if score <= 3:\n",
    "        return 'very bad'\n",
    "    elif score <= 5:\n",
    "        return 'bad'\n",
    "    elif score <= 8:\n",
    "        return 'mid'\n",
    "    else:\n",
    "        return 'good'\n",
    "\n",
    "# Create a new column 'group_rating' based on the score\n",
    "df['group_rating'] = df['Score'].apply(classify_score)\n",
    "\n",
    "# Selecting the required columns for features and target variable\n",
    "X_movies = df[['Budget', 'Gross Revenue']]  # Features: budget and gross revenue\n",
    "y_movies = df['group_rating']  # Target variable is now 'group_rating'\n",
    "\n",
    "# Apply one-hot encoding to the target variable (rating)\n",
    "encoder_movies = OneHotEncoder()\n",
    "y_movies_encoded = encoder_movies.fit_transform(y_movies.values.reshape(-1, 1)).toarray()\n",
    "\n",
    "# Apply min-max normalization to the 'budget' and 'gross' features\n",
    "scaler_movies = MinMaxScaler()\n",
    "X_movies_scaled = scaler_movies.fit_transform(X_movies)\n",
    "\n",
    "df"
   ]
  },
  {
   "cell_type": "markdown",
   "metadata": {},
   "source": [
    "### Training and Testing the Neural Network"
   ]
  },
  {
   "cell_type": "code",
   "execution_count": null,
   "metadata": {},
   "outputs": [],
   "source": [
    "from keras.optimizers import Adam\n",
    "from keras.callbacks import EarlyStopping\n",
    "# Split the data into training and testing sets with a 90:10 ratio\n",
    "X_train, X_test, y_train, y_test = train_test_split(X_movies_scaled, y_movies_encoded, test_size=0.1, random_state=42)\n",
    "\n",
    "MFXACTIVATION ='relu'\n",
    "\n",
    "model = Sequential([\n",
    "    Dense(64, input_dim=X_train.shape[1], activation= MFXACTIVATION),  # Increased complexity and changed to ReLU\n",
    "    Dense(32, activation=MFXACTIVATION),  # ReLU activation\n",
    "    Dense(16, activation=MFXACTIVATION),  # ReLU activation\n",
    "    Dense(8, activation=MFXACTIVATION),  # ReLU activation\n",
    "    Dense(y_train.shape[1], activation='sigmoid')  # Output layer remains the same\n",
    "])\n",
    "\n",
    "optimizer = SGD(learning_rate=0.001)  # Adjusted learning rate\n",
    "model.compile(optimizer=optimizer, loss='categorical_crossentropy', metrics=['accuracy'])\n",
    "early_stopping = EarlyStopping(monitor='val_loss', patience=10, restore_best_weights=True)\n",
    "history = model.fit(X_train, y_train, epochs=100, validation_split=0.1, callbacks=[early_stopping], verbose=1)\n",
    "\n",
    "# Evaluate the model on the test set\n",
    "y_pred = model.predict(X_test)\n",
    "y_pred_classes = np.argmax(y_pred, axis=1)\n",
    "y_test_classes = np.argmax(y_test, axis=1)\n",
    "\n",
    "# Calculate metrics\n",
    "cm = confusion_matrix(y_test_classes, y_pred_classes)\n",
    "acc = accuracy_score(y_test_classes, y_pred_classes)\n",
    "mse = mean_squared_error(y_test, y_pred)\n",
    "precision = precision_score(y_test_classes, y_pred_classes, average='weighted', zero_division=0)\n",
    "recall = recall_score(y_test_classes, y_pred_classes, average='weighted', zero_division=0)\n",
    "\n",
    "# Output the metrics\n",
    "print(\"Confusion Matrix:\", cm)\n",
    "print(\"Accuracy:\", acc)\n",
    "print(\"MSE:\", mse)\n",
    "print(\"Precision:\", precision)\n",
    "print(\"Recall:\", recall)"
   ]
  },
  {
   "cell_type": "markdown",
   "metadata": {},
   "source": [
    "### k-fold Cross Validation"
   ]
  },
  {
   "cell_type": "code",
   "execution_count": null,
   "metadata": {},
   "outputs": [],
   "source": [
    "# Function to build the model, adapted for the Kaggle movie dataset\n",
    "def build_movie_model():\n",
    "    MFXACTIVATION ='relu'\n",
    "    model = Sequential([\n",
    "    Dense(64, input_dim=X_train.shape[1], activation= MFXACTIVATION),  # Increased complexity and changed to ReLU\n",
    "    Dense(32, activation=MFXACTIVATION),  # ReLU activation\n",
    "    Dense(16, activation=MFXACTIVATION),  # ReLU activation\n",
    "    Dense(8, activation=MFXACTIVATION),  # ReLU activation\n",
    "    Dense(y_train.shape[1], activation='sigmoid')  # Output layer remains the same\n",
    "    ])\n",
    "    model.compile(optimizer=SGD(learning_rate=0.001), loss='categorical_crossentropy', metrics=['accuracy', 'mse'])\n",
    "    return model\n",
    "\n",
    "# Wrap the Keras model with KerasClassifier\n",
    "estimator_movies = KerasClassifier(model=build_movie_model, epochs=100, batch_size=10, verbose=1)  # Adjust verbosity as needed\n",
    "\n",
    "# Define the cross-validation strategy\n",
    "kfold_movies = RepeatedKFold(n_splits=10, n_repeats=1, random_state=42)\n",
    "\n",
    "# Perform cross-validation for accuracy and MSE\n",
    "results_movies = cross_validate(estimator_movies, X_movies_scaled, y_movies_encoded, cv=kfold_movies, scoring=['accuracy', 'neg_mean_squared_error'], n_jobs=1)\n",
    "\n",
    "# Output results\n",
    "print(\"Cross-validation results:\")\n",
    "print(results_movies)"
   ]
  },
  {
   "cell_type": "code",
   "execution_count": null,
   "metadata": {},
   "outputs": [],
   "source": [
    "# Assuming 'results_movies' contains the cross-validation results from the previous step\n",
    "cv_accuracy_movies = results_movies['test_accuracy']\n",
    "cv_mse_movies = -1 * results_movies['test_neg_mean_squared_error']  # Multiply by -1 to make MSE positive\n",
    "\n",
    "# Print accuracy and MSE values for each fold\n",
    "for i in range(len(cv_accuracy_movies)):\n",
    "    print(f\"Fold {i+1}: Accuracy = {cv_accuracy_movies[i]}, MSE = {cv_mse_movies[i]}\")\n",
    "\n",
    "# Print the overall average accuracy and MSE for the Kaggle movie dataset\n",
    "print(f\"Overall Average Accuracy: {np.mean(cv_accuracy_movies)}\")\n",
    "print(f\"Overall Average MSE: {np.mean(cv_mse_movies)}\")\n"
   ]
  },
  {
   "cell_type": "markdown",
   "metadata": {},
   "source": [
    "### Hyperparameter Tuning"
   ]
  },
  {
   "cell_type": "code",
   "execution_count": null,
   "metadata": {},
   "outputs": [],
   "source": [
    "# Split the data\n",
    "X_train_hp, X_test_hp, y_train_hp, y_test_hp = train_test_split(X_movies_scaled, y_movies_encoded, test_size=0.1, random_state=42)\n",
    "def build_hp_model(hp):\n",
    "    model = Sequential()\n",
    "    model.add(Dense(units=hp.Int('units', min_value=12, max_value=512, step=100),\n",
    "                    activation='relu',\n",
    "                    input_dim=X_train_hp.shape[1]))\n",
    "    model.add(Dense(units=hp.Int('units_layer2', min_value=12, max_value=512, step=100), activation='relu'))\n",
    "    model.add(Dense(units=hp.Int('units_layer3', min_value=12, max_value=512, step=100), activation='relu')) # changed to relu to match previous models\n",
    "    model.add(Dense(units=hp.Int('units_layer4', min_value=12, max_value=512, step=100), activation='relu'))\n",
    "\n",
    "    model.add(Dense(y_train_hp.shape[1], activation='sigmoid'))  # Adapted for multi-class classification\n",
    "\n",
    "    # Tune the learning rate for the optimizer\n",
    "    learning_rate = hp.Float('learning_rate', min_value=1e-4, max_value=1e-2, sampling='log')\n",
    "\n",
    "    model.compile(optimizer=SGD(learning_rate=learning_rate),\n",
    "                  loss='categorical_crossentropy',\n",
    "                  metrics=['accuracy'])\n",
    "\n",
    "    return model\n",
    "# Define the tuner\n",
    "# tuner = kt.Hyperband(\n",
    "#     build_hp_model,\n",
    "#     objective='val_accuracy',\n",
    "#     max_epochs=10,\n",
    "#     hyperband_iterations=15,\n",
    "#     directory='tuner_results',\n",
    "#     project_name='kaggle_movie_tuning'\n",
    "# )\n",
    "\n",
    "# Define the tuner\n",
    "tuner = kt.GridSearch(\n",
    "    hypermodel=build_hp_model,\n",
    "    objective='val_accuracy',\n",
    "    max_trials=10,\n",
    "    executions_per_trial=3,\n",
    "    seed=15,\n",
    "    tune_new_entries=True,\n",
    "    allow_new_entries=True,\n",
    "    directory='tuner_results',\n",
    "    project_name='kaggle_movie_tuning'\n",
    ")\n",
    "\n",
    "# Run the hyperparameter search\n",
    "tuner.search(X_train_hp, y_train_hp, epochs=50, validation_split=0.1)\n",
    "\n",
    "# Get the optimal hyperparameters\n",
    "best_hps = tuner.get_best_hyperparameters()[0]\n",
    "\n",
    "print(f\"\"\"\n",
    "The optimal number of units in the first hidden layer is {best_hps.get('units')}\n",
    "with an optimal learning rate of {best_hps.get('learning_rate')}.\n",
    "\"\"\")\n",
    "\n",
    "# we used early stopping in earlier versions of our sequential model, so we decide to use it\n",
    "early_stopping = EarlyStopping(\n",
    "    monitor='val_accuracy', # or 'val_loss' if you prefer to monitor loss\n",
    "    patience=10,            # Number of epochs with no improvement after which training will be stopped\n",
    "    restore_best_weights=True # Restores model weights from the epoch with the best value of the monitored quantity\n",
    ")\n",
    "\n",
    "# Build the model with the optimal hyperparameters and evaluate it\n",
    "best_model = tuner.hypermodel.build(best_hps)\n",
    "history = best_model.fit(X_train_hp, y_train_hp, epochs=100, validation_data=(X_test_hp, y_test_hp), callbacks=[early_stopping])"
   ]
  },
  {
   "cell_type": "markdown",
   "metadata": {},
   "source": [
    "## Evaluate our model compare training vs test error"
   ]
  },
  {
   "cell_type": "code",
   "execution_count": null,
   "metadata": {},
   "outputs": [],
   "source": [
    "# Plot training & validation accuracy values\n",
    "plt.plot(history.history['accuracy'])\n",
    "plt.plot(history.history['val_accuracy'])\n",
    "plt.title('Model accuracy')\n",
    "plt.ylabel('Accuracy')\n",
    "plt.xlabel('Epoch')\n",
    "plt.legend(['Train', 'Validation'], loc='upper left')\n",
    "plt.show()\n",
    "\n",
    "# Plot training & validation loss values\n",
    "plt.plot(history.history['loss'])\n",
    "plt.plot(history.history['val_loss'])\n",
    "plt.title('Model loss')\n",
    "plt.ylabel('Loss')\n",
    "plt.xlabel('Epoch')\n",
    "plt.legend(['Train', 'Validation'], loc='upper left')\n",
    "plt.show()\n",
    "\n",
    "# Evaluate the model on the test set\n",
    "y_pred = model.predict(X_test)\n",
    "y_pred_classes = np.argmax(y_pred, axis=1)\n",
    "y_test_classes = np.argmax(y_test, axis=1)\n",
    "# Calculate metrics\n",
    "cm = confusion_matrix(y_test_classes, y_pred_classes)\n",
    "acc = accuracy_score(y_test_classes, y_pred_classes)\n",
    "mse = mean_squared_error(y_test, y_pred)\n",
    "precision = precision_score(y_test_classes, y_pred_classes, average='weighted', zero_division=0)\n",
    "recall = recall_score(y_test_classes, y_pred_classes, average='weighted', zero_division=0)\n",
    "\n",
    "# Output the metrics\n",
    "print(\"Confusion Matrix:\\n\", cm)\n",
    "print(\"Accuracy:\", acc)\n",
    "print(\"MSE:\", mse)\n",
    "print(\"Precision:\", precision)\n",
    "print(\"Recall:\", recall)"
   ]
  },
  {
   "cell_type": "markdown",
   "metadata": {},
   "source": [
    "**Model Accuracy graph**: The accuracy for both training and validation shoots up sharply and reaches a high level after the first epoch. After the initial jump, the accuracy for both remains approximately constant. It's noteworthy that the validation accuracy is slightly higher than the training accuracy, which is unusual but not necessarily a problem if the variance is small. This could sometimes happen due to the specific samples in the validation set or regularization effects.\n",
    "\n",
    "**Model Loss graph**: The loss for both training and validation decreases sharply after the first epoch and continues to decrease gradually over subsequent epochs. The training and validation losses are very close to each other and converge towards a similar value, which indicates that the model is generalizing well without overfitting or underfitting. There's no sign of divergence, which is good.\n",
    "\n",
    "**Confusion Matrix**: The confusion matrix indicates that our model did not correctly predict any of the samples for the first two classes, but predicted all samples that belonged to the third class. The model correctly identified 487 samples of the third class, which indicates that it has a strong bias towards this class.\n",
    "\n",
    "**MSE**: The MSE is around 0.074, which might seem low, but MSE is not typically the best metric for classification problems, especially when dealing with categorical data.\n",
    "\n",
    "**Accuracy**: The accuracy which is about 91.2% which is a bit misleading in this context, as it seems the model has learned to predict the majority class very well but fails to recognize the other classes.\n",
    "\n",
    "**Precision**: The precision score is about 83.2%. This suggests that when the model predicts a class, it's correct about 83.2% of the time. However, this metric is weighted and might be influenced by the class imbalance.\n",
    "\n",
    "**Recall**: The recall is equal to the accuracy. This means that the model is very good at detecting the positives of the third class. However, for the first two classes, the recall is 0% because the model failed to identify any true positives for these classes.\n",
    "\n",
    "In conclusion, the model is likely suffering from a class imbalance issue, where it predicts the majority class well but fails to predict the minority classes. This is evidenced by the lack of true positives for the two classes in the confusion matrix."
   ]
  },
  {
   "cell_type": "markdown",
   "metadata": {},
   "source": [
    "## Model Fit In The Fitting Graph, How does it compare to your first model? "
   ]
  },
  {
   "cell_type": "markdown",
   "metadata": {},
   "source": [
    "The model has a high accuracy, precision and recall on both the training and validation data, which would suggest a good fit. This suggests that our second model performs well in predicting the \"group ratings\" based on the \"Gross Revenue\" and \"Budget\" of the movie and we can determine that \"Gross Revenue\" and \"Budget\" are good features in order to predict our target variable \"group rating\". \n",
    "\n",
    "The fitting graphs with MSE values for the polynomial regression indicate that the model's performance varies with the degree of the polynomial. As the degree increases, the model fits the training data better but could potentially overfit. While our second model shows high classification accuracy, the fitting graphs from our first model indicate the regression model's capability to predict a continuous outcome based on its input. They serve different purposes and thus, their performances are not directly comparable.\n",
    "\n",
    "In conclusion, for the specific task of classifying movies into 'group ratings', your second model seems to have found a good balance and performs well according to the classification metrics. For the task of predicting 'Gross Revenue' from 'Budget', the regression analysis of our first model indicates a variable fit depending on the polynomial degree, and its performance should be assessed by how well it generalizes to new, unseen data."
   ]
  },
  {
   "cell_type": "markdown",
   "metadata": {},
   "source": [
    "## Did you perform hyper parameter tuning? K-fold Cross validation? Feature expansion? What were the results? "
   ]
  },
  {
   "cell_type": "markdown",
   "metadata": {},
   "source": [
    "We performed, Hyper parameter tuning and K-fold Corss validation, but we didn't did any feature expansion as what we did was grouping scores. What we did with Grouping scores mean that We transformed the continuous 'Score' variable into a categorical 'group_rating' variable. This process is a form of feature engineering, where we're creating a new feature based on existing data.\n",
    "\n",
    "1. **K Fold Cross-Validation**\n",
    "- Cross-Validation: Applied Repeated K-Fold cross-validation to assess the model's performance across different subsets of the data, ensuring the model's effectiveness and generalization capability. This approach helps in evaluating the model's stability and reliability across different data splits.\n",
    "- Performance Metrics: The model's accuracy and mean squared error (MSE) were evaluated, providing insights into its classification performance and how close the predicted ratings are to the actual ratings, respectively.\n",
    "- **Results**: The K-fold cross-validation results indicate that the neural network model exhibits consistent performance across different subsets of the data, with accuracies ranging from approximately 86.9% to 91.4% across ten folds and an overall average accuracy of 89.7%. The mean squared error (MSE) values, averaging at 0.0516, suggest the model's predictions are reasonably close to the actual values. This demonstrates the model's robustness and generalizability, confirming its ability to perform well across diverse data segments without significant overfitting or underfitting to the training data.\n",
    "\n",
    "2. **Hyperparameter Tuning**\n",
    "- Hyperparameter Search: Employed a hyperparameter tuning process (using Keras Tuner) to find the optimal model architecture and learning rate, which are crucial for achieving the best possible model performance.\n",
    "- GridSearch: A GridSearch approach was selected, systematically exploring a range of predefined hyperparameter values to find the best combination, focusing on maximizing validation accuracy.\n",
    "- Optimization Results: The process identified the optimal number of units in each layer and the learning rate for the SGD optimizer, which were then used to build and evaluate the best model configuration.\n",
    "- **Results**: The hyperparameter tuning results reveal the identification of an optimal model configuration with 312 units in the first hidden layer and a learning rate of approximately 0.000202. This configuration resulted in a significant improvement in the model's performance during the initial training phases, showcasing high validation accuracies that indicate the model's capacity to make accurate predictions. The process of hyperparameter tuning has effectively pinpointed the most conducive parameters for maximizing the model’s accuracy, underlining the critical role of tuning in enhancing the predictive power and efficiency of machine learning models.\n",
    "\n",
    "\n",
    "\n",
    "\n",
    "\n",
    "\n",
    "\n"
   ]
  },
  {
   "cell_type": "markdown",
   "metadata": {},
   "source": [
    "## Next model"
   ]
  },
  {
   "cell_type": "markdown",
   "metadata": {},
   "source": [
    "In light of the insights derived from the performance of our current neural network model, we are considering the exploration of two additional machine learning models to potentially enhance our predictive capabilities and address the identified limitations:\n",
    "\n",
    "**Decision Tree Classifier**: Despite the simplicity of decision trees, they are powerful for classification tasks and provide clear visualization of the decision-making process. A key advantage of using a Decision Tree Classifier is its interpretability; it allows for easy understanding of how decisions are made, which is invaluable for analyzing which features most significantly affect a movie's success. Furthermore, decision trees can handle non-linear data effectively and are less susceptible to outliers than regression models, making them a suitable choice for further exploration.\n",
    "\n",
    "These models were chosen with the intention of addressing specific challenges observed in our initial approach. Polynomial regression will allow us to test the hypothesis that a more nuanced modeling of relationships between variables could yield better predictive performance. On the other hand, the Decision Tree Classifier offers a different approach to classification, with the potential for high "
   ]
  },
  {
   "cell_type": "markdown",
   "metadata": {},
   "source": [
    "## What is the conclusion of your 2nd model?"
   ]
  },
  {
   "cell_type": "markdown",
   "metadata": {},
   "source": [
    "The second model demonstrates good performance in terms of accuracy, precision, and recall on both the training and validation datasets. These metrics are indicative of a model that is correctly identifying the majority of instances across the classes it was trained to predict. The consistent high performance on unseen validation data suggests that the model has generalized well beyond the training dataset.\n",
    "\n",
    "However, it is important to consider the confusion matrix, which reveals that while the model excels at predicting a certain class, it may not be performing equally well across all classes. This could be a sign of class imbalance or that the model's predictive features such as 'Gross Revenue' and 'Budget' are particularly informative for one class but less so for others.\n",
    "\n",
    "In conclusion, the second model is a robust classifier for the 'group ratings' based on the 'Gross Revenue' and 'Budget' features. It presents a high degree of accuracy, precision, and recall, which are strong indicators of its reliability."
   ]
  },
  {
   "cell_type": "markdown",
   "metadata": {},
   "source": [
    "## What can be done to possibly to improve it?"
   ]
  },
  {
   "cell_type": "markdown",
   "metadata": {},
   "source": [
    "To refine our approach and enhance the model's predictive accuracy and reliability, we propose several strategies:\n",
    "\n",
    "- **Data Augmentation**: Expanding our dataset with more variables or by integrating additional datasets could provide a richer context for analysis, helping the model to uncover more nuanced relationships between features and outcomes.\n",
    "\n",
    "- **Advanced Feature Engineering**: Delving deeper into feature selection and transformation to emphasize more predictive variables. This could involve more sophisticated techniques to extract or combine features in ways that better capture the complexities of movie success.\n",
    "\n",
    "- **Model Complexity Adjustment**: Experimenting with the neural network's architecture, such as layer depth and neuron count, to strike an optimal balance between model complexity and overfitting. This includes evaluating different activation functions, optimizers, and regularization methods.\n",
    "\n",
    "- **Ensemble Methods**: Considering ensemble techniques, such as bagging or boosting, to improve model stability and accuracy. These methods can aggregate predictions from multiple models to reduce variance and bias.\n",
    "\n",
    "- **Exploration of Alternative Models**: As previously mentioned, we plan to explore Polynomial Regression and Decision Tree Classifier models. These alternatives could offer new perspectives and methodologies for addressing the dataset's challenges, potentially overcoming limitations observed in the neural network model.\n"
   ]
  }
 ],
 "metadata": {
  "colab": {
   "provenance": []
  },
  "kernelspec": {
   "display_name": "Python 3 (ipykernel)",
   "language": "python",
   "name": "python3"
  },
  "language_info": {
   "codemirror_mode": {
    "name": "ipython",
    "version": 3
   },
   "file_extension": ".py",
   "mimetype": "text/x-python",
   "name": "python",
   "nbconvert_exporter": "python",
   "pygments_lexer": "ipython3",
   "version": "3.9.4"
  },
  "vscode": {
   "interpreter": {
    "hash": "aee8b7b246df8f9039afb4144a1f6fd8d2ca17a180786b69acc140d282b71a49"
   }
  }
 },
 "nbformat": 4,
 "nbformat_minor": 1
}
