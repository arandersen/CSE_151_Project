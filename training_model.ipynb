{
  "cells": [
    {
      "cell_type": "code",
      "execution_count": null,
      "metadata": {
        "id": "eb_P-vOyV2qz"
      },
      "outputs": [],
      "source": [
        "import pandas as pd\n",
        "import numpy as np\n",
        "import matplotlib.pyplot as plt\n",
        "import seaborn as sns\n",
        "from sklearn import datasets\n",
        "from sklearn.model_selection import cross_val_score\n",
        "from sklearn.linear_model import LinearRegression\n",
        "from sklearn.metrics import mean_squared_error, r2_score\n",
        "from sklearn.model_selection import train_test_split\n",
        "from sklearn.preprocessing import MinMaxScaler, StandardScaler, OneHotEncoder\n",
        "import statsmodels.api as sm\n",
        "from scipy import stats\n",
        "from scipy.stats import boxcox\n",
        "from sklearn.metrics import confusion_matrix, accuracy_score, mean_squared_error, precision_score, recall_score\n",
        "from tensorflow.keras.models import Sequential\n",
        "from tensorflow.keras.layers import Dense\n",
        "from tensorflow.keras.optimizers import SGD\n",
        "from scikeras.wrappers import KerasClassifier\n",
        "from sklearn.model_selection import RepeatedKFold, cross_validate\n",
        "import kerastuner as kt\n",
        "from tensorflow import keras\n",
        "from tensorflow.keras import layers"
      ]
    },
    {
      "cell_type": "markdown",
      "metadata": {
        "id": "dzHqhwENV2q4"
      },
      "source": [
        "# Data Cleaning (KaggleMovies.csv)"
      ]
    },
    {
      "cell_type": "markdown",
      "metadata": {},
      "source": [
        "df is going to have all of our data about each movies"
      ]
    },
    {
      "cell_type": "code",
      "execution_count": null,
      "metadata": {
        "colab": {
          "base_uri": "https://localhost:8080/",
          "height": 328
        },
        "id": "jkdvH2YNV2q7",
        "outputId": "3144f991-3069-4222-f27e-03ac0079734d"
      },
      "outputs": [],
      "source": [
        "# Read the dataset\n",
        "df = pd.read_csv('Datasets/KaggleMovies.csv')\n",
        "pd.set_option('float_format', '{:f}'.format)\n",
        "pd.set_option('display.precision', 2)\n",
        "df.head()"
      ]
    },
    {
      "cell_type": "code",
      "execution_count": null,
      "metadata": {
        "id": "MmOp3uAsV2q7"
      },
      "outputs": [],
      "source": [
        "# Renaming columns\n",
        "column_mapping = {\n",
        "    'name' : 'Name',\n",
        "    'rating' : 'Rating',\n",
        "    'genre' : 'Genre',\n",
        "    'year' : 'Year',\n",
        "    'released' : 'Released',\n",
        "    'score' : 'Score',\n",
        "    'votes' : 'Votes',\n",
        "    'director' : 'Director',\n",
        "    'writer' : 'Writer',\n",
        "    'star' : 'Star',\n",
        "    'country' : 'Country',\n",
        "    'budget' : 'Budget',\n",
        "    'gross' : 'Gross Revenue',\n",
        "    'company' : 'Company',\n",
        "    'runtime' : 'Runtime'\n",
        "}\n",
        "\n",
        "df = df.rename(columns=column_mapping)"
      ]
    },
    {
      "cell_type": "code",
      "execution_count": null,
      "metadata": {
        "colab": {
          "base_uri": "https://localhost:8080/"
        },
        "id": "3SJUA4qtV2q8",
        "outputId": "9daa334d-b255-41c7-96c3-18ab87ea0ea1"
      },
      "outputs": [],
      "source": [
        "# Check for empty spaces\n",
        "print(f\"Shape: {df.shape}\\n\")\n",
        "isna = df.isna().sum(axis=0)\n",
        "isna"
      ]
    },
    {
      "cell_type": "code",
      "execution_count": null,
      "metadata": {
        "colab": {
          "base_uri": "https://localhost:8080/"
        },
        "id": "8cd74dCFV2q8",
        "outputId": "6b378832-c5c3-4410-9eca-c17d218dc544"
      },
      "outputs": [],
      "source": [
        "# Remove rows with null values\n",
        "df = df.dropna()\n",
        "print(f\"Shape: {df.shape}\\n\")\n",
        "print(df.isna().sum(axis=0))"
      ]
    },
    {
      "cell_type": "code",
      "execution_count": null,
      "metadata": {
        "colab": {
          "base_uri": "https://localhost:8080/",
          "height": 365
        },
        "id": "Bncy_-emV2q9",
        "outputId": "e27c879c-1cd5-4146-c0a0-99166af43fbe"
      },
      "outputs": [],
      "source": [
        "# Convert certain columns to appropiate data types\n",
        "df.loc[:,['Votes', 'Budget', 'Runtime', 'Gross Revenue']] = df[['Votes', 'Budget', 'Runtime', 'Gross Revenue']].astype('int')\n",
        "df.loc[:,'Score'] = df['Score'].apply(lambda x: float(\"{:.2f}\".format(x)))\n",
        "df.head()"
      ]
    },
    {
      "cell_type": "code",
      "execution_count": null,
      "metadata": {
        "colab": {
          "base_uri": "https://localhost:8080/"
        },
        "id": "HYPblPO09Hcr",
        "outputId": "52aaee3c-ccf8-4b0f-99b2-cc63cfa3753b"
      },
      "outputs": [],
      "source": [
        "print(df.dtypes)"
      ]
    },
    {
      "cell_type": "code",
      "execution_count": null,
      "metadata": {
        "colab": {
          "base_uri": "https://localhost:8080/"
        },
        "id": "38LFY_LOgZL_",
        "outputId": "67a20ef0-863d-4ed0-d67b-e75087afcabf"
      },
      "outputs": [],
      "source": [
        "# Check number of unique movie names\n",
        "len(df['Name'].unique())"
      ]
    },
    {
      "cell_type": "code",
      "execution_count": null,
      "metadata": {
        "colab": {
          "base_uri": "https://localhost:8080/",
          "height": 345
        },
        "id": "Fgm1UuIbgukg",
        "outputId": "bde02f6c-8de4-4b18-eeee-f3e1ccec2b42"
      },
      "outputs": [],
      "source": [
        "#Drop duplicate movie names\n",
        "df = df.drop_duplicates(subset=['Name'], keep='first')\n",
        "print(f\"Shape: {df.shape}\\n\")\n",
        "df.head()"
      ]
    },
    {
      "cell_type": "markdown",
      "metadata": {},
      "source": [
        "df now contains movies that are unique and have no empty values on any of its attributes"
      ]
    },
    {
      "cell_type": "markdown",
      "metadata": {
        "id": "b5dFi6Qa1dlK"
      },
      "source": [
        "### Univariate Analysis (Numerical Variables)"
      ]
    },
    {
      "cell_type": "code",
      "execution_count": null,
      "metadata": {
        "colab": {
          "base_uri": "https://localhost:8080/",
          "height": 300
        },
        "id": "gAbQ72UBkOoE",
        "outputId": "4beaec7f-c7c6-41a0-d3e0-dc1c76a33733"
      },
      "outputs": [],
      "source": [
        "df.describe()"
      ]
    },
    {
      "cell_type": "code",
      "execution_count": null,
      "metadata": {
        "colab": {
          "base_uri": "https://localhost:8080/",
          "height": 880
        },
        "id": "KFhW43DtrxOO",
        "outputId": "d36cc866-dad5-4e4e-d641-7884cffc91f6"
      },
      "outputs": [],
      "source": [
        "#Univariate Analysis of Year\n",
        "plt.figure(figsize=(14, 4))\n",
        "\n",
        "#histogram\n",
        "plt.subplot(1, 2, 1)\n",
        "sns.histplot(df['Year'], kde=True, stat='density')\n",
        "plt.title('Distribution of Year')\n",
        "plt.xlabel('Year')\n",
        "plt.ylabel('Density')\n",
        "plt.show()\n",
        "\n",
        "#Q-Q plot\n",
        "plt.subplot(1, 2, 2)\n",
        "stats.probplot(df['Year'], dist=\"norm\", plot=plt)\n",
        "plt.title('Q-Q Plot of Year')\n",
        "plt.xlabel('Theoretical Quantiles')\n",
        "plt.ylabel('Ordered Values')\n",
        "\n",
        "plt.tight_layout()\n",
        "\n",
        "plt.show()"
      ]
    },
    {
      "cell_type": "markdown",
      "metadata": {},
      "source": [
        "Here is our graphs representing the univariate analysis of 'Year'"
      ]
    },
    {
      "cell_type": "code",
      "execution_count": null,
      "metadata": {
        "colab": {
          "base_uri": "https://localhost:8080/",
          "height": 880
        },
        "id": "tgA1M_wlhPdC",
        "outputId": "40718f0e-732f-4e28-cbc5-231f83294286"
      },
      "outputs": [],
      "source": [
        "#Univariate Analysis of Votes\n",
        "plt.figure(figsize=(14, 4))\n",
        "\n",
        "#histogram\n",
        "plt.subplot(1, 2, 1)\n",
        "sns.histplot(df['Votes'], kde=True, stat='density')\n",
        "plt.title('Distribution of Votes')\n",
        "plt.xlabel('Votes')\n",
        "plt.ylabel('Density')\n",
        "plt.show()\n",
        "\n",
        "#Q-Q plot\n",
        "plt.subplot(1, 2, 2)\n",
        "stats.probplot(df['Votes'], dist=\"norm\", plot=plt)\n",
        "plt.title('Q-Q Plot of Votes')\n",
        "plt.xlabel('Theoretical Quantiles')\n",
        "plt.ylabel('Ordered Values')\n",
        "\n",
        "plt.tight_layout()\n",
        "plt.show()"
      ]
    },
    {
      "cell_type": "markdown",
      "metadata": {},
      "source": [
        "Here is our graphs representing the univariate analysis of 'Votes'"
      ]
    },
    {
      "cell_type": "code",
      "execution_count": null,
      "metadata": {
        "colab": {
          "base_uri": "https://localhost:8080/",
          "height": 880
        },
        "id": "vHaH3whytMKo",
        "outputId": "d1e853ff-dcfc-4abe-dc40-56d27b99d316"
      },
      "outputs": [],
      "source": [
        "#Normalize the right skewed data\n",
        "df['Votes'], lambda_votes = boxcox(df['Votes'])\n",
        "\n",
        "plt.figure(figsize=(14, 4))\n",
        "\n",
        "#histogram\n",
        "plt.subplot(1, 2, 1)\n",
        "sns.histplot(df['Votes'], kde=True, stat='density')\n",
        "plt.title('Distribution of Votes')\n",
        "plt.xlabel('Votes')\n",
        "plt.ylabel('Density')\n",
        "plt.show()\n",
        "\n",
        "#Q-Q plot\n",
        "plt.subplot(1, 2, 2)\n",
        "stats.probplot(df['Votes'], dist=\"norm\", plot=plt)\n",
        "plt.title('Q-Q Plot of Votes')\n",
        "plt.xlabel('Theoretical Quantiles')\n",
        "plt.ylabel('Ordered Values')\n",
        "\n",
        "plt.tight_layout()\n",
        "plt.show()"
      ]
    },
    {
      "cell_type": "markdown",
      "metadata": {},
      "source": [
        "Here is our graphs representing the univariate analysis of 'Votes' after normalizing our data"
      ]
    },
    {
      "cell_type": "code",
      "execution_count": null,
      "metadata": {
        "colab": {
          "base_uri": "https://localhost:8080/",
          "height": 880
        },
        "id": "8F1rG_g_u4a3",
        "outputId": "f6110ecd-2f89-4016-ecfc-7bfa746163ba"
      },
      "outputs": [],
      "source": [
        "#Univariate Analysis of Gross Revenue\n",
        "plt.figure(figsize=(14, 4))\n",
        "\n",
        "#histogram\n",
        "plt.subplot(1, 2, 1)\n",
        "sns.histplot(df['Gross Revenue'], kde=True, stat='density')\n",
        "plt.title('Distribution of Gross Revenue')\n",
        "plt.xlabel('Gross Revenue')\n",
        "plt.ylabel('Density')\n",
        "plt.show()\n",
        "\n",
        "#Q-Q plot\n",
        "plt.subplot(1, 2, 2)\n",
        "stats.probplot(df['Gross Revenue'], dist=\"norm\", plot=plt)\n",
        "plt.title('Q-Q Plot of Gross Revenue')\n",
        "plt.xlabel('Theoretical Quantiles')\n",
        "plt.ylabel('Ordered Values')\n",
        "\n",
        "plt.tight_layout()\n",
        "plt.show()"
      ]
    },
    {
      "cell_type": "markdown",
      "metadata": {},
      "source": [
        "Here is our graphs representing the univariate analysis of 'Gross Revenue'"
      ]
    },
    {
      "cell_type": "code",
      "execution_count": null,
      "metadata": {
        "colab": {
          "base_uri": "https://localhost:8080/",
          "height": 880
        },
        "id": "3WfcjKbR0hJB",
        "outputId": "399e5067-060e-4208-eda0-8e1ed5aa3683"
      },
      "outputs": [],
      "source": [
        "#Normalize the right skewed data\n",
        "df['Gross Revenue'], lambda_gross = boxcox(df['Gross Revenue'])\n",
        "plt.figure(figsize=(14, 4))\n",
        "\n",
        "#histogram\n",
        "plt.subplot(1, 2, 1)\n",
        "sns.histplot(df['Gross Revenue'], kde=True, stat='density')\n",
        "plt.title('Distribution of Gross Revenue')\n",
        "plt.xlabel('Gross Revenue')\n",
        "plt.ylabel('Density')\n",
        "plt.show()\n",
        "\n",
        "#Q-Q plot\n",
        "plt.subplot(1, 2, 2)\n",
        "stats.probplot(df['Gross Revenue'], dist=\"norm\", plot=plt)\n",
        "plt.title('Q-Q Plot of Gross Revenue')\n",
        "plt.xlabel('Theoretical Quantiles')\n",
        "plt.ylabel('Ordered Values')\n",
        "\n",
        "plt.tight_layout()\n",
        "plt.show()"
      ]
    },
    {
      "cell_type": "markdown",
      "metadata": {},
      "source": [
        "Here is our graphs representing the univariate analysis of 'Gross Revenue' after normalizing it"
      ]
    },
    {
      "cell_type": "code",
      "execution_count": null,
      "metadata": {
        "colab": {
          "base_uri": "https://localhost:8080/",
          "height": 880
        },
        "id": "91PDv-6K2RZH",
        "outputId": "6be92c90-bee1-497e-d75f-fe867c73eb16"
      },
      "outputs": [],
      "source": [
        "#Univariate Analysis of Budget\n",
        "plt.figure(figsize=(14, 4))\n",
        "\n",
        "#histogram\n",
        "plt.subplot(1, 2, 1)\n",
        "sns.histplot(df['Budget'], kde=True, stat='density')\n",
        "plt.title('Distribution of Budget')\n",
        "plt.xlabel('Budget')\n",
        "plt.ylabel('Density')\n",
        "plt.show()\n",
        "\n",
        "#Q-Q plot\n",
        "plt.subplot(1, 2, 2)\n",
        "stats.probplot(df['Budget'], dist=\"norm\", plot=plt)\n",
        "plt.title('Q-Q Plot of Budget')\n",
        "plt.xlabel('Theoretical Quantiles')\n",
        "plt.ylabel('Ordered Values')\n",
        "\n",
        "plt.tight_layout()\n",
        "plt.show()"
      ]
    },
    {
      "cell_type": "markdown",
      "metadata": {},
      "source": [
        "Here is our graphs representing the univariate analysis of 'Budget'"
      ]
    },
    {
      "cell_type": "code",
      "execution_count": null,
      "metadata": {
        "colab": {
          "base_uri": "https://localhost:8080/",
          "height": 880
        },
        "id": "9gK_Yub-77Xa",
        "outputId": "8e1baa18-3bbd-425a-8849-ff64ee636878"
      },
      "outputs": [],
      "source": [
        "#Univariate Analysis of Runtime\n",
        "plt.figure(figsize=(14, 4))\n",
        "\n",
        "#histogram\n",
        "plt.subplot(1, 2, 1)\n",
        "sns.histplot(df['Runtime'], kde=True, stat='density')\n",
        "plt.title('Distribution of Runtime')\n",
        "plt.xlabel('Runtime')\n",
        "plt.ylabel('Density')\n",
        "plt.show()\n",
        "\n",
        "#Q-Q plot\n",
        "plt.subplot(1, 2, 2)\n",
        "stats.probplot(df['Runtime'], dist=\"norm\", plot=plt)\n",
        "plt.title('Q-Q Plot of Runtime')\n",
        "plt.xlabel('Theoretical Quantiles')\n",
        "plt.ylabel('Ordered Values')\n",
        "\n",
        "plt.tight_layout()\n",
        "plt.show()"
      ]
    },
    {
      "cell_type": "markdown",
      "metadata": {},
      "source": [
        "Here is our graphs representing the univariate analysis of 'Runtime'"
      ]
    },
    {
      "cell_type": "code",
      "execution_count": null,
      "metadata": {
        "colab": {
          "base_uri": "https://localhost:8080/",
          "height": 880
        },
        "id": "hpRTfGkz03h1",
        "outputId": "d29c9570-2774-4c98-8341-fb226e06a02f"
      },
      "outputs": [],
      "source": [
        "df['Budget'] = df['Budget'].apply(lambda x: 250000000 if x > 250000000 else x)\n",
        "\n",
        "plt.figure(figsize=(14, 4))\n",
        "\n",
        "#histogram\n",
        "plt.subplot(1, 2, 1)\n",
        "sns.histplot(df['Budget'], kde=True, stat='density')\n",
        "plt.title('Distribution of Budget')\n",
        "plt.xlabel('Budget')\n",
        "plt.ylabel('Density')\n",
        "plt.show()\n",
        "\n",
        "#Q-Q plot\n",
        "plt.subplot(1, 2, 2)\n",
        "stats.probplot(df['Budget'], dist=\"norm\", plot=plt)\n",
        "plt.title('Q-Q Plot of Budget')\n",
        "plt.xlabel('Theoretical Quantiles')\n",
        "plt.ylabel('Ordered Values')\n",
        "\n",
        "plt.tight_layout()\n",
        "plt.show()\n"
      ]
    },
    {
      "cell_type": "markdown",
      "metadata": {},
      "source": [
        "Here is our graphs representing the univariate analysis of 'Budget' after we cap the values above 250,000,000 to 250,000,000"
      ]
    },
    {
      "cell_type": "markdown",
      "metadata": {
        "id": "647IEk6c10zf"
      },
      "source": [
        "### Univariate Analysis (Categorical Variables)"
      ]
    },
    {
      "cell_type": "code",
      "execution_count": null,
      "metadata": {
        "colab": {
          "base_uri": "https://localhost:8080/"
        },
        "id": "WEZgB2BG1OzA",
        "outputId": "da74795b-3fe6-44c4-e940-d5556c46be3b"
      },
      "outputs": [],
      "source": [
        "print(\"Unique Value Count of Categorical Variables\")\n",
        "print(\"Rating:\", len(df['Rating'].unique()))\n",
        "print(\"Genre:\",len(df['Genre'].unique()))\n",
        "print(\"Director:\",len(df['Director'].unique()))\n",
        "print(\"Writer:\",len(df['Writer'].unique()))\n",
        "print(\"Star:\",len(df['Star'].unique()))\n",
        "print(\"Country:\",len(df['Country'].unique()))\n",
        "print(\"Company:\",len(df['Company'].unique()))"
      ]
    },
    {
      "cell_type": "code",
      "execution_count": null,
      "metadata": {
        "colab": {
          "base_uri": "https://localhost:8080/",
          "height": 489
        },
        "id": "Qw6i78Sq1793",
        "outputId": "ced0f693-f99e-4797-832a-8c9fb1838bdd"
      },
      "outputs": [],
      "source": [
        "score_by_rating = df.groupby(\"Rating\")[\"Score\"].mean().sort_values(ascending=True)\n",
        "\n",
        "plt.barh(score_by_rating.index, score_by_rating.values)\n",
        "plt.xlabel('Mean Score')\n",
        "plt.ylabel('Rating')\n",
        "plt.title('Mean Score by Rating')"
      ]
    },
    {
      "cell_type": "markdown",
      "metadata": {},
      "source": [
        "This horizontal bar chart displays the average scores for different content ratings of movies."
      ]
    },
    {
      "cell_type": "code",
      "execution_count": null,
      "metadata": {
        "colab": {
          "base_uri": "https://localhost:8080/",
          "height": 489
        },
        "id": "iF_Hc92t17qo",
        "outputId": "9a782939-e4c7-492b-cd68-d924b585b743"
      },
      "outputs": [],
      "source": [
        "score_by_genre = df.groupby(\"Genre\")[\"Score\"].mean().sort_values(ascending=True)[len(df['Genre'].unique()) - 10 :]\n",
        "\n",
        "plt.barh(score_by_genre.index, score_by_genre.values)\n",
        "plt.xlabel('Mean Score')\n",
        "plt.ylabel('Genre')\n",
        "plt.title('Mean Score by Genre')"
      ]
    },
    {
      "cell_type": "markdown",
      "metadata": {},
      "source": [
        "This horizontal bar chart displays the average scores for different movie genres."
      ]
    },
    {
      "cell_type": "code",
      "execution_count": null,
      "metadata": {
        "colab": {
          "base_uri": "https://localhost:8080/",
          "height": 489
        },
        "id": "rgtejCPrwUHQ",
        "outputId": "e6652c57-f349-4cf1-a1f7-ad78a88880be"
      },
      "outputs": [],
      "source": [
        "count_by_genre = df.groupby(\"Genre\")[\"Score\"].count().sort_values(ascending=True)[len(df['Genre'].unique()) - 10 :]\n",
        "\n",
        "plt.barh(count_by_genre.index, count_by_genre.values)\n",
        "plt.xlabel('Count')\n",
        "plt.ylabel('Genre')\n",
        "plt.title('Count by Genre')"
      ]
    },
    {
      "cell_type": "markdown",
      "metadata": {},
      "source": [
        "The bar chart illustrates the distribution across various genres of movies."
      ]
    },
    {
      "cell_type": "code",
      "execution_count": null,
      "metadata": {
        "colab": {
          "base_uri": "https://localhost:8080/",
          "height": 489
        },
        "id": "4TdgG6wg5ITM",
        "outputId": "8a3b0427-0dfe-45ed-df29-c9e0a90eacf4"
      },
      "outputs": [],
      "source": [
        "score_by_country = df.groupby(\"Country\")[\"Score\"].mean().sort_values(ascending=True)[len(df['Country'].unique()) - 10 :]\n",
        "\n",
        "plt.barh(score_by_country.index, score_by_country.values)\n",
        "plt.xlabel('Mean Score')\n",
        "plt.ylabel('Country')\n",
        "plt.title('Mean Score by Country')"
      ]
    },
    {
      "cell_type": "markdown",
      "metadata": {},
      "source": [
        "This horizontal bar chart displays the average scores of movies released by various countries."
      ]
    },
    {
      "cell_type": "code",
      "execution_count": null,
      "metadata": {
        "colab": {
          "base_uri": "https://localhost:8080/",
          "height": 489
        },
        "id": "OtkH2CSq5x2j",
        "outputId": "4fba28d8-2280-4997-ba69-90ba1ac29267"
      },
      "outputs": [],
      "source": [
        "count_by_country = df.groupby(\"Country\")[\"Score\"].count().sort_values(ascending=True)[len(df['Country'].unique()) - 10 :]\n",
        "\n",
        "plt.barh(count_by_country.index, count_by_country.values)\n",
        "plt.xlabel('Count')\n",
        "plt.ylabel('Country')\n",
        "plt.title('Count by Country')"
      ]
    },
    {
      "cell_type": "markdown",
      "metadata": {},
      "source": [
        "This horizontal bar chart displays the number of movies released by various countries."
      ]
    },
    {
      "cell_type": "code",
      "execution_count": null,
      "metadata": {
        "colab": {
          "base_uri": "https://localhost:8080/",
          "height": 489
        },
        "id": "jkdcKV2UvcZ4",
        "outputId": "76a7f3d8-042c-4b2b-d7f1-712d918c3922"
      },
      "outputs": [],
      "source": [
        "score_by_company = df.groupby(\"Company\")[\"Score\"].mean().sort_values(ascending=True)[len(df['Company'].unique()) - 10 :]\n",
        "\n",
        "plt.barh(score_by_company.index, score_by_company.values)\n",
        "plt.xlabel('Mean Score')\n",
        "plt.ylabel('Company')\n",
        "plt.title('Mean Score by Company')"
      ]
    },
    {
      "cell_type": "markdown",
      "metadata": {},
      "source": [
        "This horizontal bar chart displays the average score released by various companies ordered from highest to lowest."
      ]
    },
    {
      "cell_type": "code",
      "execution_count": null,
      "metadata": {
        "colab": {
          "base_uri": "https://localhost:8080/",
          "height": 489
        },
        "id": "9dSyplM5vxkX",
        "outputId": "2cd1c96f-1e78-4118-f52e-1cee9c797a9b"
      },
      "outputs": [],
      "source": [
        "score_by_company = df.groupby(\"Company\")[\"Score\"].mean().sort_values(ascending=False)[len(df['Company'].unique()) - 10 :]\n",
        "\n",
        "plt.barh(score_by_company.index, score_by_company.values)\n",
        "plt.xlabel('Mean Score')\n",
        "plt.ylabel('Company')\n",
        "plt.title('Mean Score by Company')"
      ]
    },
    {
      "cell_type": "markdown",
      "metadata": {},
      "source": [
        "This horizontal bar chart displays the average score released by various companies ordered in lowest to highest."
      ]
    },
    {
      "cell_type": "code",
      "execution_count": null,
      "metadata": {
        "colab": {
          "base_uri": "https://localhost:8080/",
          "height": 489
        },
        "id": "Ejo4mSdmv1vS",
        "outputId": "ea064a19-f6bd-44de-ebd8-d9dc1a1fc7d6"
      },
      "outputs": [],
      "source": [
        "score_by_company = df.groupby(\"Company\")[\"Score\"].count().sort_values(ascending=True)[len(df['Company'].unique()) - 10 :]\n",
        "\n",
        "plt.barh(score_by_company.index, score_by_company.values)\n",
        "plt.xlabel('Count')\n",
        "plt.ylabel('Company')\n",
        "plt.title('Count by Company')"
      ]
    },
    {
      "cell_type": "markdown",
      "metadata": {},
      "source": [
        "This horizontal bar chart displays the total count released by various companies."
      ]
    },
    {
      "cell_type": "markdown",
      "metadata": {
        "id": "vcbLv5ZjuygT"
      },
      "source": [
        "### Data Transformation\n"
      ]
    },
    {
      "cell_type": "code",
      "execution_count": null,
      "metadata": {
        "colab": {
          "base_uri": "https://localhost:8080/",
          "height": 551
        },
        "id": "lHrWpxIJ5atz",
        "outputId": "9e88230e-c5ae-44d7-ca94-a7805b467040"
      },
      "outputs": [],
      "source": [
        "# Instantiating MinMaxScaler and StandardScaler\n",
        "scaler_minmax = MinMaxScaler()\n",
        "scaler_std = StandardScaler()\n",
        "\n",
        "# Scaling the columns\n",
        "df[['Budget']] = scaler_minmax.fit_transform(df[['Budget']])\n",
        "df[['Votes', 'Gross Revenue', 'Runtime']] = scaler_std.fit_transform(df[['Votes', 'Gross Revenue', 'Runtime']])\n",
        "\n",
        "# Performing one-hot encoding on 'Rating', 'Genre', and 'Country' columns\n",
        "oneHot = pd.get_dummies(df[['Rating', 'Genre', 'Country']], columns=['Rating', 'Genre', 'Country'])\n",
        "df = pd.concat([df, oneHot], axis=1)\n",
        "df.head()\n"
      ]
    },
    {
      "cell_type": "markdown",
      "metadata": {
        "id": "a7iplva8053x"
      },
      "source": [
        "### Bivariate Analysis"
      ]
    },
    {
      "cell_type": "code",
      "execution_count": null,
      "metadata": {
        "colab": {
          "base_uri": "https://localhost:8080/",
          "height": 472
        },
        "id": "HhWUXeHd0-Al",
        "outputId": "26635518-18c3-4b7d-f897-892da9e2c3ce"
      },
      "outputs": [],
      "source": [
        "sns.lineplot(data=df, x=\"Year\", y=\"Score\")\n",
        "\n",
        "plt.title('Score Throughout the Years')\n",
        "plt.xlabel('Years')\n",
        "plt.ylabel('Score')\n",
        "\n",
        "# Show the plot\n",
        "plt.show()"
      ]
    },
    {
      "cell_type": "markdown",
      "metadata": {},
      "source": [
        "This is our graph representing the Bivariate analysis of 'Score' throughout the years"
      ]
    },
    {
      "cell_type": "code",
      "execution_count": null,
      "metadata": {
        "colab": {
          "base_uri": "https://localhost:8080/",
          "height": 699
        },
        "id": "YqSPWnMr7y-u",
        "outputId": "c7d109a3-afb3-48ab-9549-49ae9dad71a8"
      },
      "outputs": [],
      "source": [
        "correlation_matrix = df[[\"Year\", 'Score', \"Votes\", \"Budget\", \"Gross Revenue\", \"Runtime\"]].corr()\n",
        "\n",
        "plt.figure(figsize=(10, 8))\n",
        "sns.heatmap(correlation_matrix, annot=True, cmap='coolwarm', fmt=\".2f\", linewidths=.5)\n",
        "plt.title('Correlation Matrix of Numerical Variables')\n",
        "plt.show()"
      ]
    },
    {
      "cell_type": "markdown",
      "metadata": {},
      "source": [
        "This is our correlation matrix of attributes that have numerical values"
      ]
    },
    {
      "cell_type": "code",
      "execution_count": null,
      "metadata": {
        "colab": {
          "base_uri": "https://localhost:8080/",
          "height": 472
        },
        "id": "0GU3wQ3G0cbT",
        "outputId": "2fca679f-e1ec-42ff-9e20-bdcfd860308c"
      },
      "outputs": [],
      "source": [
        "from sklearn.preprocessing import PolynomialFeatures\n",
        "from sklearn import linear_model\n",
        "\n",
        "df_BGR = df[['Budget', 'Gross Revenue']]\n",
        "X_train, X_test, y_train, y_test = train_test_split(df_BGR.Budget, df_BGR.drop(['Budget'], axis=1), test_size=0.2, random_state=21)\n",
        "\n",
        "train = pd.concat([X_train, y_train], axis=1)\n",
        "train = train.sort_values(by=['Budget'])\n",
        "budget = train[['Budget']]\n",
        "grossRevenue = train[['Gross Revenue']]\n",
        "\n",
        "# 2 Degrees\n",
        "poly2 = PolynomialFeatures(degree=2, include_bias=False)\n",
        "polyX = poly2.fit_transform(budget)\n",
        "\n",
        "linear = linear_model.LinearRegression()\n",
        "linear.fit(polyX, grossRevenue)\n",
        "yhat = linear.predict(polyX)\n",
        "\n",
        "sns.scatterplot(data=df, x=\"Budget\", y=\"Gross Revenue\")\n",
        "plt.plot(budget, yhat, color=\"green\")\n",
        "plt.title(\"Polynomial Regression: Budget vs. Gross Revenue (2 Degrees)\")\n",
        "plt.xlabel('Budget')\n",
        "plt.ylabel('Gross Revenue')\n",
        "plt.show()\n",
        "\n",
        "# 3 Degrees\n",
        "poly3 = PolynomialFeatures(degree=3, include_bias=False)\n",
        "polyX = poly3.fit_transform(budget)\n",
        "\n",
        "linear = linear_model.LinearRegression()\n",
        "linear.fit(polyX, grossRevenue)\n",
        "yhat = linear.predict(polyX)\n",
        "\n",
        "sns.scatterplot(data=df, x=\"Budget\", y=\"Gross Revenue\")\n",
        "plt.plot(budget, yhat, color=\"orange\")\n",
        "plt.title(\"Polynomial Regression: Budget vs. Gross Revenue (3 Degrees)\")\n",
        "plt.xlabel('Budget')\n",
        "plt.ylabel('Gross Revenue')\n",
        "plt.show()\n",
        "\n",
        "# 3 Degrees\n",
        "poly4 = PolynomialFeatures(degree=4, include_bias=False)\n",
        "polyX = poly4.fit_transform(budget)\n",
        "\n",
        "linear = linear_model.LinearRegression()\n",
        "linear.fit(polyX, grossRevenue)\n",
        "yhat = linear.predict(polyX)\n",
        "\n",
        "sns.scatterplot(data=df, x=\"Budget\", y=\"Gross Revenue\")\n",
        "plt.plot(budget, yhat, color=\"red\")\n",
        "plt.title(\"Polynomial Regression: Budget vs. Gross Revenue (4 Degrees)\")\n",
        "plt.xlabel('Budget')\n",
        "plt.ylabel('Gross Revenue')\n",
        "plt.show()\n"
      ]
    },
    {
      "cell_type": "markdown",
      "metadata": {},
      "source": [
        "This is our graph representing the Bivariate analysis of 'Budget' vs 'Gross Reveue'"
      ]
    },
    {
      "cell_type": "code",
      "execution_count": null,
      "metadata": {
        "colab": {
          "base_uri": "https://localhost:8080/",
          "height": 472
        },
        "id": "tyD7ueX27Ud6",
        "outputId": "b03c2527-492b-4254-88ae-f2423f326fc3"
      },
      "outputs": [],
      "source": [
        "df_GRV = df[['Gross Revenue', 'Votes']]\n",
        "X_train, X_test, y_train, y_test = train_test_split(df_GRV.drop(['Votes'], axis=1), df_GRV.Votes, test_size=0.2, random_state=21)\n",
        "\n",
        "model = LinearRegression()\n",
        "# Fit model to the data\n",
        "model.fit(X_train, y_train)\n",
        "# Predict Y values using the fitted model\n",
        "Y_pred = model.predict(X_train)\n",
        "\n",
        "# Plot the regression line\n",
        "plt.plot(X_train, Y_pred, color='red', label='Scikit Linear Regression')\n",
        "sns.scatterplot(data=df, x=\"Gross Revenue\", y=\"Votes\")\n",
        "plt.title('Gross Revenue vs Votes')\n",
        "plt.xlabel('Gross Revenue')\n",
        "plt.ylabel('Votes')\n",
        "\n",
        "plt.show()"
      ]
    },
    {
      "cell_type": "markdown",
      "metadata": {},
      "source": [
        "This is our graph representing the Bivariate analysis of 'Gross Revenue' vs 'Votes'"
      ]
    },
    {
      "cell_type": "code",
      "execution_count": null,
      "metadata": {
        "colab": {
          "base_uri": "https://localhost:8080/",
          "height": 472
        },
        "id": "x63y1eaW9YzG",
        "outputId": "674b1009-cc63-452e-8dea-beaaae4b0481"
      },
      "outputs": [],
      "source": [
        "from sklearn import linear_model\n",
        "\n",
        "df_VS = df[['Votes', 'Score']]\n",
        "X_train, X_test, y_train, y_test = train_test_split(df_VS.drop(['Score'], axis=1), df_VS.Score, test_size=0.2, random_state=21)\n",
        "\n",
        "model = LinearRegression()\n",
        "# Fit model to the data\n",
        "model.fit(X_train, y_train)\n",
        "# Predict Y values using the fitted model\n",
        "Y_pred = model.predict(X_train)\n",
        "\n",
        "# Plot the regression line\n",
        "plt.plot(X_train, Y_pred, color='red', label='Scikit Linear Regression')\n",
        "sns.scatterplot(data=df, x=\"Votes\", y=\"Score\")\n",
        "plt.title('Votes vs Score')\n",
        "plt.xlabel('Votes')\n",
        "plt.ylabel('Score')\n",
        "\n",
        "plt.show()\n"
      ]
    },
    {
      "cell_type": "markdown",
      "metadata": {},
      "source": [
        "This is our graph representing the Bivariate analysis of 'Vote' vs 'Score'"
      ]
    },
    {
      "cell_type": "markdown",
      "metadata": {},
      "source": [
        "# TRAINING MODEL"
      ]
    },
    {
      "cell_type": "markdown",
      "metadata": {},
      "source": [
        "### Data Preprocessing"
      ]
    },
    {
      "cell_type": "code",
      "execution_count": 46,
      "metadata": {},
      "outputs": [
        {
          "data": {
            "text/html": [
              "<div>\n",
              "<style scoped>\n",
              "    .dataframe tbody tr th:only-of-type {\n",
              "        vertical-align: middle;\n",
              "    }\n",
              "\n",
              "    .dataframe tbody tr th {\n",
              "        vertical-align: top;\n",
              "    }\n",
              "\n",
              "    .dataframe thead th {\n",
              "        text-align: right;\n",
              "    }\n",
              "</style>\n",
              "<table border=\"1\" class=\"dataframe\">\n",
              "  <thead>\n",
              "    <tr style=\"text-align: right;\">\n",
              "      <th></th>\n",
              "      <th>Name</th>\n",
              "      <th>Rating</th>\n",
              "      <th>Genre</th>\n",
              "      <th>Year</th>\n",
              "      <th>Released</th>\n",
              "      <th>Score</th>\n",
              "      <th>Votes</th>\n",
              "      <th>Director</th>\n",
              "      <th>Writer</th>\n",
              "      <th>Star</th>\n",
              "      <th>...</th>\n",
              "      <th>Country_Spain</th>\n",
              "      <th>Country_Sweden</th>\n",
              "      <th>Country_Switzerland</th>\n",
              "      <th>Country_Taiwan</th>\n",
              "      <th>Country_Thailand</th>\n",
              "      <th>Country_United Arab Emirates</th>\n",
              "      <th>Country_United Kingdom</th>\n",
              "      <th>Country_United States</th>\n",
              "      <th>Country_West Germany</th>\n",
              "      <th>Country_Yugoslavia</th>\n",
              "    </tr>\n",
              "  </thead>\n",
              "  <tbody>\n",
              "    <tr>\n",
              "      <th>0</th>\n",
              "      <td>The Shining</td>\n",
              "      <td>R</td>\n",
              "      <td>Drama</td>\n",
              "      <td>1980</td>\n",
              "      <td>June 13, 1980 (United States)</td>\n",
              "      <td>8.400000</td>\n",
              "      <td>2.294269</td>\n",
              "      <td>Stanley Kubrick</td>\n",
              "      <td>Stephen King</td>\n",
              "      <td>Jack Nicholson</td>\n",
              "      <td>...</td>\n",
              "      <td>False</td>\n",
              "      <td>False</td>\n",
              "      <td>False</td>\n",
              "      <td>False</td>\n",
              "      <td>False</td>\n",
              "      <td>False</td>\n",
              "      <td>True</td>\n",
              "      <td>False</td>\n",
              "      <td>False</td>\n",
              "      <td>False</td>\n",
              "    </tr>\n",
              "    <tr>\n",
              "      <th>1</th>\n",
              "      <td>The Blue Lagoon</td>\n",
              "      <td>R</td>\n",
              "      <td>Adventure</td>\n",
              "      <td>1980</td>\n",
              "      <td>July 2, 1980 (United States)</td>\n",
              "      <td>5.800000</td>\n",
              "      <td>0.173770</td>\n",
              "      <td>Randal Kleiser</td>\n",
              "      <td>Henry De Vere Stacpoole</td>\n",
              "      <td>Brooke Shields</td>\n",
              "      <td>...</td>\n",
              "      <td>False</td>\n",
              "      <td>False</td>\n",
              "      <td>False</td>\n",
              "      <td>False</td>\n",
              "      <td>False</td>\n",
              "      <td>False</td>\n",
              "      <td>False</td>\n",
              "      <td>True</td>\n",
              "      <td>False</td>\n",
              "      <td>False</td>\n",
              "    </tr>\n",
              "    <tr>\n",
              "      <th>2</th>\n",
              "      <td>Star Wars: Episode V - The Empire Strikes Back</td>\n",
              "      <td>PG</td>\n",
              "      <td>Action</td>\n",
              "      <td>1980</td>\n",
              "      <td>June 20, 1980 (United States)</td>\n",
              "      <td>8.700000</td>\n",
              "      <td>2.525956</td>\n",
              "      <td>Irvin Kershner</td>\n",
              "      <td>Leigh Brackett</td>\n",
              "      <td>Mark Hamill</td>\n",
              "      <td>...</td>\n",
              "      <td>False</td>\n",
              "      <td>False</td>\n",
              "      <td>False</td>\n",
              "      <td>False</td>\n",
              "      <td>False</td>\n",
              "      <td>False</td>\n",
              "      <td>False</td>\n",
              "      <td>True</td>\n",
              "      <td>False</td>\n",
              "      <td>False</td>\n",
              "    </tr>\n",
              "    <tr>\n",
              "      <th>3</th>\n",
              "      <td>Airplane!</td>\n",
              "      <td>PG</td>\n",
              "      <td>Comedy</td>\n",
              "      <td>1980</td>\n",
              "      <td>July 2, 1980 (United States)</td>\n",
              "      <td>7.700000</td>\n",
              "      <td>1.092990</td>\n",
              "      <td>Jim Abrahams</td>\n",
              "      <td>Jim Abrahams</td>\n",
              "      <td>Robert Hays</td>\n",
              "      <td>...</td>\n",
              "      <td>False</td>\n",
              "      <td>False</td>\n",
              "      <td>False</td>\n",
              "      <td>False</td>\n",
              "      <td>False</td>\n",
              "      <td>False</td>\n",
              "      <td>False</td>\n",
              "      <td>True</td>\n",
              "      <td>False</td>\n",
              "      <td>False</td>\n",
              "    </tr>\n",
              "    <tr>\n",
              "      <th>4</th>\n",
              "      <td>Caddyshack</td>\n",
              "      <td>R</td>\n",
              "      <td>Comedy</td>\n",
              "      <td>1980</td>\n",
              "      <td>July 25, 1980 (United States)</td>\n",
              "      <td>7.300000</td>\n",
              "      <td>0.543980</td>\n",
              "      <td>Harold Ramis</td>\n",
              "      <td>Brian Doyle-Murray</td>\n",
              "      <td>Chevy Chase</td>\n",
              "      <td>...</td>\n",
              "      <td>False</td>\n",
              "      <td>False</td>\n",
              "      <td>False</td>\n",
              "      <td>False</td>\n",
              "      <td>False</td>\n",
              "      <td>False</td>\n",
              "      <td>False</td>\n",
              "      <td>True</td>\n",
              "      <td>False</td>\n",
              "      <td>False</td>\n",
              "    </tr>\n",
              "    <tr>\n",
              "      <th>...</th>\n",
              "      <td>...</td>\n",
              "      <td>...</td>\n",
              "      <td>...</td>\n",
              "      <td>...</td>\n",
              "      <td>...</td>\n",
              "      <td>...</td>\n",
              "      <td>...</td>\n",
              "      <td>...</td>\n",
              "      <td>...</td>\n",
              "      <td>...</td>\n",
              "      <td>...</td>\n",
              "      <td>...</td>\n",
              "      <td>...</td>\n",
              "      <td>...</td>\n",
              "      <td>...</td>\n",
              "      <td>...</td>\n",
              "      <td>...</td>\n",
              "      <td>...</td>\n",
              "      <td>...</td>\n",
              "      <td>...</td>\n",
              "      <td>...</td>\n",
              "    </tr>\n",
              "    <tr>\n",
              "      <th>7648</th>\n",
              "      <td>Bad Boys for Life</td>\n",
              "      <td>R</td>\n",
              "      <td>Action</td>\n",
              "      <td>2020</td>\n",
              "      <td>January 17, 2020 (United States)</td>\n",
              "      <td>6.600000</td>\n",
              "      <td>0.739239</td>\n",
              "      <td>Adil El Arbi</td>\n",
              "      <td>Peter Craig</td>\n",
              "      <td>Will Smith</td>\n",
              "      <td>...</td>\n",
              "      <td>False</td>\n",
              "      <td>False</td>\n",
              "      <td>False</td>\n",
              "      <td>False</td>\n",
              "      <td>False</td>\n",
              "      <td>False</td>\n",
              "      <td>False</td>\n",
              "      <td>True</td>\n",
              "      <td>False</td>\n",
              "      <td>False</td>\n",
              "    </tr>\n",
              "    <tr>\n",
              "      <th>7649</th>\n",
              "      <td>Sonic the Hedgehog</td>\n",
              "      <td>PG</td>\n",
              "      <td>Action</td>\n",
              "      <td>2020</td>\n",
              "      <td>February 14, 2020 (United States)</td>\n",
              "      <td>6.500000</td>\n",
              "      <td>0.501529</td>\n",
              "      <td>Jeff Fowler</td>\n",
              "      <td>Pat Casey</td>\n",
              "      <td>Ben Schwartz</td>\n",
              "      <td>...</td>\n",
              "      <td>False</td>\n",
              "      <td>False</td>\n",
              "      <td>False</td>\n",
              "      <td>False</td>\n",
              "      <td>False</td>\n",
              "      <td>False</td>\n",
              "      <td>False</td>\n",
              "      <td>True</td>\n",
              "      <td>False</td>\n",
              "      <td>False</td>\n",
              "    </tr>\n",
              "    <tr>\n",
              "      <th>7650</th>\n",
              "      <td>Dolittle</td>\n",
              "      <td>PG</td>\n",
              "      <td>Adventure</td>\n",
              "      <td>2020</td>\n",
              "      <td>January 17, 2020 (United States)</td>\n",
              "      <td>5.600000</td>\n",
              "      <td>0.029252</td>\n",
              "      <td>Stephen Gaghan</td>\n",
              "      <td>Stephen Gaghan</td>\n",
              "      <td>Robert Downey Jr.</td>\n",
              "      <td>...</td>\n",
              "      <td>False</td>\n",
              "      <td>False</td>\n",
              "      <td>False</td>\n",
              "      <td>False</td>\n",
              "      <td>False</td>\n",
              "      <td>False</td>\n",
              "      <td>False</td>\n",
              "      <td>True</td>\n",
              "      <td>False</td>\n",
              "      <td>False</td>\n",
              "    </tr>\n",
              "    <tr>\n",
              "      <th>7651</th>\n",
              "      <td>The Call of the Wild</td>\n",
              "      <td>PG</td>\n",
              "      <td>Adventure</td>\n",
              "      <td>2020</td>\n",
              "      <td>February 21, 2020 (United States)</td>\n",
              "      <td>6.800000</td>\n",
              "      <td>-0.132540</td>\n",
              "      <td>Chris Sanders</td>\n",
              "      <td>Michael Green</td>\n",
              "      <td>Harrison Ford</td>\n",
              "      <td>...</td>\n",
              "      <td>False</td>\n",
              "      <td>False</td>\n",
              "      <td>False</td>\n",
              "      <td>False</td>\n",
              "      <td>False</td>\n",
              "      <td>False</td>\n",
              "      <td>False</td>\n",
              "      <td>False</td>\n",
              "      <td>False</td>\n",
              "      <td>False</td>\n",
              "    </tr>\n",
              "    <tr>\n",
              "      <th>7652</th>\n",
              "      <td>The Eight Hundred</td>\n",
              "      <td>Not Rated</td>\n",
              "      <td>Action</td>\n",
              "      <td>2020</td>\n",
              "      <td>August 28, 2020 (United States)</td>\n",
              "      <td>6.800000</td>\n",
              "      <td>-1.649782</td>\n",
              "      <td>Hu Guan</td>\n",
              "      <td>Hu Guan</td>\n",
              "      <td>Zhi-zhong Huang</td>\n",
              "      <td>...</td>\n",
              "      <td>False</td>\n",
              "      <td>False</td>\n",
              "      <td>False</td>\n",
              "      <td>False</td>\n",
              "      <td>False</td>\n",
              "      <td>False</td>\n",
              "      <td>False</td>\n",
              "      <td>False</td>\n",
              "      <td>False</td>\n",
              "      <td>False</td>\n",
              "    </tr>\n",
              "  </tbody>\n",
              "</table>\n",
              "<p>5336 rows × 90 columns</p>\n",
              "</div>"
            ],
            "text/plain": [
              "                                                Name     Rating      Genre  \\\n",
              "0                                        The Shining          R      Drama   \n",
              "1                                    The Blue Lagoon          R  Adventure   \n",
              "2     Star Wars: Episode V - The Empire Strikes Back         PG     Action   \n",
              "3                                          Airplane!         PG     Comedy   \n",
              "4                                         Caddyshack          R     Comedy   \n",
              "...                                              ...        ...        ...   \n",
              "7648                               Bad Boys for Life          R     Action   \n",
              "7649                              Sonic the Hedgehog         PG     Action   \n",
              "7650                                        Dolittle         PG  Adventure   \n",
              "7651                            The Call of the Wild         PG  Adventure   \n",
              "7652                               The Eight Hundred  Not Rated     Action   \n",
              "\n",
              "      Year                           Released    Score     Votes  \\\n",
              "0     1980      June 13, 1980 (United States) 8.400000  2.294269   \n",
              "1     1980       July 2, 1980 (United States) 5.800000  0.173770   \n",
              "2     1980      June 20, 1980 (United States) 8.700000  2.525956   \n",
              "3     1980       July 2, 1980 (United States) 7.700000  1.092990   \n",
              "4     1980      July 25, 1980 (United States) 7.300000  0.543980   \n",
              "...    ...                                ...      ...       ...   \n",
              "7648  2020   January 17, 2020 (United States) 6.600000  0.739239   \n",
              "7649  2020  February 14, 2020 (United States) 6.500000  0.501529   \n",
              "7650  2020   January 17, 2020 (United States) 5.600000  0.029252   \n",
              "7651  2020  February 21, 2020 (United States) 6.800000 -0.132540   \n",
              "7652  2020    August 28, 2020 (United States) 6.800000 -1.649782   \n",
              "\n",
              "             Director                   Writer               Star  ...  \\\n",
              "0     Stanley Kubrick             Stephen King     Jack Nicholson  ...   \n",
              "1      Randal Kleiser  Henry De Vere Stacpoole     Brooke Shields  ...   \n",
              "2      Irvin Kershner           Leigh Brackett        Mark Hamill  ...   \n",
              "3        Jim Abrahams             Jim Abrahams        Robert Hays  ...   \n",
              "4        Harold Ramis       Brian Doyle-Murray        Chevy Chase  ...   \n",
              "...               ...                      ...                ...  ...   \n",
              "7648     Adil El Arbi              Peter Craig         Will Smith  ...   \n",
              "7649      Jeff Fowler                Pat Casey       Ben Schwartz  ...   \n",
              "7650   Stephen Gaghan           Stephen Gaghan  Robert Downey Jr.  ...   \n",
              "7651    Chris Sanders            Michael Green      Harrison Ford  ...   \n",
              "7652          Hu Guan                  Hu Guan    Zhi-zhong Huang  ...   \n",
              "\n",
              "     Country_Spain  Country_Sweden  Country_Switzerland Country_Taiwan  \\\n",
              "0            False           False                False          False   \n",
              "1            False           False                False          False   \n",
              "2            False           False                False          False   \n",
              "3            False           False                False          False   \n",
              "4            False           False                False          False   \n",
              "...            ...             ...                  ...            ...   \n",
              "7648         False           False                False          False   \n",
              "7649         False           False                False          False   \n",
              "7650         False           False                False          False   \n",
              "7651         False           False                False          False   \n",
              "7652         False           False                False          False   \n",
              "\n",
              "      Country_Thailand  Country_United Arab Emirates  Country_United Kingdom  \\\n",
              "0                False                         False                    True   \n",
              "1                False                         False                   False   \n",
              "2                False                         False                   False   \n",
              "3                False                         False                   False   \n",
              "4                False                         False                   False   \n",
              "...                ...                           ...                     ...   \n",
              "7648             False                         False                   False   \n",
              "7649             False                         False                   False   \n",
              "7650             False                         False                   False   \n",
              "7651             False                         False                   False   \n",
              "7652             False                         False                   False   \n",
              "\n",
              "      Country_United States  Country_West Germany  Country_Yugoslavia  \n",
              "0                     False                 False               False  \n",
              "1                      True                 False               False  \n",
              "2                      True                 False               False  \n",
              "3                      True                 False               False  \n",
              "4                      True                 False               False  \n",
              "...                     ...                   ...                 ...  \n",
              "7648                   True                 False               False  \n",
              "7649                   True                 False               False  \n",
              "7650                   True                 False               False  \n",
              "7651                  False                 False               False  \n",
              "7652                  False                 False               False  \n",
              "\n",
              "[5336 rows x 90 columns]"
            ]
          },
          "execution_count": 46,
          "metadata": {},
          "output_type": "execute_result"
        }
      ],
      "source": [
        "import pandas as pd\n",
        "from sklearn.preprocessing import MinMaxScaler, OneHotEncoder\n",
        "from sklearn.model_selection import train_test_split\n",
        "\n",
        "# # Separate features and the target variable\n",
        "# # Assuming 'genre' as the target variable for this exercise\n",
        "# X_movies = df.drop('Genre', axis=1)\n",
        "# y_movies = df['Genre']\n",
        "\n",
        "# # Dropping non-numeric columns to simplify the input features for neural network training\n",
        "# X_movies_numeric = X_movies.select_dtypes(include=['float64', 'int64'])\n",
        "\n",
        "# # Apply one-hot encoding to the target variable (genre)\n",
        "# encoder_movies = OneHotEncoder()\n",
        "# y_movies_encoded = encoder_movies.fit_transform(y_movies.values.reshape(-1, 1)).toarray()\n",
        "\n",
        "# # Apply min-max normalization to the features\n",
        "# scaler_movies = MinMaxScaler()\n",
        "# X_movies_scaled = scaler_movies.fit_transform(X_movies_numeric)\n",
        "\n",
        "# # Now, X_movies_scaled and y_movies_encoded are ready for the neural network training process\n",
        "# df\n",
        "\n",
        "# Selecting the required columns for features and target variable\n",
        "X_movies = df[['Budget', 'Gross Revenue']]  # Features: budget and gross revenue\n",
        "y_movies = df['Genre']  # Target variable: genre\n",
        "\n",
        "# Apply one-hot encoding to the target variable (genre)\n",
        "encoder_movies = OneHotEncoder()\n",
        "y_movies_encoded = encoder_movies.fit_transform(y_movies.values.reshape(-1, 1)).toarray()\n",
        "\n",
        "# Apply min-max normalization to the 'budget' and 'gross' features\n",
        "scaler_movies = MinMaxScaler()\n",
        "X_movies_scaled = scaler_movies.fit_transform(X_movies)\n",
        "\n",
        "df"
      ]
    },
    {
      "cell_type": "markdown",
      "metadata": {},
      "source": [
        "### Training and Testing the Neural Network"
      ]
    },
    {
      "cell_type": "code",
      "execution_count": null,
      "metadata": {},
      "outputs": [],
      "source": [
        "# Split the data into training and testing sets with a 90:10 ratio\n",
        "X_train, X_test, y_train, y_test = train_test_split(X_movies_scaled, y_movies_encoded, test_size=0.1, random_state=42)\n",
        "\n",
        "# Define the model\n",
        "model = Sequential([\n",
        "    Dense(12, input_dim=X_train.shape[1], activation='sigmoid'),\n",
        "    Dense(12, activation='sigmoid'),\n",
        "    Dense(12, activation='sigmoid'),\n",
        "    Dense(12, activation='sigmoid'),\n",
        "    Dense(y_train.shape[1], activation='softmax')  # Number of output nodes = number of classes\n",
        "])\n",
        "\n",
        "# Compile the model with Stochastic Gradient Descent optimizer\n",
        "optimizer = SGD(learning_rate=0.3)\n",
        "model.compile(optimizer=optimizer, loss='categorical_crossentropy', metrics=['accuracy', 'mse'])\n",
        "\n",
        "# Train the model\n",
        "history = model.fit(X_train, y_train, epochs=100, validation_split=0.1, verbose=1)\n",
        "\n",
        "# Evaluate the model on the test set\n",
        "y_pred = model.predict(X_test)\n",
        "y_pred_classes = np.argmax(y_pred, axis=1)\n",
        "y_test_classes = np.argmax(y_test, axis=1)\n",
        "\n",
        "# Calculate metrics\n",
        "cm = confusion_matrix(y_test_classes, y_pred_classes)\n",
        "acc = accuracy_score(y_test_classes, y_pred_classes)\n",
        "mse = mean_squared_error(y_test, y_pred)\n",
        "precision = precision_score(y_test_classes, y_pred_classes, average='weighted', zero_division=0)\n",
        "recall = recall_score(y_test_classes, y_pred_classes, average='weighted', zero_division=0)\n",
        "\n",
        "# Output the metrics\n",
        "print(\"Confusion Matrix:\", cm)\n",
        "print(\"Accuracy:\", acc)\n",
        "print(\"MSE:\", mse)\n",
        "print(\"Precision:\", precision)\n",
        "print(\"Recall:\", recall)"
      ]
    },
    {
      "cell_type": "markdown",
      "metadata": {},
      "source": [
        "### k-fold Cross Validation"
      ]
    },
    {
      "cell_type": "code",
      "execution_count": null,
      "metadata": {},
      "outputs": [],
      "source": [
        "# Function to build the model, adapted for the Kaggle movie dataset\n",
        "def build_movie_model():\n",
        "    model = Sequential([\n",
        "        Dense(12, input_dim=X_movies_scaled.shape[1], activation='sigmoid'),\n",
        "        Dense(12, activation='sigmoid'),\n",
        "        Dense(12, activation='sigmoid'),\n",
        "        Dense(y_movies_encoded.shape[1], activation='sigmoid')  # Output layer nodes = number of classes\n",
        "    ])\n",
        "    model.compile(optimizer=SGD(learning_rate=0.3), loss='categorical_crossentropy', metrics=['accuracy', 'mse'])\n",
        "    return model\n",
        "\n",
        "# Wrap the Keras model with KerasClassifier\n",
        "estimator_movies = KerasClassifier(model=build_movie_model, epochs=100, batch_size=10, verbose=1)  # Adjust verbosity as needed\n",
        "\n",
        "# Define the cross-validation strategy\n",
        "kfold_movies = RepeatedKFold(n_splits=10, n_repeats=1, random_state=42)\n",
        "\n",
        "# Perform cross-validation for accuracy and MSE\n",
        "results_movies = cross_validate(estimator_movies, X_movies_scaled, y_movies_encoded, cv=kfold_movies, scoring=['accuracy', 'neg_mean_squared_error'], n_jobs=1)\n",
        "\n",
        "# Output results\n",
        "print(\"Cross-validation results:\")\n",
        "print(results_movies)"
      ]
    },
    {
      "cell_type": "code",
      "execution_count": null,
      "metadata": {},
      "outputs": [],
      "source": [
        "# Assuming 'results_movies' contains the cross-validation results from the previous step\n",
        "cv_accuracy_movies = results_movies['test_accuracy']\n",
        "cv_mse_movies = -1 * results_movies['test_neg_mean_squared_error']  # Multiply by -1 to make MSE positive\n",
        "\n",
        "# Print accuracy and MSE values for each fold\n",
        "for i in range(len(cv_accuracy_movies)):\n",
        "    print(f\"Fold {i+1}: Accuracy = {cv_accuracy_movies[i]}, MSE = {cv_mse_movies[i]}\")\n",
        "\n",
        "# Print the overall average accuracy and MSE for the Kaggle movie dataset\n",
        "print(f\"Overall Average Accuracy: {np.mean(cv_accuracy_movies)}\")\n",
        "print(f\"Overall Average MSE: {np.mean(cv_mse_movies)}\")\n"
      ]
    },
    {
      "cell_type": "markdown",
      "metadata": {},
      "source": [
        "### Hyperparameter Tuning"
      ]
    },
    {
      "cell_type": "code",
      "execution_count": null,
      "metadata": {},
      "outputs": [
        {
          "name": "stdout",
          "output_type": "stream",
          "text": [
            "Trial 60 Complete [00h 00m 05s]\n",
            "val_accuracy: 0.2931392788887024\n",
            "\n",
            "Best val_accuracy So Far: 0.2931392788887024\n",
            "Total elapsed time: 00h 31m 13s\n",
            "\n",
            "The optimal number of units in the first hidden layer is 312\n",
            "with an optimal learning rate of 0.00020221406050328463.\n",
            "\n",
            "Epoch 1/50\n",
            "151/151 [==============================] - 1s 3ms/step - loss: 2.4933 - accuracy: 0.2376 - val_loss: 2.4117 - val_accuracy: 0.2790\n",
            "Epoch 2/50\n",
            "151/151 [==============================] - 0s 2ms/step - loss: 2.3668 - accuracy: 0.2778 - val_loss: 2.3026 - val_accuracy: 0.2790\n",
            "Epoch 3/50\n",
            "151/151 [==============================] - 0s 2ms/step - loss: 2.2763 - accuracy: 0.2778 - val_loss: 2.2243 - val_accuracy: 0.2790\n",
            "Epoch 4/50\n",
            "151/151 [==============================] - 1s 4ms/step - loss: 2.2106 - accuracy: 0.2778 - val_loss: 2.1651 - val_accuracy: 0.2790\n",
            "Epoch 5/50\n",
            "151/151 [==============================] - 0s 3ms/step - loss: 2.1601 - accuracy: 0.2778 - val_loss: 2.1198 - val_accuracy: 0.2790\n",
            "Epoch 6/50\n",
            "151/151 [==============================] - 0s 3ms/step - loss: 2.1210 - accuracy: 0.2778 - val_loss: 2.0841 - val_accuracy: 0.2790\n",
            "Epoch 7/50\n",
            "151/151 [==============================] - 0s 2ms/step - loss: 2.0899 - accuracy: 0.2778 - val_loss: 2.0560 - val_accuracy: 0.2790\n",
            "Epoch 8/50\n",
            "151/151 [==============================] - 0s 2ms/step - loss: 2.0653 - accuracy: 0.2778 - val_loss: 2.0333 - val_accuracy: 0.2790\n",
            "Epoch 9/50\n",
            "151/151 [==============================] - 0s 2ms/step - loss: 2.0454 - accuracy: 0.2778 - val_loss: 2.0149 - val_accuracy: 0.2790\n",
            "Epoch 10/50\n",
            "151/151 [==============================] - 0s 2ms/step - loss: 2.0292 - accuracy: 0.2778 - val_loss: 2.0002 - val_accuracy: 0.2790\n",
            "Epoch 11/50\n",
            "151/151 [==============================] - 0s 2ms/step - loss: 2.0162 - accuracy: 0.2778 - val_loss: 1.9884 - val_accuracy: 0.2790\n",
            "Epoch 12/50\n",
            "151/151 [==============================] - 0s 2ms/step - loss: 2.0056 - accuracy: 0.2778 - val_loss: 1.9786 - val_accuracy: 0.2790\n",
            "Epoch 13/50\n",
            "151/151 [==============================] - 0s 2ms/step - loss: 1.9968 - accuracy: 0.2778 - val_loss: 1.9704 - val_accuracy: 0.2790\n",
            "Epoch 14/50\n",
            "151/151 [==============================] - 0s 3ms/step - loss: 1.9894 - accuracy: 0.2778 - val_loss: 1.9636 - val_accuracy: 0.2790\n",
            "Epoch 15/50\n",
            "151/151 [==============================] - 0s 2ms/step - loss: 1.9832 - accuracy: 0.2778 - val_loss: 1.9579 - val_accuracy: 0.2790\n",
            "Epoch 16/50\n",
            "151/151 [==============================] - 0s 2ms/step - loss: 1.9780 - accuracy: 0.2778 - val_loss: 1.9531 - val_accuracy: 0.2790\n",
            "Epoch 17/50\n",
            "151/151 [==============================] - 0s 2ms/step - loss: 1.9734 - accuracy: 0.2778 - val_loss: 1.9488 - val_accuracy: 0.2790\n",
            "Epoch 18/50\n",
            "151/151 [==============================] - 0s 2ms/step - loss: 1.9692 - accuracy: 0.2778 - val_loss: 1.9451 - val_accuracy: 0.2790\n",
            "Epoch 19/50\n",
            "151/151 [==============================] - 0s 2ms/step - loss: 1.9657 - accuracy: 0.2778 - val_loss: 1.9415 - val_accuracy: 0.2790\n",
            "Epoch 20/50\n",
            "151/151 [==============================] - 0s 2ms/step - loss: 1.9624 - accuracy: 0.2778 - val_loss: 1.9385 - val_accuracy: 0.2790\n",
            "Epoch 21/50\n",
            "151/151 [==============================] - 0s 2ms/step - loss: 1.9593 - accuracy: 0.2778 - val_loss: 1.9357 - val_accuracy: 0.2790\n",
            "Epoch 22/50\n",
            "151/151 [==============================] - 0s 2ms/step - loss: 1.9566 - accuracy: 0.2778 - val_loss: 1.9331 - val_accuracy: 0.2790\n",
            "Epoch 23/50\n",
            "151/151 [==============================] - 0s 2ms/step - loss: 1.9542 - accuracy: 0.2778 - val_loss: 1.9306 - val_accuracy: 0.2790\n",
            "Epoch 24/50\n",
            "151/151 [==============================] - 0s 2ms/step - loss: 1.9519 - accuracy: 0.2778 - val_loss: 1.9285 - val_accuracy: 0.2790\n",
            "Epoch 25/50\n",
            "151/151 [==============================] - 0s 2ms/step - loss: 1.9498 - accuracy: 0.2778 - val_loss: 1.9265 - val_accuracy: 0.2790\n",
            "Epoch 26/50\n",
            "151/151 [==============================] - 0s 2ms/step - loss: 1.9479 - accuracy: 0.2778 - val_loss: 1.9246 - val_accuracy: 0.2790\n",
            "Epoch 27/50\n",
            "151/151 [==============================] - 1s 4ms/step - loss: 1.9461 - accuracy: 0.2778 - val_loss: 1.9229 - val_accuracy: 0.2790\n",
            "Epoch 28/50\n",
            "151/151 [==============================] - 0s 2ms/step - loss: 1.9444 - accuracy: 0.2778 - val_loss: 1.9213 - val_accuracy: 0.2790\n",
            "Epoch 29/50\n",
            "151/151 [==============================] - 0s 2ms/step - loss: 1.9428 - accuracy: 0.2778 - val_loss: 1.9197 - val_accuracy: 0.2790\n",
            "Epoch 30/50\n",
            "151/151 [==============================] - 0s 2ms/step - loss: 1.9414 - accuracy: 0.2778 - val_loss: 1.9184 - val_accuracy: 0.2790\n",
            "Epoch 31/50\n",
            "151/151 [==============================] - 0s 2ms/step - loss: 1.9400 - accuracy: 0.2778 - val_loss: 1.9172 - val_accuracy: 0.2790\n",
            "Epoch 32/50\n",
            "151/151 [==============================] - 0s 2ms/step - loss: 1.9387 - accuracy: 0.2778 - val_loss: 1.9159 - val_accuracy: 0.2790\n",
            "Epoch 33/50\n",
            "151/151 [==============================] - 0s 2ms/step - loss: 1.9375 - accuracy: 0.2778 - val_loss: 1.9147 - val_accuracy: 0.2790\n",
            "Epoch 34/50\n",
            "151/151 [==============================] - 0s 2ms/step - loss: 1.9364 - accuracy: 0.2778 - val_loss: 1.9137 - val_accuracy: 0.2790\n",
            "Epoch 35/50\n",
            "151/151 [==============================] - 0s 2ms/step - loss: 1.9353 - accuracy: 0.2778 - val_loss: 1.9126 - val_accuracy: 0.2790\n",
            "Epoch 36/50\n",
            "151/151 [==============================] - 0s 2ms/step - loss: 1.9343 - accuracy: 0.2778 - val_loss: 1.9116 - val_accuracy: 0.2790\n",
            "Epoch 37/50\n",
            "151/151 [==============================] - 0s 2ms/step - loss: 1.9334 - accuracy: 0.2778 - val_loss: 1.9106 - val_accuracy: 0.2790\n",
            "Epoch 38/50\n",
            "151/151 [==============================] - 0s 2ms/step - loss: 1.9324 - accuracy: 0.2778 - val_loss: 1.9097 - val_accuracy: 0.2790\n",
            "Epoch 39/50\n",
            "151/151 [==============================] - 0s 2ms/step - loss: 1.9316 - accuracy: 0.2778 - val_loss: 1.9088 - val_accuracy: 0.2790\n",
            "Epoch 40/50\n",
            "151/151 [==============================] - 0s 2ms/step - loss: 1.9307 - accuracy: 0.2778 - val_loss: 1.9080 - val_accuracy: 0.2790\n",
            "Epoch 41/50\n",
            "151/151 [==============================] - 0s 2ms/step - loss: 1.9300 - accuracy: 0.2778 - val_loss: 1.9072 - val_accuracy: 0.2790\n",
            "Epoch 42/50\n",
            "151/151 [==============================] - 0s 2ms/step - loss: 1.9292 - accuracy: 0.2778 - val_loss: 1.9066 - val_accuracy: 0.2790\n",
            "Epoch 43/50\n",
            "151/151 [==============================] - 0s 2ms/step - loss: 1.9286 - accuracy: 0.2778 - val_loss: 1.9058 - val_accuracy: 0.2790\n",
            "Epoch 44/50\n",
            "151/151 [==============================] - 0s 2ms/step - loss: 1.9279 - accuracy: 0.2778 - val_loss: 1.9054 - val_accuracy: 0.2790\n",
            "Epoch 45/50\n",
            "151/151 [==============================] - 0s 2ms/step - loss: 1.9272 - accuracy: 0.2778 - val_loss: 1.9047 - val_accuracy: 0.2790\n",
            "Epoch 46/50\n",
            "151/151 [==============================] - 0s 2ms/step - loss: 1.9266 - accuracy: 0.2778 - val_loss: 1.9041 - val_accuracy: 0.2790\n",
            "Epoch 47/50\n",
            "151/151 [==============================] - 0s 2ms/step - loss: 1.9260 - accuracy: 0.2778 - val_loss: 1.9035 - val_accuracy: 0.2790\n",
            "Epoch 48/50\n",
            "151/151 [==============================] - 0s 2ms/step - loss: 1.9255 - accuracy: 0.2778 - val_loss: 1.9030 - val_accuracy: 0.2790\n",
            "Epoch 49/50\n",
            "151/151 [==============================] - 0s 3ms/step - loss: 1.9249 - accuracy: 0.2778 - val_loss: 1.9024 - val_accuracy: 0.2790\n",
            "Epoch 50/50\n",
            "151/151 [==============================] - 1s 4ms/step - loss: 1.9244 - accuracy: 0.2778 - val_loss: 1.9020 - val_accuracy: 0.2790\n"
          ]
        }
      ],
      "source": [
        "# Split the data\n",
        "X_train_hp, X_test_hp, y_train_hp, y_test_hp = train_test_split(X_movies_scaled, y_movies_encoded, test_size=0.1, random_state=42)\n",
        "def build_hp_model(hp):\n",
        "    model = Sequential()\n",
        "    model.add(Dense(units=hp.Int('units', min_value=12, max_value=512, step=100),\n",
        "                    activation='sigmoid',\n",
        "                    input_dim=X_train_hp.shape[1]))\n",
        "    model.add(Dense(units=hp.Int('units_layer2', min_value=12, max_value=512, step=100), activation='sigmoid'))\n",
        "    model.add(Dense(units=hp.Int('units_layer3', min_value=12, max_value=512, step=100), activation='sigmoid'))\n",
        "    model.add(Dense(y_train_hp.shape[1], activation='sigmoid'))  # Adapted for multi-class classification\n",
        "\n",
        "    # Tune the learning rate for the optimizer\n",
        "    learning_rate = hp.Float('learning_rate', min_value=1e-4, max_value=1e-2, sampling='log')\n",
        "\n",
        "    model.compile(optimizer=SGD(learning_rate=learning_rate),\n",
        "                  loss='categorical_crossentropy',\n",
        "                  metrics=['accuracy'])\n",
        "\n",
        "    return model\n",
        "# Define the tuner\n",
        "tuner = kt.Hyperband(\n",
        "    build_hp_model,\n",
        "    objective='val_accuracy',\n",
        "    max_epochs=10,\n",
        "    hyperband_iterations=15,\n",
        "    directory='tuner_results',\n",
        "    project_name='kaggle_movie_tuning'\n",
        ")\n",
        "\n",
        "# Define the tuner\n",
        "# tuner = kt.GridSearch(\n",
        "#     hypermodel=build_hp_model,\n",
        "#     objective='val_accuracy',\n",
        "#     max_trials=10,\n",
        "#     executions_per_trial=3,\n",
        "#     seed=15,\n",
        "#     tune_new_entries=True,\n",
        "#     allow_new_entries=True,\n",
        "#     directory='tuner_results',\n",
        "#     project_name='keras_tuner_project'\n",
        "# )\n",
        "\n",
        "# Run the hyperparameter search\n",
        "tuner.search(X_train_hp, y_train_hp, epochs=50, validation_split=0.1)\n",
        "\n",
        "# Get the optimal hyperparameters\n",
        "best_hps = tuner.get_best_hyperparameters()[0]\n",
        "\n",
        "print(f\"\"\"\n",
        "The optimal number of units in the first hidden layer is {best_hps.get('units')}\n",
        "with an optimal learning rate of {best_hps.get('learning_rate')}.\n",
        "\"\"\")\n",
        "\n",
        "# Build the model with the optimal hyperparameters and evaluate it\n",
        "best_model = tuner.hypermodel.build(best_hps)\n",
        "history = best_model.fit(X_train_hp, y_train_hp, epochs=50, validation_data=(X_test_hp, y_test_hp))"
      ]
    },
    {
      "cell_type": "markdown",
      "metadata": {},
      "source": [
        "# Evaluate our model compare training vs test error"
      ]
    },
    {
      "cell_type": "markdown",
      "metadata": {},
      "source": [
        "# Model fit in the fitting graph"
      ]
    },
    {
      "cell_type": "markdown",
      "metadata": {},
      "source": [
        "# Next 2 models"
      ]
    },
    {
      "cell_type": "markdown",
      "metadata": {},
      "source": [
        "# Conclusion"
      ]
    },
    {
      "cell_type": "markdown",
      "metadata": {},
      "source": [
        "## What is the conclusion of your 1st model?"
      ]
    },
    {
      "cell_type": "markdown",
      "metadata": {},
      "source": [
        "## What can be done to possibly improve it?"
      ]
    },
    {
      "cell_type": "markdown",
      "metadata": {},
      "source": []
    }
  ],
  "metadata": {
    "colab": {
      "provenance": []
    },
    "kernelspec": {
      "display_name": "Python 3.9.4 64-bit",
      "language": "python",
      "name": "python3"
    },
    "language_info": {
      "codemirror_mode": {
        "name": "ipython",
        "version": 3
      },
      "file_extension": ".py",
      "mimetype": "text/x-python",
      "name": "python",
      "nbconvert_exporter": "python",
      "pygments_lexer": "ipython3",
      "version": "3.9.4"
    },
    "vscode": {
      "interpreter": {
        "hash": "aee8b7b246df8f9039afb4144a1f6fd8d2ca17a180786b69acc140d282b71a49"
      }
    }
  },
  "nbformat": 4,
  "nbformat_minor": 0
}
